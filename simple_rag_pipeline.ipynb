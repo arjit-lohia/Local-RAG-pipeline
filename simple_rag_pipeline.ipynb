{
 "cells": [
  {
   "cell_type": "code",
   "execution_count": 1,
   "id": "b82b617c",
   "metadata": {},
   "outputs": [
    {
     "name": "stdout",
     "output_type": "stream",
     "text": [
      "File human-nutrition-text.pdf exists\n"
     ]
    }
   ],
   "source": [
    "import os\n",
    "import requests\n",
    "\n",
    "pdf_path = \"human-nutrition-text.pdf\"\n",
    "\n",
    "if not os.path.exists(pdf_path):\n",
    "    print(f\"[INFO] File doesn't exist, downloading ...\")\n",
    "    url = \"https://pressbooks.oer.hawaii.edu/humannutrition2/open/download?type=pdf\"\n",
    "    filename = pdf_path\n",
    "    response = requests.get(url)\n",
    "    if response.status_code == 200:\n",
    "        with open(filename, \"wb\") as file:\n",
    "            file.write(response.content)\n",
    "        print(f\"[INFO] The file has been downloaded and saved as {filename}\")\n",
    "    else:\n",
    "        print(f\"[INFO] Failed to download the file. Status code: {response.status_code}\")\n",
    "else:\n",
    "    print(f\"File {pdf_path} exists\")"
   ]
  },
  {
   "cell_type": "code",
   "execution_count": 2,
   "id": "f45f225d",
   "metadata": {},
   "outputs": [
    {
     "data": {
      "application/vnd.jupyter.widget-view+json": {
       "model_id": "1575b71d486e497b81238adefcedbfbc",
       "version_major": 2,
       "version_minor": 0
      },
      "text/plain": [
       "0it [00:00, ?it/s]"
      ]
     },
     "metadata": {},
     "output_type": "display_data"
    },
    {
     "data": {
      "text/plain": [
       "[{'page_number': -41,\n",
       "  'page_char_count': 29,\n",
       "  'page_word_count': 4,\n",
       "  'page_sentence_count_raw': 1,\n",
       "  'page_token_count': 7.25,\n",
       "  'text': 'Human Nutrition: 2020 Edition'},\n",
       " {'page_number': -40,\n",
       "  'page_char_count': 0,\n",
       "  'page_word_count': 1,\n",
       "  'page_sentence_count_raw': 1,\n",
       "  'page_token_count': 0.0,\n",
       "  'text': ''}]"
      ]
     },
     "execution_count": 2,
     "metadata": {},
     "output_type": "execute_result"
    }
   ],
   "source": [
    "import fitz\n",
    "from tqdm.auto import tqdm\n",
    "\n",
    "def text_formatter(text: str) -> str:\n",
    "    \"\"\" Performs minor formatting on text.\"\"\"\n",
    "    cleaned_text = text.replace(\"\\n\", \" \").strip()\n",
    "    return cleaned_text\n",
    "\n",
    "def open_and_read_pdf(pdf_path: str) -> list[dict]:\n",
    "    doc = fitz.open(pdf_path)\n",
    "    pages_and_texts = []\n",
    "    for page_number, page in tqdm(enumerate(doc)):\n",
    "        text = page.get_text()\n",
    "        text = text_formatter(text = text)\n",
    "        pages_and_texts.append({\"page_number\": page_number-41,\n",
    "                                \"page_char_count\": len(text),\n",
    "                                \"page_word_count\": len(text.split(\" \")),\n",
    "                                \"page_sentence_count_raw\": len(text.split(\". \")),\n",
    "                                \"page_token_count\": len(text)/4,\n",
    "                                \"text\": text\n",
    "                                })\n",
    "        \n",
    "    return pages_and_texts\n",
    "\n",
    "pages_and_texts = open_and_read_pdf(pdf_path=pdf_path)\n",
    "pages_and_texts[:2]"
   ]
  },
  {
   "cell_type": "code",
   "execution_count": 3,
   "id": "74b77f36",
   "metadata": {},
   "outputs": [
    {
     "data": {
      "text/plain": [
       "[{'page_number': 1050,\n",
       "  'page_char_count': 1555,\n",
       "  'page_word_count': 273,\n",
       "  'page_sentence_count_raw': 12,\n",
       "  'page_token_count': 388.75,\n",
       "  'text': 'The DASH Diet  The Dietary Approaches to Stop Hypertension, or DASH diet,  focuses on reducing sodium intake to either 2,300 milligrams per  day (as recommended by the Dietary Guidelines for Americans) or  1,500 milligrams per day for certain populations. The DASH diet  is an evidence-based eating plan that can help reduce high blood  pressure. This plan may also decrease the risk of heart attack,  stroke, diabetes, osteoporosis, and certain cancers.3  DASH tips to lower sodium include:  • Using spices instead of salt to add flavor  • Reading sodium content on processed or canned food labels,  and choosing low-sodium options  • Removing some sodium from canned foods (such as beans) by  rinsing the product before consumption  • Avoiding salt when cooking  DASH dieters are recommended to consume a variety of whole  grains and high-fiber fruits and vegetables, and moderate amounts  of low-fat dairy products, lean meats, and heart-healthy fish. In  addition, DASH limits the use of saturated fats to less than 7 percent  of total calories, and limits the consumption of sweets and alcohol.  The DASH diet also calls for consuming less added sugar and  drinking fewer sugar-sweetened drinks. It replaces red meat with  fish and legumes and calls for increased calcium, magnesium,  potassium, and fiber. Also, even though some people on the DASH  diet may find it lowers their HDL (good) cholesterol along with their  3. DASH Diet Eating Plan. DASH Diet Oregon.   http://www.dashdietoregon.org/. Accessed April 12,  2018.  1050  |  Comparing Diets'},\n",
       " {'page_number': 1096,\n",
       "  'page_char_count': 1236,\n",
       "  'page_word_count': 199,\n",
       "  'page_sentence_count_raw': 11,\n",
       "  'page_token_count': 309.0,\n",
       "  'text': 'building strong bones when you are growing. Remember, the more  bone mass a person has to start with, the greater the loss a person  can withstand without developing osteopenia or osteoporosis.  Growing and maintaining healthy bones requires good nutrition,  adequate intake of minerals and vitamins that are involved in  maintaining bone health, and weight-bearing exercise.  Prevention extends throughout life, and people with one or more  risk factors for osteoporosis should have their BMD measured. The  National Osteoporosis Foundation recommends the following  groups of people get BMD screening:16  • Women who are sixty-five or older  • Men who are seventy or older  • Women and men who break a bone after age fifty  • Women going through menopause with other risk factors  • Men fifty to sixty-nine years of age with risk factors  Learning Activities  Technology Note: The second edition of the Human  Nutrition Open Educational Resource (OER) textbook  features interactive learning activities.  These activities are  16. Bone Density Exam/Test. National Osteoporosis  Foundation. https://www.nof.org/patients/diagnosis- information/bone-density-examtesting/. Accessed  April 15, 2018.  1096  |  Nutrition, Health and Disease'}]"
      ]
     },
     "execution_count": 3,
     "metadata": {},
     "output_type": "execute_result"
    }
   ],
   "source": [
    "import random\n",
    "random.sample(pages_and_texts, k=2)"
   ]
  },
  {
   "cell_type": "code",
   "execution_count": 4,
   "id": "f32405af",
   "metadata": {},
   "outputs": [
    {
     "data": {
      "text/html": [
       "<div>\n",
       "<style scoped>\n",
       "    .dataframe tbody tr th:only-of-type {\n",
       "        vertical-align: middle;\n",
       "    }\n",
       "\n",
       "    .dataframe tbody tr th {\n",
       "        vertical-align: top;\n",
       "    }\n",
       "\n",
       "    .dataframe thead th {\n",
       "        text-align: right;\n",
       "    }\n",
       "</style>\n",
       "<table border=\"1\" class=\"dataframe\">\n",
       "  <thead>\n",
       "    <tr style=\"text-align: right;\">\n",
       "      <th></th>\n",
       "      <th>page_number</th>\n",
       "      <th>page_char_count</th>\n",
       "      <th>page_word_count</th>\n",
       "      <th>page_sentence_count_raw</th>\n",
       "      <th>page_token_count</th>\n",
       "      <th>text</th>\n",
       "    </tr>\n",
       "  </thead>\n",
       "  <tbody>\n",
       "    <tr>\n",
       "      <th>0</th>\n",
       "      <td>-41</td>\n",
       "      <td>29</td>\n",
       "      <td>4</td>\n",
       "      <td>1</td>\n",
       "      <td>7.25</td>\n",
       "      <td>Human Nutrition: 2020 Edition</td>\n",
       "    </tr>\n",
       "    <tr>\n",
       "      <th>1</th>\n",
       "      <td>-40</td>\n",
       "      <td>0</td>\n",
       "      <td>1</td>\n",
       "      <td>1</td>\n",
       "      <td>0.00</td>\n",
       "      <td></td>\n",
       "    </tr>\n",
       "    <tr>\n",
       "      <th>2</th>\n",
       "      <td>-39</td>\n",
       "      <td>320</td>\n",
       "      <td>54</td>\n",
       "      <td>1</td>\n",
       "      <td>80.00</td>\n",
       "      <td>Human Nutrition: 2020  Edition  UNIVERSITY OF ...</td>\n",
       "    </tr>\n",
       "    <tr>\n",
       "      <th>3</th>\n",
       "      <td>-38</td>\n",
       "      <td>212</td>\n",
       "      <td>32</td>\n",
       "      <td>1</td>\n",
       "      <td>53.00</td>\n",
       "      <td>Human Nutrition: 2020 Edition by University of...</td>\n",
       "    </tr>\n",
       "    <tr>\n",
       "      <th>4</th>\n",
       "      <td>-37</td>\n",
       "      <td>797</td>\n",
       "      <td>147</td>\n",
       "      <td>3</td>\n",
       "      <td>199.25</td>\n",
       "      <td>Contents  Preface  University of Hawai‘i at Mā...</td>\n",
       "    </tr>\n",
       "  </tbody>\n",
       "</table>\n",
       "</div>"
      ],
      "text/plain": [
       "   page_number  page_char_count  page_word_count  page_sentence_count_raw  \\\n",
       "0          -41               29                4                        1   \n",
       "1          -40                0                1                        1   \n",
       "2          -39              320               54                        1   \n",
       "3          -38              212               32                        1   \n",
       "4          -37              797              147                        3   \n",
       "\n",
       "   page_token_count                                               text  \n",
       "0              7.25                      Human Nutrition: 2020 Edition  \n",
       "1              0.00                                                     \n",
       "2             80.00  Human Nutrition: 2020  Edition  UNIVERSITY OF ...  \n",
       "3             53.00  Human Nutrition: 2020 Edition by University of...  \n",
       "4            199.25  Contents  Preface  University of Hawai‘i at Mā...  "
      ]
     },
     "execution_count": 4,
     "metadata": {},
     "output_type": "execute_result"
    }
   ],
   "source": [
    "import pandas as pd\n",
    "\n",
    "df = pd.DataFrame(pages_and_texts)\n",
    "df.head()"
   ]
  },
  {
   "cell_type": "code",
   "execution_count": 5,
   "id": "8e8be056",
   "metadata": {},
   "outputs": [
    {
     "data": {
      "text/html": [
       "<div>\n",
       "<style scoped>\n",
       "    .dataframe tbody tr th:only-of-type {\n",
       "        vertical-align: middle;\n",
       "    }\n",
       "\n",
       "    .dataframe tbody tr th {\n",
       "        vertical-align: top;\n",
       "    }\n",
       "\n",
       "    .dataframe thead th {\n",
       "        text-align: right;\n",
       "    }\n",
       "</style>\n",
       "<table border=\"1\" class=\"dataframe\">\n",
       "  <thead>\n",
       "    <tr style=\"text-align: right;\">\n",
       "      <th></th>\n",
       "      <th>page_number</th>\n",
       "      <th>page_char_count</th>\n",
       "      <th>page_word_count</th>\n",
       "      <th>page_sentence_count_raw</th>\n",
       "      <th>page_token_count</th>\n",
       "    </tr>\n",
       "  </thead>\n",
       "  <tbody>\n",
       "    <tr>\n",
       "      <th>count</th>\n",
       "      <td>1208.00</td>\n",
       "      <td>1208.00</td>\n",
       "      <td>1208.00</td>\n",
       "      <td>1208.00</td>\n",
       "      <td>1208.00</td>\n",
       "    </tr>\n",
       "    <tr>\n",
       "      <th>mean</th>\n",
       "      <td>562.50</td>\n",
       "      <td>1148.00</td>\n",
       "      <td>199.50</td>\n",
       "      <td>10.52</td>\n",
       "      <td>287.00</td>\n",
       "    </tr>\n",
       "    <tr>\n",
       "      <th>std</th>\n",
       "      <td>348.86</td>\n",
       "      <td>560.38</td>\n",
       "      <td>95.83</td>\n",
       "      <td>6.55</td>\n",
       "      <td>140.10</td>\n",
       "    </tr>\n",
       "    <tr>\n",
       "      <th>min</th>\n",
       "      <td>-41.00</td>\n",
       "      <td>0.00</td>\n",
       "      <td>1.00</td>\n",
       "      <td>1.00</td>\n",
       "      <td>0.00</td>\n",
       "    </tr>\n",
       "    <tr>\n",
       "      <th>25%</th>\n",
       "      <td>260.75</td>\n",
       "      <td>762.00</td>\n",
       "      <td>134.00</td>\n",
       "      <td>5.00</td>\n",
       "      <td>190.50</td>\n",
       "    </tr>\n",
       "    <tr>\n",
       "      <th>50%</th>\n",
       "      <td>562.50</td>\n",
       "      <td>1231.50</td>\n",
       "      <td>216.00</td>\n",
       "      <td>10.00</td>\n",
       "      <td>307.88</td>\n",
       "    </tr>\n",
       "    <tr>\n",
       "      <th>75%</th>\n",
       "      <td>864.25</td>\n",
       "      <td>1603.50</td>\n",
       "      <td>272.00</td>\n",
       "      <td>15.00</td>\n",
       "      <td>400.88</td>\n",
       "    </tr>\n",
       "    <tr>\n",
       "      <th>max</th>\n",
       "      <td>1166.00</td>\n",
       "      <td>2308.00</td>\n",
       "      <td>430.00</td>\n",
       "      <td>39.00</td>\n",
       "      <td>577.00</td>\n",
       "    </tr>\n",
       "  </tbody>\n",
       "</table>\n",
       "</div>"
      ],
      "text/plain": [
       "       page_number  page_char_count  page_word_count  page_sentence_count_raw  \\\n",
       "count      1208.00          1208.00          1208.00                  1208.00   \n",
       "mean        562.50          1148.00           199.50                    10.52   \n",
       "std         348.86           560.38            95.83                     6.55   \n",
       "min         -41.00             0.00             1.00                     1.00   \n",
       "25%         260.75           762.00           134.00                     5.00   \n",
       "50%         562.50          1231.50           216.00                    10.00   \n",
       "75%         864.25          1603.50           272.00                    15.00   \n",
       "max        1166.00          2308.00           430.00                    39.00   \n",
       "\n",
       "       page_token_count  \n",
       "count           1208.00  \n",
       "mean             287.00  \n",
       "std              140.10  \n",
       "min                0.00  \n",
       "25%              190.50  \n",
       "50%              307.88  \n",
       "75%              400.88  \n",
       "max              577.00  "
      ]
     },
     "execution_count": 5,
     "metadata": {},
     "output_type": "execute_result"
    }
   ],
   "source": [
    "df.describe().round(2)"
   ]
  },
  {
   "cell_type": "markdown",
   "id": "ca6ae518",
   "metadata": {},
   "source": [
    "<!-- Sentence transformer (all-mpnet-base-v2) -->\n",
    "Split pages into sentences"
   ]
  },
  {
   "cell_type": "code",
   "execution_count": 6,
   "id": "9f24a297",
   "metadata": {},
   "outputs": [
    {
     "data": {
      "text/plain": [
       "[This is a sentence., This is another sentence., I like anime.]"
      ]
     },
     "execution_count": 6,
     "metadata": {},
     "output_type": "execute_result"
    }
   ],
   "source": [
    "from spacy.lang.en import English\n",
    "\n",
    "nlp = English()\n",
    "\n",
    "# Spacy Sentencizer pipeline\n",
    "nlp.add_pipe(\"sentencizer\")\n",
    "\n",
    "# Create doc instance as example\n",
    "doc = nlp(\"This is a sentence. This is another sentence. I like anime.\")\n",
    "assert len(list(doc.sents))==3\n",
    "\n",
    "list(doc.sents)"
   ]
  },
  {
   "cell_type": "code",
   "execution_count": 7,
   "id": "5837b8d6",
   "metadata": {},
   "outputs": [
    {
     "data": {
      "text/plain": [
       "{'page_number': -31,\n",
       " 'page_char_count': 973,\n",
       " 'page_word_count': 179,\n",
       " 'page_sentence_count_raw': 3,\n",
       " 'page_token_count': 243.25,\n",
       " 'text': 'Nonessential and Essential Fatty Acids  University of Hawai‘i at Mānoa Food Science and  Human Nutrition Program and Human Nutrition  Program  313  Digestion and Absorption of Lipids  University of Hawai‘i at Mānoa Food Science and  Human Nutrition Program and Human Nutrition  Program  319  Tools for Change  University of Hawai‘i at Mānoa Food Science and  Human Nutrition Program and Human Nutrition  Program  331  Lipids and the Food Industry  University of Hawai‘i at Mānoa Food Science and  Human Nutrition Program and Human Nutrition  Program  340  Lipids and Disease  University of Hawai‘i at Mānoa Food Science and  Human Nutrition Program and Human Nutrition  Program  345  A Personal Choice about Lipids  University of Hawai‘i at Mānoa Food Science and  Human Nutrition Program and Human Nutrition  Program  351  Part VI. Chapter 6. Protein  Introduction  University of Hawai‘i at Mānoa Food Science and  Human Nutrition Program and Human Nutrition  Program  359'}"
      ]
     },
     "execution_count": 7,
     "metadata": {},
     "output_type": "execute_result"
    }
   ],
   "source": [
    "pages_and_texts[10]"
   ]
  },
  {
   "cell_type": "code",
   "execution_count": 8,
   "id": "e80f00ca",
   "metadata": {},
   "outputs": [
    {
     "data": {
      "application/vnd.jupyter.widget-view+json": {
       "model_id": "5c409c6549f84b1a9eca3b76883f24ba",
       "version_major": 2,
       "version_minor": 0
      },
      "text/plain": [
       "  0%|          | 0/1208 [00:00<?, ?it/s]"
      ]
     },
     "metadata": {},
     "output_type": "display_data"
    }
   ],
   "source": [
    "for item in tqdm(pages_and_texts):\n",
    "    item[\"sentences\"] = list(nlp(item[\"text\"]).sents)\n",
    "\n",
    "    # make sure all sentences are strings (default is spacy datatype) \n",
    "    item[\"sentences\"] = [str(sentence) for sentence in item[\"sentences\"]]\n",
    "    # count of sentences\n",
    "    item[\"page_sentence_count_spacy\"] = len(item[\"sentences\"])\n",
    "\n"
   ]
  },
  {
   "cell_type": "code",
   "execution_count": 9,
   "id": "9767b29a",
   "metadata": {},
   "outputs": [
    {
     "data": {
      "text/plain": [
       "[{'page_number': 666,\n",
       "  'page_char_count': 1524,\n",
       "  'page_word_count': 261,\n",
       "  'page_sentence_count_raw': 27,\n",
       "  'page_token_count': 381.0,\n",
       "  'text': 'Copper  UNIVERSITY OF HAWAI‘I AT MĀNOA FOOD SCIENCE AND HUMAN  NUTRITION PROGRAM AND HUMAN NUTRITION PROGRAM  Copper, like iron, assists in electron transfer in the electron- transport chain. It is also an enzyme cofactor essential for iron  absorption and transport. The other important function of copper  is as an antioxidant. It is naturally present in several foods and  is generally accessible as a dietary supplement.1 A typical adult  body has a total copper content of 50-120 mg.2 The body maintains  copper level balance through absorption from the intestine and the  release of copper by the liver into bile. 3 Current studies indicate  that copper deficiency may be more frequent than what was  previously discovered, while copper toxicity is rare due to  conventional diets. 4 Symptoms of mild to moderate copper  1. Collins JF. Copper. In: Ross AC, Caballero B, Cousins RJ,  Tucker KL, Ziegler TR, eds. Modern Nutrition in Health  and Disease. 11th ed. Baltimore, MD: Lippincott Williams  & Wilkins; 2014:206-16.  2. Prohaska JR. Copper. In: Erdman JW, Macdonald IA,  Zeisel SH, eds. Present Knowledge in Nutrition. 10th ed.  Washington, DC: Wiley-Blackwell; 2012:540-53.  3. Institute of Medicine, Food and Nutrition Board. Dietary  Reference Intakes for Vitamin A, Vitamin K, Arsenic,  Boron, Chromium, Copper, Iodine, Iron, Manganese,  Molybdenum, Nickel, Silicon, Vanadium, and Zinc.  Washington, DC: National Academies Press; 2001.  4. de Romaña, D. L., Olivares, M., Uauy, R., & Araya, M.  666  |  Copper',\n",
       "  'sentences': ['Copper  UNIVERSITY OF HAWAI‘I AT MĀNOA FOOD SCIENCE AND HUMAN  NUTRITION PROGRAM AND HUMAN NUTRITION PROGRAM  Copper, like iron, assists in electron transfer in the electron- transport chain.',\n",
       "   'It is also an enzyme cofactor essential for iron  absorption and transport.',\n",
       "   'The other important function of copper  is as an antioxidant.',\n",
       "   'It is naturally present in several foods and  is generally accessible as a dietary supplement.1 A typical adult  body has a total copper content of 50-120 mg.2 The body maintains  copper level balance through absorption from the intestine and the  release of copper by the liver into bile.',\n",
       "   '3 Current studies indicate  that copper deficiency may be more frequent than what was  previously discovered, while copper toxicity is rare due to  conventional diets.',\n",
       "   '4 Symptoms of mild to moderate copper  1.',\n",
       "   'Collins JF.',\n",
       "   'Copper.',\n",
       "   'In: Ross AC, Caballero B, Cousins RJ,  Tucker KL, Ziegler TR, eds.',\n",
       "   'Modern Nutrition in Health  and Disease.',\n",
       "   '11th ed.',\n",
       "   'Baltimore, MD: Lippincott Williams  & Wilkins; 2014:206-16.',\n",
       "   ' 2.',\n",
       "   'Prohaska JR.',\n",
       "   'Copper.',\n",
       "   'In: Erdman JW, Macdonald IA,  Zeisel SH, eds.',\n",
       "   'Present Knowledge in Nutrition.',\n",
       "   '10th ed.',\n",
       "   ' Washington, DC: Wiley-Blackwell; 2012:540-53.',\n",
       "   ' 3.',\n",
       "   'Institute of Medicine, Food and Nutrition Board.',\n",
       "   'Dietary  Reference Intakes for Vitamin A, Vitamin K, Arsenic,  Boron, Chromium, Copper, Iodine, Iron, Manganese,  Molybdenum, Nickel, Silicon, Vanadium, and Zinc.',\n",
       "   ' Washington, DC: National Academies Press; 2001.',\n",
       "   ' 4.',\n",
       "   'de Romaña, D. L., Olivares, M., Uauy, R., & Araya, M.  666  |  Copper'],\n",
       "  'page_sentence_count_spacy': 25}]"
      ]
     },
     "execution_count": 9,
     "metadata": {},
     "output_type": "execute_result"
    }
   ],
   "source": [
    "random.sample(pages_and_texts, k=1)"
   ]
  },
  {
   "cell_type": "code",
   "execution_count": 10,
   "id": "3c90c817",
   "metadata": {},
   "outputs": [
    {
     "data": {
      "text/html": [
       "<div>\n",
       "<style scoped>\n",
       "    .dataframe tbody tr th:only-of-type {\n",
       "        vertical-align: middle;\n",
       "    }\n",
       "\n",
       "    .dataframe tbody tr th {\n",
       "        vertical-align: top;\n",
       "    }\n",
       "\n",
       "    .dataframe thead th {\n",
       "        text-align: right;\n",
       "    }\n",
       "</style>\n",
       "<table border=\"1\" class=\"dataframe\">\n",
       "  <thead>\n",
       "    <tr style=\"text-align: right;\">\n",
       "      <th></th>\n",
       "      <th>page_number</th>\n",
       "      <th>page_char_count</th>\n",
       "      <th>page_word_count</th>\n",
       "      <th>page_sentence_count_raw</th>\n",
       "      <th>page_token_count</th>\n",
       "      <th>page_sentence_count_spacy</th>\n",
       "    </tr>\n",
       "  </thead>\n",
       "  <tbody>\n",
       "    <tr>\n",
       "      <th>count</th>\n",
       "      <td>1208.00</td>\n",
       "      <td>1208.00</td>\n",
       "      <td>1208.00</td>\n",
       "      <td>1208.00</td>\n",
       "      <td>1208.00</td>\n",
       "      <td>1208.00</td>\n",
       "    </tr>\n",
       "    <tr>\n",
       "      <th>mean</th>\n",
       "      <td>562.50</td>\n",
       "      <td>1148.00</td>\n",
       "      <td>199.50</td>\n",
       "      <td>10.52</td>\n",
       "      <td>287.00</td>\n",
       "      <td>10.32</td>\n",
       "    </tr>\n",
       "    <tr>\n",
       "      <th>std</th>\n",
       "      <td>348.86</td>\n",
       "      <td>560.38</td>\n",
       "      <td>95.83</td>\n",
       "      <td>6.55</td>\n",
       "      <td>140.10</td>\n",
       "      <td>6.30</td>\n",
       "    </tr>\n",
       "    <tr>\n",
       "      <th>min</th>\n",
       "      <td>-41.00</td>\n",
       "      <td>0.00</td>\n",
       "      <td>1.00</td>\n",
       "      <td>1.00</td>\n",
       "      <td>0.00</td>\n",
       "      <td>0.00</td>\n",
       "    </tr>\n",
       "    <tr>\n",
       "      <th>25%</th>\n",
       "      <td>260.75</td>\n",
       "      <td>762.00</td>\n",
       "      <td>134.00</td>\n",
       "      <td>5.00</td>\n",
       "      <td>190.50</td>\n",
       "      <td>5.00</td>\n",
       "    </tr>\n",
       "    <tr>\n",
       "      <th>50%</th>\n",
       "      <td>562.50</td>\n",
       "      <td>1231.50</td>\n",
       "      <td>216.00</td>\n",
       "      <td>10.00</td>\n",
       "      <td>307.88</td>\n",
       "      <td>10.00</td>\n",
       "    </tr>\n",
       "    <tr>\n",
       "      <th>75%</th>\n",
       "      <td>864.25</td>\n",
       "      <td>1603.50</td>\n",
       "      <td>272.00</td>\n",
       "      <td>15.00</td>\n",
       "      <td>400.88</td>\n",
       "      <td>15.00</td>\n",
       "    </tr>\n",
       "    <tr>\n",
       "      <th>max</th>\n",
       "      <td>1166.00</td>\n",
       "      <td>2308.00</td>\n",
       "      <td>430.00</td>\n",
       "      <td>39.00</td>\n",
       "      <td>577.00</td>\n",
       "      <td>28.00</td>\n",
       "    </tr>\n",
       "  </tbody>\n",
       "</table>\n",
       "</div>"
      ],
      "text/plain": [
       "       page_number  page_char_count  page_word_count  page_sentence_count_raw  \\\n",
       "count      1208.00          1208.00          1208.00                  1208.00   \n",
       "mean        562.50          1148.00           199.50                    10.52   \n",
       "std         348.86           560.38            95.83                     6.55   \n",
       "min         -41.00             0.00             1.00                     1.00   \n",
       "25%         260.75           762.00           134.00                     5.00   \n",
       "50%         562.50          1231.50           216.00                    10.00   \n",
       "75%         864.25          1603.50           272.00                    15.00   \n",
       "max        1166.00          2308.00           430.00                    39.00   \n",
       "\n",
       "       page_token_count  page_sentence_count_spacy  \n",
       "count           1208.00                    1208.00  \n",
       "mean             287.00                      10.32  \n",
       "std              140.10                       6.30  \n",
       "min                0.00                       0.00  \n",
       "25%              190.50                       5.00  \n",
       "50%              307.88                      10.00  \n",
       "75%              400.88                      15.00  \n",
       "max              577.00                      28.00  "
      ]
     },
     "execution_count": 10,
     "metadata": {},
     "output_type": "execute_result"
    }
   ],
   "source": [
    "df = pd.DataFrame(pages_and_texts)\n",
    "df.describe().round(2)"
   ]
  },
  {
   "cell_type": "code",
   "execution_count": 11,
   "id": "fca330c1",
   "metadata": {},
   "outputs": [
    {
     "data": {
      "text/plain": [
       "[[0, 1, 2, 3, 4, 5, 6, 7, 8, 9],\n",
       " [10, 11, 12, 13, 14, 15, 16, 17, 18, 19],\n",
       " [20, 21, 22, 23, 24]]"
      ]
     },
     "execution_count": 11,
     "metadata": {},
     "output_type": "execute_result"
    }
   ],
   "source": [
    "# chunking sentences together\n",
    "# splitting large pieces of text into smaller ones\n",
    "# we will split into 10 groups \n",
    "\n",
    "num_sentence_chunk_size = 10\n",
    "\n",
    "def split_list(input_list: list, slice_size: int=num_sentence_chunk_size) -> list[list[str]]:\n",
    "    return [input_list[i:i+slice_size] for i in range(0,len(input_list), slice_size)]\n",
    "\n",
    "\n",
    "test_list = list(range(25))\n",
    "split_list(test_list)"
   ]
  },
  {
   "cell_type": "code",
   "execution_count": 12,
   "id": "5de1dd16",
   "metadata": {},
   "outputs": [
    {
     "data": {
      "application/vnd.jupyter.widget-view+json": {
       "model_id": "608c942d834d43f3b2431982a0777898",
       "version_major": 2,
       "version_minor": 0
      },
      "text/plain": [
       "  0%|          | 0/1208 [00:00<?, ?it/s]"
      ]
     },
     "metadata": {},
     "output_type": "display_data"
    }
   ],
   "source": [
    "for item in tqdm(pages_and_texts):\n",
    "    item[\"sentence_chunks\"] = split_list(input_list=item[\"sentences\"], slice_size=num_sentence_chunk_size)\n",
    "    item[\"num_chunks\"] = len(item[\"sentence_chunks\"])"
   ]
  },
  {
   "cell_type": "code",
   "execution_count": 13,
   "id": "3af688d8",
   "metadata": {},
   "outputs": [
    {
     "data": {
      "text/plain": [
       "[{'page_number': 191,\n",
       "  'page_char_count': 1540,\n",
       "  'page_word_count': 271,\n",
       "  'page_sentence_count_raw': 14,\n",
       "  'page_token_count': 385.0,\n",
       "  'text': 'Other Functions of Chloride  Chloride has several other functions in the body, most importantly  in acid-base balance. Blood pH is maintained in a narrow range and  the number of positively charged substances is equal to the number  of negatively charged substances. Proteins, such as albumin, as well  as bicarbonate ions and chloride ions, are negatively charged and  aid in maintaining blood pH. Hydrochloric acid (a gastric acid  composed of chlorine and hydrogen) aids in digestion and also  prevents the growth of unwanted microbes in the stomach.  Immune-system cells require chloride, and red blood cells use  chloride anions to remove carbon dioxide from the body.  Chloride Imbalances  Low dietary intake of chloride and more often diarrhea can cause  low blood levels of chloride. Symptoms typically are similar to those  of hyponatremia and include weakness, nausea, and headache.  Excess chloride in the blood is rare with no characteristic signs or  symptoms.  Needs and Dietary Sources of Chloride  Most chloride in the diet comes from salt. (Salt is 60 percent  chloride.) A teaspoon of salt equals 5,600 milligrams, with each  teaspoon of salt containing 3,400 milligrams of chloride and 2,200  milligrams of sodium. The chloride AI for adults, set by the IOM, is  2,300 milligrams. Therefore just ⅔ teaspoon of table salt per day  is sufficient for chloride as well as sodium. The AIs for other age  groups are listed in Table 3.7 “Adequate Intakes for Chloride”.  Table 3.7 Adequate Intakes for Chloride  Chloride  |  191',\n",
       "  'sentences': ['Other Functions of Chloride  Chloride has several other functions in the body, most importantly  in acid-base balance.',\n",
       "   'Blood pH is maintained in a narrow range and  the number of positively charged substances is equal to the number  of negatively charged substances.',\n",
       "   'Proteins, such as albumin, as well  as bicarbonate ions and chloride ions, are negatively charged and  aid in maintaining blood pH. Hydrochloric acid (a gastric acid  composed of chlorine and hydrogen) aids in digestion and also  prevents the growth of unwanted microbes in the stomach.',\n",
       "   ' Immune-system cells require chloride, and red blood cells use  chloride anions to remove carbon dioxide from the body.',\n",
       "   ' Chloride Imbalances  Low dietary intake of chloride and more often diarrhea can cause  low blood levels of chloride.',\n",
       "   'Symptoms typically are similar to those  of hyponatremia and include weakness, nausea, and headache.',\n",
       "   ' Excess chloride in the blood is rare with no characteristic signs or  symptoms.',\n",
       "   ' Needs and Dietary Sources of Chloride  Most chloride in the diet comes from salt. (',\n",
       "   'Salt is 60 percent  chloride.)',\n",
       "   'A teaspoon of salt equals 5,600 milligrams, with each  teaspoon of salt containing 3,400 milligrams of chloride and 2,200  milligrams of sodium.',\n",
       "   'The chloride AI for adults, set by the IOM, is  2,300 milligrams.',\n",
       "   'Therefore just ⅔ teaspoon of table salt per day  is sufficient for chloride as well as sodium.',\n",
       "   'The AIs for other age  groups are listed in Table 3.7 “Adequate Intakes for Chloride”.',\n",
       "   ' Table 3.7 Adequate Intakes for Chloride  Chloride  |  191'],\n",
       "  'page_sentence_count_spacy': 14,\n",
       "  'sentence_chunks': [['Other Functions of Chloride  Chloride has several other functions in the body, most importantly  in acid-base balance.',\n",
       "    'Blood pH is maintained in a narrow range and  the number of positively charged substances is equal to the number  of negatively charged substances.',\n",
       "    'Proteins, such as albumin, as well  as bicarbonate ions and chloride ions, are negatively charged and  aid in maintaining blood pH. Hydrochloric acid (a gastric acid  composed of chlorine and hydrogen) aids in digestion and also  prevents the growth of unwanted microbes in the stomach.',\n",
       "    ' Immune-system cells require chloride, and red blood cells use  chloride anions to remove carbon dioxide from the body.',\n",
       "    ' Chloride Imbalances  Low dietary intake of chloride and more often diarrhea can cause  low blood levels of chloride.',\n",
       "    'Symptoms typically are similar to those  of hyponatremia and include weakness, nausea, and headache.',\n",
       "    ' Excess chloride in the blood is rare with no characteristic signs or  symptoms.',\n",
       "    ' Needs and Dietary Sources of Chloride  Most chloride in the diet comes from salt. (',\n",
       "    'Salt is 60 percent  chloride.)',\n",
       "    'A teaspoon of salt equals 5,600 milligrams, with each  teaspoon of salt containing 3,400 milligrams of chloride and 2,200  milligrams of sodium.'],\n",
       "   ['The chloride AI for adults, set by the IOM, is  2,300 milligrams.',\n",
       "    'Therefore just ⅔ teaspoon of table salt per day  is sufficient for chloride as well as sodium.',\n",
       "    'The AIs for other age  groups are listed in Table 3.7 “Adequate Intakes for Chloride”.',\n",
       "    ' Table 3.7 Adequate Intakes for Chloride  Chloride  |  191']],\n",
       "  'num_chunks': 2}]"
      ]
     },
     "execution_count": 13,
     "metadata": {},
     "output_type": "execute_result"
    }
   ],
   "source": [
    "random.sample(pages_and_texts, k=1)"
   ]
  },
  {
   "cell_type": "code",
   "execution_count": 14,
   "id": "46c81e88",
   "metadata": {},
   "outputs": [
    {
     "data": {
      "text/html": [
       "<div>\n",
       "<style scoped>\n",
       "    .dataframe tbody tr th:only-of-type {\n",
       "        vertical-align: middle;\n",
       "    }\n",
       "\n",
       "    .dataframe tbody tr th {\n",
       "        vertical-align: top;\n",
       "    }\n",
       "\n",
       "    .dataframe thead th {\n",
       "        text-align: right;\n",
       "    }\n",
       "</style>\n",
       "<table border=\"1\" class=\"dataframe\">\n",
       "  <thead>\n",
       "    <tr style=\"text-align: right;\">\n",
       "      <th></th>\n",
       "      <th>page_number</th>\n",
       "      <th>page_char_count</th>\n",
       "      <th>page_word_count</th>\n",
       "      <th>page_sentence_count_raw</th>\n",
       "      <th>page_token_count</th>\n",
       "      <th>page_sentence_count_spacy</th>\n",
       "      <th>num_chunks</th>\n",
       "    </tr>\n",
       "  </thead>\n",
       "  <tbody>\n",
       "    <tr>\n",
       "      <th>count</th>\n",
       "      <td>1208.00</td>\n",
       "      <td>1208.00</td>\n",
       "      <td>1208.00</td>\n",
       "      <td>1208.00</td>\n",
       "      <td>1208.00</td>\n",
       "      <td>1208.00</td>\n",
       "      <td>1208.00</td>\n",
       "    </tr>\n",
       "    <tr>\n",
       "      <th>mean</th>\n",
       "      <td>562.50</td>\n",
       "      <td>1148.00</td>\n",
       "      <td>199.50</td>\n",
       "      <td>10.52</td>\n",
       "      <td>287.00</td>\n",
       "      <td>10.32</td>\n",
       "      <td>1.53</td>\n",
       "    </tr>\n",
       "    <tr>\n",
       "      <th>std</th>\n",
       "      <td>348.86</td>\n",
       "      <td>560.38</td>\n",
       "      <td>95.83</td>\n",
       "      <td>6.55</td>\n",
       "      <td>140.10</td>\n",
       "      <td>6.30</td>\n",
       "      <td>0.64</td>\n",
       "    </tr>\n",
       "    <tr>\n",
       "      <th>min</th>\n",
       "      <td>-41.00</td>\n",
       "      <td>0.00</td>\n",
       "      <td>1.00</td>\n",
       "      <td>1.00</td>\n",
       "      <td>0.00</td>\n",
       "      <td>0.00</td>\n",
       "      <td>0.00</td>\n",
       "    </tr>\n",
       "    <tr>\n",
       "      <th>25%</th>\n",
       "      <td>260.75</td>\n",
       "      <td>762.00</td>\n",
       "      <td>134.00</td>\n",
       "      <td>5.00</td>\n",
       "      <td>190.50</td>\n",
       "      <td>5.00</td>\n",
       "      <td>1.00</td>\n",
       "    </tr>\n",
       "    <tr>\n",
       "      <th>50%</th>\n",
       "      <td>562.50</td>\n",
       "      <td>1231.50</td>\n",
       "      <td>216.00</td>\n",
       "      <td>10.00</td>\n",
       "      <td>307.88</td>\n",
       "      <td>10.00</td>\n",
       "      <td>1.00</td>\n",
       "    </tr>\n",
       "    <tr>\n",
       "      <th>75%</th>\n",
       "      <td>864.25</td>\n",
       "      <td>1603.50</td>\n",
       "      <td>272.00</td>\n",
       "      <td>15.00</td>\n",
       "      <td>400.88</td>\n",
       "      <td>15.00</td>\n",
       "      <td>2.00</td>\n",
       "    </tr>\n",
       "    <tr>\n",
       "      <th>max</th>\n",
       "      <td>1166.00</td>\n",
       "      <td>2308.00</td>\n",
       "      <td>430.00</td>\n",
       "      <td>39.00</td>\n",
       "      <td>577.00</td>\n",
       "      <td>28.00</td>\n",
       "      <td>3.00</td>\n",
       "    </tr>\n",
       "  </tbody>\n",
       "</table>\n",
       "</div>"
      ],
      "text/plain": [
       "       page_number  page_char_count  page_word_count  page_sentence_count_raw  \\\n",
       "count      1208.00          1208.00          1208.00                  1208.00   \n",
       "mean        562.50          1148.00           199.50                    10.52   \n",
       "std         348.86           560.38            95.83                     6.55   \n",
       "min         -41.00             0.00             1.00                     1.00   \n",
       "25%         260.75           762.00           134.00                     5.00   \n",
       "50%         562.50          1231.50           216.00                    10.00   \n",
       "75%         864.25          1603.50           272.00                    15.00   \n",
       "max        1166.00          2308.00           430.00                    39.00   \n",
       "\n",
       "       page_token_count  page_sentence_count_spacy  num_chunks  \n",
       "count           1208.00                    1208.00     1208.00  \n",
       "mean             287.00                      10.32        1.53  \n",
       "std              140.10                       6.30        0.64  \n",
       "min                0.00                       0.00        0.00  \n",
       "25%              190.50                       5.00        1.00  \n",
       "50%              307.88                      10.00        1.00  \n",
       "75%              400.88                      15.00        2.00  \n",
       "max              577.00                      28.00        3.00  "
      ]
     },
     "execution_count": 14,
     "metadata": {},
     "output_type": "execute_result"
    }
   ],
   "source": [
    "df = pd.DataFrame(pages_and_texts)\n",
    "df.describe().round(2)"
   ]
  },
  {
   "cell_type": "code",
   "execution_count": 15,
   "id": "771be177",
   "metadata": {},
   "outputs": [
    {
     "data": {
      "application/vnd.jupyter.widget-view+json": {
       "model_id": "4941d25a7f704036b6cdbfa0763822fc",
       "version_major": 2,
       "version_minor": 0
      },
      "text/plain": [
       "  0%|          | 0/1208 [00:00<?, ?it/s]"
      ]
     },
     "metadata": {},
     "output_type": "display_data"
    },
    {
     "data": {
      "text/plain": [
       "1843"
      ]
     },
     "execution_count": 15,
     "metadata": {},
     "output_type": "execute_result"
    }
   ],
   "source": [
    "# Split each chunk in its own item\n",
    "\n",
    "import re\n",
    "\n",
    "pages_and_chunks = []\n",
    "\n",
    "for item in tqdm(pages_and_texts):\n",
    "    for sentence_chunk in item[\"sentence_chunks\"]:\n",
    "        chunk_dict = {}\n",
    "        chunk_dict[\"page_number\"] = item[\"page_number\"]\n",
    "        # join list of sentences into one paragraph\n",
    "        joined_sentence_chunk = \"\".join(sentence_chunk).replace(\" \", \" \").strip()\n",
    "\n",
    "        joined_sentence_chunk = re.sub(r'\\.([A-Z])', r'. \\1', joined_sentence_chunk)    # add a space before any capital letter i.e. starting word of a sentence\n",
    "\n",
    "        chunk_dict[\"sentence_chunk\"] = joined_sentence_chunk\n",
    "        chunk_dict[\"chunk_char_count\"] = len(joined_sentence_chunk)\n",
    "        chunk_dict[\"chunk_word_count\"] = len([word for word in joined_sentence_chunk.split(\" \")])\n",
    "        chunk_dict[\"chunk_token_count\"] = len(joined_sentence_chunk) / 4 # 1 token = ~ 4 chars\n",
    "\n",
    "        pages_and_chunks.append(chunk_dict)\n",
    "\n",
    "\n",
    "len(pages_and_chunks)"
   ]
  },
  {
   "cell_type": "code",
   "execution_count": 16,
   "id": "66303852",
   "metadata": {},
   "outputs": [
    {
     "data": {
      "text/plain": [
       "[{'page_number': 948,\n",
       "  'sentence_chunk': 'you might suggest a walk, rollerblading, or going for a swim in the  campus pool. Also, find an activity that you will be motivated to  do. Some people decide to participate in team sports, such as local  soccer or softball leagues, because they enjoy being active with  others or like knowing that a team relies on them. Others prefer to  take a class, such as spinning or yoga, that is led by an instructor  who will motivate them. Still others prefer more solitary pursuits,  such as taking a jog alone in their neighborhood. No matter what  your preference, you are more likely to stick to a workout program  if you enjoy it. Learning Activities  Technology Note: The second edition of the Human  Nutrition Open Educational Resource (OER) textbook  features interactive learning activities. These activities are  available in the web-based textbook and not available in the  downloadable versions (EPUB, Digital PDF, Print_PDF, or  Open Document). Learning activities may be used across various mobile  devices, however, for the best user experience it is strongly  recommended that users complete these activities using a  desktop or laptop computer and in Google Chrome.   948  |  The Benefits of Physical Activity',\n",
       "  'chunk_char_count': 1220,\n",
       "  'chunk_word_count': 217,\n",
       "  'chunk_token_count': 305.0}]"
      ]
     },
     "execution_count": 16,
     "metadata": {},
     "output_type": "execute_result"
    }
   ],
   "source": [
    "random.sample(pages_and_chunks, k=1)"
   ]
  },
  {
   "cell_type": "code",
   "execution_count": 17,
   "id": "218010dc",
   "metadata": {},
   "outputs": [
    {
     "data": {
      "text/html": [
       "<div>\n",
       "<style scoped>\n",
       "    .dataframe tbody tr th:only-of-type {\n",
       "        vertical-align: middle;\n",
       "    }\n",
       "\n",
       "    .dataframe tbody tr th {\n",
       "        vertical-align: top;\n",
       "    }\n",
       "\n",
       "    .dataframe thead th {\n",
       "        text-align: right;\n",
       "    }\n",
       "</style>\n",
       "<table border=\"1\" class=\"dataframe\">\n",
       "  <thead>\n",
       "    <tr style=\"text-align: right;\">\n",
       "      <th></th>\n",
       "      <th>page_number</th>\n",
       "      <th>chunk_char_count</th>\n",
       "      <th>chunk_word_count</th>\n",
       "      <th>chunk_token_count</th>\n",
       "    </tr>\n",
       "  </thead>\n",
       "  <tbody>\n",
       "    <tr>\n",
       "      <th>count</th>\n",
       "      <td>1843.00</td>\n",
       "      <td>1843.00</td>\n",
       "      <td>1843.00</td>\n",
       "      <td>1843.00</td>\n",
       "    </tr>\n",
       "    <tr>\n",
       "      <th>mean</th>\n",
       "      <td>583.38</td>\n",
       "      <td>749.91</td>\n",
       "      <td>128.55</td>\n",
       "      <td>187.48</td>\n",
       "    </tr>\n",
       "    <tr>\n",
       "      <th>std</th>\n",
       "      <td>347.79</td>\n",
       "      <td>455.68</td>\n",
       "      <td>80.01</td>\n",
       "      <td>113.92</td>\n",
       "    </tr>\n",
       "    <tr>\n",
       "      <th>min</th>\n",
       "      <td>-41.00</td>\n",
       "      <td>14.00</td>\n",
       "      <td>4.00</td>\n",
       "      <td>3.50</td>\n",
       "    </tr>\n",
       "    <tr>\n",
       "      <th>25%</th>\n",
       "      <td>280.50</td>\n",
       "      <td>321.50</td>\n",
       "      <td>53.00</td>\n",
       "      <td>80.38</td>\n",
       "    </tr>\n",
       "    <tr>\n",
       "      <th>50%</th>\n",
       "      <td>586.00</td>\n",
       "      <td>762.00</td>\n",
       "      <td>132.00</td>\n",
       "      <td>190.50</td>\n",
       "    </tr>\n",
       "    <tr>\n",
       "      <th>75%</th>\n",
       "      <td>890.00</td>\n",
       "      <td>1137.50</td>\n",
       "      <td>195.00</td>\n",
       "      <td>284.38</td>\n",
       "    </tr>\n",
       "    <tr>\n",
       "      <th>max</th>\n",
       "      <td>1166.00</td>\n",
       "      <td>1870.00</td>\n",
       "      <td>415.00</td>\n",
       "      <td>467.50</td>\n",
       "    </tr>\n",
       "  </tbody>\n",
       "</table>\n",
       "</div>"
      ],
      "text/plain": [
       "       page_number  chunk_char_count  chunk_word_count  chunk_token_count\n",
       "count      1843.00           1843.00           1843.00            1843.00\n",
       "mean        583.38            749.91            128.55             187.48\n",
       "std         347.79            455.68             80.01             113.92\n",
       "min         -41.00             14.00              4.00               3.50\n",
       "25%         280.50            321.50             53.00              80.38\n",
       "50%         586.00            762.00            132.00             190.50\n",
       "75%         890.00           1137.50            195.00             284.38\n",
       "max        1166.00           1870.00            415.00             467.50"
      ]
     },
     "execution_count": 17,
     "metadata": {},
     "output_type": "execute_result"
    }
   ],
   "source": [
    "df = pd.DataFrame(pages_and_chunks)\n",
    "df.describe().round(2)"
   ]
  },
  {
   "cell_type": "code",
   "execution_count": 18,
   "id": "ba55f687",
   "metadata": {},
   "outputs": [
    {
     "name": "stdout",
     "output_type": "stream",
     "text": [
      "Chunk token count: 26.75 | Text: Updated November 6, 2015. Accessed April 15, 2018. 1122  |  Undernutrition, Overnutrition, and Malnutrition\n",
      "Chunk token count: 18.0 | Text: The Obesity Myth. Gotham Books. Calories In Versus Calories Out  |  1069\n",
      "Chunk token count: 10.25 | Text: 920  |  Older Adulthood: The Golden Years\n",
      "Chunk token count: 9.75 | Text: Protein’s Functions in the Body  |  387\n",
      "Chunk token count: 13.75 | Text: https://doi.org/10.1186/ 1743-7075-4-24. Sulfur  |  637\n"
     ]
    }
   ],
   "source": [
    "# filter to remove chunks with less than 30 tokens cause don't contain much info\n",
    "\n",
    "min_token_length = 30\n",
    "\n",
    "for row in df[df[\"chunk_token_count\"] <= min_token_length].sample(5).iterrows():\n",
    "    print(f\"Chunk token count: {row[1][\"chunk_token_count\"]} | Text: {row[1][\"sentence_chunk\"]}\")"
   ]
  },
  {
   "cell_type": "code",
   "execution_count": 19,
   "id": "4a04af33",
   "metadata": {},
   "outputs": [
    {
     "data": {
      "text/plain": [
       "[{'page_number': -39,\n",
       "  'sentence_chunk': 'Human Nutrition: 2020  Edition  UNIVERSITY OF HAWAI‘I AT MĀNOA  FOOD SCIENCE AND HUMAN  NUTRITION PROGRAM  ALAN TITCHENAL, SKYLAR HARA,  NOEMI ARCEO CAACBAY, WILLIAM  MEINKE-LAU, YA-YUN YANG, MARIE  KAINOA FIALKOWSKI REVILLA,  JENNIFER DRAPER, GEMADY  LANGFELDER, CHERYL GIBBY, CHYNA  NICOLE CHUN, AND ALLISON  CALABRESE',\n",
       "  'chunk_char_count': 320,\n",
       "  'chunk_word_count': 54,\n",
       "  'chunk_token_count': 80.0},\n",
       " {'page_number': -38,\n",
       "  'sentence_chunk': 'Human Nutrition: 2020 Edition by University of Hawai‘i at Mānoa Food Science and  Human Nutrition Program is licensed under a Creative Commons Attribution 4.0  International License, except where otherwise noted.',\n",
       "  'chunk_char_count': 212,\n",
       "  'chunk_word_count': 32,\n",
       "  'chunk_token_count': 53.0}]"
      ]
     },
     "execution_count": 19,
     "metadata": {},
     "output_type": "execute_result"
    }
   ],
   "source": [
    "pages_and_chunks_over_min_token_len = df[df[\"chunk_token_count\"] > min_token_length].to_dict(orient=\"records\")\n",
    "pages_and_chunks_over_min_token_len[:2]"
   ]
  },
  {
   "cell_type": "code",
   "execution_count": 20,
   "id": "d6eab20a",
   "metadata": {},
   "outputs": [
    {
     "data": {
      "text/plain": [
       "[{'page_number': 300,\n",
       "  'sentence_chunk': 'recommended that users complete these activities using a  desktop or laptop computer and in Google Chrome.   An interactive or media element has been  excluded from this version of the text. You can  view it online here:  http://pressbooks.oer.hawaii.edu/ humannutrition2/?p=203    An interactive or media element has been  excluded from this version of the text. You can  view it online here:  http://pressbooks.oer.hawaii.edu/ humannutrition2/?p=203  300  |  The Functions of Lipids in the Body',\n",
       "  'chunk_char_count': 496,\n",
       "  'chunk_word_count': 84,\n",
       "  'chunk_token_count': 124.0}]"
      ]
     },
     "execution_count": 20,
     "metadata": {},
     "output_type": "execute_result"
    }
   ],
   "source": [
    "random.sample(pages_and_chunks_over_min_token_len, k=1)"
   ]
  },
  {
   "cell_type": "code",
   "execution_count": 21,
   "id": "c5b1d983",
   "metadata": {},
   "outputs": [
    {
     "name": "stderr",
     "output_type": "stream",
     "text": [
      "c:\\Users\\Arjit\\OneDrive\\Desktop\\RAG\\simple-local-rag\\venv\\Lib\\site-packages\\huggingface_hub\\file_download.py:943: FutureWarning: `resume_download` is deprecated and will be removed in version 1.0.0. Downloads always resume when possible. If you want to force a new download, use `force_download=True`.\n",
      "  warnings.warn(\n",
      "c:\\Users\\Arjit\\OneDrive\\Desktop\\RAG\\simple-local-rag\\venv\\Lib\\site-packages\\huggingface_hub\\file_download.py:943: FutureWarning: `resume_download` is deprecated and will be removed in version 1.0.0. Downloads always resume when possible. If you want to force a new download, use `force_download=True`.\n",
      "  warnings.warn(\n"
     ]
    }
   ],
   "source": [
    "# Embed our text chunks from a model from Sentence Transformer\n",
    "\n",
    "from sentence_transformers import SentenceTransformer\n",
    "\n",
    "embedding_model = SentenceTransformer(model_name_or_path=\"all-mpnet-base-v2\", device=\"cpu\")"
   ]
  },
  {
   "cell_type": "code",
   "execution_count": 22,
   "id": "5a94cb76",
   "metadata": {},
   "outputs": [
    {
     "name": "stdout",
     "output_type": "stream",
     "text": [
      "Sentence: Sentence Transformer is a easy way to create embeddings\n",
      "Embedding: [-2.08619591e-02  3.11837103e-02 -2.59458572e-02  5.69022596e-02\n",
      " -1.23546273e-02  4.17828793e-03  1.91781111e-02 -3.19253728e-02\n",
      " -1.31556895e-02 -1.32209230e-02  2.59638159e-03  2.58037485e-02\n",
      " -3.11046019e-02  2.50161160e-02  3.98914777e-02 -5.92492595e-02\n",
      "  4.23744880e-02  1.41739622e-02 -4.25569192e-02  9.11341421e-03\n",
      "  2.85300463e-02  7.32972892e-03  2.64866445e-02  4.52444591e-02\n",
      " -2.61180177e-02 -2.32647918e-02  5.78083890e-03 -3.42777558e-02\n",
      "  4.20542955e-02 -9.52104572e-03 -2.51534283e-02  6.12783153e-03\n",
      "  3.84326391e-02  1.14715947e-02  9.72253815e-07  1.16191618e-02\n",
      " -2.78753918e-02 -4.78200288e-03  9.82521847e-03  1.85122842e-03\n",
      "  3.73485647e-02 -6.27608597e-02  3.65459211e-02  4.01349217e-02\n",
      " -4.94312756e-02 -3.23139951e-02  4.44209315e-02  5.40534556e-02\n",
      "  7.62185603e-02  7.10451826e-02 -3.05459052e-02 -6.80191293e-02\n",
      " -5.07233990e-03 -3.29147466e-02  7.97154102e-03  1.57966856e-02\n",
      " -1.66369043e-02 -1.44176427e-02 -1.35572841e-02  6.27204478e-02\n",
      " -5.35983890e-02  4.45838943e-02  9.24389157e-03 -3.83281894e-02\n",
      "  7.42387027e-02  1.95137342e-03 -3.37328948e-02 -2.46310774e-02\n",
      "  1.04367016e-02  7.36595690e-02 -2.75272951e-02 -2.76292637e-02\n",
      " -1.87215935e-02  7.96481315e-03  3.61458724e-03  2.68791895e-02\n",
      " -4.72683795e-02 -6.82752766e-03  5.50564080e-02  4.27193344e-02\n",
      " -3.98080796e-03  4.36498299e-02  1.69613082e-02 -4.62309271e-02\n",
      " -1.92671139e-02 -4.41550128e-02  4.61936109e-02 -5.13339117e-02\n",
      " -3.52716073e-02 -2.78919353e-03  9.74785071e-03 -1.04980485e-03\n",
      "  2.94625647e-02 -7.91224651e-03  9.51985735e-03  8.23337585e-03\n",
      " -5.28750680e-02 -4.23071757e-02 -1.29790809e-02 -3.44721228e-02\n",
      "  5.16539030e-02  2.08102707e-02 -1.65904465e-04 -4.83359164e-03\n",
      " -1.04051493e-01  6.31278679e-02 -2.34351289e-02  1.06643541e-02\n",
      " -2.54663527e-02 -2.62710806e-02 -5.54267019e-02 -1.50862336e-02\n",
      " -5.59307225e-02  3.27614062e-02 -1.96426976e-02 -6.64720759e-02\n",
      " -3.13992426e-02  5.27448617e-02 -2.48683486e-02  2.62517091e-02\n",
      "  9.52911470e-03  1.11386031e-02 -1.45250503e-02  2.85732821e-02\n",
      "  9.32906754e-04  1.71893258e-02 -4.80566733e-02 -6.08976807e-05\n",
      " -2.99504995e-02  3.46716754e-02 -2.93881483e-02  4.18599397e-02\n",
      "  7.20878914e-02  1.81443896e-03 -5.10809906e-02  1.79984849e-02\n",
      "  1.09207006e-02 -2.58873515e-02  1.25631178e-02  2.53846124e-02\n",
      " -7.02209305e-03 -1.18539827e-02  1.60425566e-02 -5.42165041e-02\n",
      "  5.64433634e-02  3.97396414e-03  1.18173137e-02 -4.03519757e-02\n",
      "  1.62070729e-02  2.41782591e-02 -5.49040213e-02  1.18204817e-01\n",
      "  1.26377717e-02 -3.41741182e-02 -5.11490814e-02 -5.59402211e-03\n",
      "  9.10220966e-02  5.28076291e-02  4.94601615e-02 -9.50807531e-04\n",
      "  5.18074520e-02  6.79335743e-03  4.20892425e-03 -6.55451231e-03\n",
      " -1.96444523e-02 -2.10326444e-03 -6.86634379e-03 -1.71857215e-02\n",
      " -3.04675172e-03  7.35917538e-02 -3.93440714e-03  5.69526628e-02\n",
      "  4.49901307e-03  1.62553135e-02  3.78172360e-02  4.80641238e-02\n",
      "  6.58836663e-02  2.59500723e-02  6.90122098e-02  1.65628921e-02\n",
      " -5.27211465e-02  4.35589999e-02 -6.63350476e-03  3.97274010e-02\n",
      "  1.42423082e-02  2.29936875e-02 -2.47740522e-02  6.86406270e-02\n",
      " -2.06830259e-02  2.26103957e-03 -1.86697561e-02 -3.20742205e-02\n",
      " -7.64068391e-04 -5.36883026e-02 -1.23051787e-02  5.76984361e-02\n",
      " -3.28063667e-02  4.63266484e-02 -5.44171082e-04 -6.97965398e-02\n",
      " -8.55314173e-03  2.91959662e-02  1.91404577e-02  2.49993540e-02\n",
      "  1.31123634e-02  2.01183818e-02  6.17151055e-03 -4.66565825e-02\n",
      " -2.36176196e-02  9.19543654e-02  3.82574014e-02 -1.96265634e-02\n",
      " -1.80686302e-02 -6.21125475e-02  2.67395452e-02  1.16450235e-03\n",
      "  2.33820397e-02 -2.94417255e-02 -1.12388153e-02  3.15182693e-02\n",
      "  5.67941852e-02 -3.15721817e-02  3.15489508e-02  4.29190211e-02\n",
      " -1.54538685e-02 -1.36735532e-02  1.85812563e-02  3.24023664e-02\n",
      "  2.01144838e-03  2.49873362e-02 -1.31056504e-03  4.24472541e-02\n",
      "  5.82808442e-02 -6.41872585e-02 -5.77875488e-02  4.95208353e-02\n",
      " -3.52534540e-02 -1.11937627e-01  2.10554586e-04 -1.02903493e-01\n",
      "  2.23565474e-02  2.85923537e-02 -1.79195069e-02 -2.75261775e-02\n",
      " -8.61792453e-03 -2.77158748e-02  5.75715601e-02 -2.90402658e-02\n",
      " -3.08961491e-03  1.52633935e-02  4.76933010e-02 -3.00807524e-02\n",
      "  2.16298290e-02  3.03502027e-02  1.84132028e-02 -3.75950746e-02\n",
      " -2.24788114e-02  3.18899471e-03  3.78695354e-02 -6.77399104e-03\n",
      "  7.45065161e-04  2.18746811e-02  1.21594109e-02 -4.90864692e-03\n",
      " -3.26138479e-03  5.51160378e-03 -3.30295265e-02 -7.61322081e-02\n",
      "  1.50232064e-03  4.91266698e-03 -4.47085779e-03  2.09288057e-02\n",
      "  2.58570947e-02  2.83792503e-02 -4.30201739e-03 -6.64949715e-02\n",
      "  2.31611598e-02 -1.69434771e-02  1.89667791e-02  6.54785410e-02\n",
      " -4.12646644e-02 -3.16477716e-02 -2.93002240e-02  2.32163221e-02\n",
      " -2.46212799e-02  7.84208402e-02 -2.83347461e-02 -1.36669008e-02\n",
      " -3.25978510e-02  9.91860125e-03  8.72057490e-03  1.76776163e-02\n",
      "  4.25542742e-02 -5.28871268e-02 -1.40372408e-03  1.68043450e-02\n",
      "  8.51921290e-02  3.95949818e-02  2.07184870e-02  8.70195031e-02\n",
      "  3.84051912e-02  1.77576393e-02 -9.87140648e-03  4.52855648e-03\n",
      " -4.35112566e-02  3.34320962e-02 -1.08382450e-02  1.97968562e-04\n",
      " -5.30410372e-03  3.30110267e-02  2.11652238e-02 -2.04135738e-02\n",
      " -3.27578969e-02  3.29162292e-02 -1.09369094e-02  2.46865526e-02\n",
      " -1.55416196e-02 -3.33471876e-03 -3.05565931e-02 -1.72154084e-02\n",
      "  2.09778436e-02 -4.62800218e-03  3.56110446e-02 -3.31430957e-02\n",
      " -1.53304897e-02 -3.17009501e-02 -3.65026481e-02 -5.06541133e-02\n",
      "  5.05255982e-02  2.15652995e-02  8.87867715e-03 -3.14273685e-03\n",
      " -4.37931297e-03 -5.08616194e-02  2.37805974e-02  3.55426110e-02\n",
      "  1.78599637e-02  3.29652093e-02  1.81490500e-02 -1.43426275e-02\n",
      " -2.77569443e-02 -4.68118452e-02 -3.46185304e-02 -7.36977234e-02\n",
      " -1.72361941e-03  2.85411254e-02  4.94179921e-03 -2.30206903e-02\n",
      " -5.15458919e-02  1.52088264e-02  1.06243724e-02 -4.79470659e-03\n",
      " -1.92456730e-02 -1.40703376e-02 -4.44709919e-02  8.02273527e-02\n",
      "  5.55989183e-02  1.86152775e-02 -3.40539776e-02 -9.02374648e-03\n",
      "  6.17676787e-02  2.65915450e-02 -2.84132231e-02  4.62382808e-02\n",
      " -5.79523258e-02  1.05946569e-03  4.40167217e-03 -5.45740686e-02\n",
      "  1.38024297e-02 -2.47672237e-02  1.18871424e-02  4.79409442e-04\n",
      " -1.45463059e-02  1.04871646e-01  4.28053513e-02 -3.37094031e-02\n",
      "  3.03397588e-02 -8.04289430e-03  1.69103071e-02  1.84757635e-02\n",
      "  3.96435112e-02 -1.17125235e-01 -2.93816533e-02 -1.60877984e-02\n",
      " -4.12169546e-02  3.76033634e-02 -1.18492618e-02  1.32401753e-03\n",
      " -8.60069469e-02  1.17414929e-02  2.60766433e-03  5.77065954e-03\n",
      " -5.20807058e-02 -3.07751801e-02 -2.73289662e-02  2.17112731e-02\n",
      " -4.90983250e-04 -2.69344635e-02 -1.68941300e-02 -1.20867994e-02\n",
      " -3.30102220e-02 -4.91797253e-02 -2.73141116e-02 -8.99572764e-03\n",
      " -5.87561801e-02  2.55000405e-02 -4.21176519e-04  6.65290803e-02\n",
      " -1.31372493e-02 -5.01795784e-02 -6.51661381e-02 -2.35667694e-02\n",
      " -6.77658245e-02  3.02325077e-02  4.91189137e-02 -3.54177877e-02\n",
      " -3.02842017e-02  3.07235196e-02  3.17858160e-02 -3.81038040e-02\n",
      " -2.98374183e-02  9.93441511e-03  8.96369070e-02  4.89912170e-04\n",
      " -1.45189017e-02 -2.55675502e-02  1.89252254e-02  1.40213622e-02\n",
      "  4.54106927e-02  4.75384742e-02 -3.42743658e-02  9.11977794e-03\n",
      "  4.01931722e-03  9.10486095e-03 -2.94747911e-02 -4.81232814e-02\n",
      "  3.29793282e-02 -2.94025056e-03  2.33781226e-02 -9.57271755e-02\n",
      " -3.94335017e-02  4.95455340e-02  5.38546816e-02  2.83550955e-02\n",
      "  7.96519394e-04  8.46144557e-03 -1.62078142e-02 -4.29341458e-02\n",
      "  2.08284869e-03 -3.96550214e-03  1.78582165e-02  1.57452356e-02\n",
      " -1.69450641e-02  6.02253005e-02  3.78018022e-02 -1.34847816e-02\n",
      " -6.24898784e-02 -4.66162153e-02 -3.80138531e-02  2.11320026e-03\n",
      "  1.31860524e-02  1.81398448e-02 -3.00378865e-03 -2.55071186e-02\n",
      "  1.54973427e-02  4.31428142e-02  4.10615914e-02 -7.41603822e-02\n",
      " -8.18014145e-03  8.52428004e-03 -2.55824439e-02  3.01662590e-02\n",
      "  4.68890443e-02 -1.51842358e-02  1.90757681e-02 -5.66497557e-02\n",
      "  2.50038486e-02  4.86680679e-03 -6.44032434e-02  1.22891627e-02\n",
      " -3.82081419e-02  9.57433693e-03  4.84685320e-03  1.54175591e-02\n",
      " -1.26713281e-02  1.29111493e-02 -9.23007727e-02 -2.20757592e-02\n",
      " -5.38763963e-02  7.99131114e-03  4.11658846e-02  3.93369049e-02\n",
      " -4.43935860e-03 -2.34296406e-03 -3.57635394e-02  1.21928640e-02\n",
      " -1.84764788e-02  4.42958176e-02  3.34231779e-02 -2.69432627e-02\n",
      " -2.65792361e-03  3.92798036e-02 -4.13808525e-02 -5.16836205e-03\n",
      " -4.13319580e-02 -1.33056128e-02 -2.79373508e-02 -2.52294354e-02\n",
      "  5.58285648e-03  8.31130333e-03 -5.54352477e-02  4.98289391e-02\n",
      " -6.44910112e-02  2.58731749e-02 -3.96782495e-02  1.45486137e-02\n",
      "  4.31680791e-02 -2.92825010e-02  3.70569192e-02 -1.74103659e-02\n",
      " -2.03562528e-02  5.41818775e-02  8.13763365e-02 -5.45179211e-02\n",
      " -2.68730447e-02  1.83091089e-02  6.24706503e-03 -4.89990748e-02\n",
      " -2.59132572e-02  6.10043481e-02 -2.05755401e-02 -5.79532469e-03\n",
      "  1.23843867e-02 -4.84516472e-03 -5.09108305e-02  1.75178796e-02\n",
      "  5.81042692e-02  2.06100065e-02 -6.24816632e-04 -5.63784176e-03\n",
      " -2.80300900e-02 -6.39755055e-02  2.67489552e-02  1.31867370e-02\n",
      " -1.20396521e-02  9.95044690e-03  8.64730030e-03  2.49306057e-02\n",
      "  2.84108575e-02 -7.83079397e-03 -3.11098192e-02  2.98712868e-02\n",
      " -4.65897517e-03 -7.36848190e-02 -2.49840114e-02 -4.88892582e-33\n",
      " -3.59117016e-02 -1.81860384e-03 -3.55835892e-02 -9.84011590e-03\n",
      " -2.63206661e-02 -4.20648046e-03 -4.06283513e-03  1.87712386e-02\n",
      "  1.03729945e-02  2.82339081e-02  2.53823353e-03 -6.99878531e-03\n",
      "  1.45657081e-02  3.46035063e-02 -2.20558979e-02  1.90409999e-02\n",
      "  4.63019498e-02 -1.73206739e-02 -3.34027369e-04  1.24453357e-03\n",
      "  1.48327239e-02  3.62125672e-02  5.01577072e-02 -1.63352545e-02\n",
      " -3.89879756e-02  2.81634368e-02  7.52617081e-04 -5.24387136e-03\n",
      "  4.33014780e-02  5.12013920e-02 -3.32403965e-02  1.85267814e-02\n",
      " -2.10483558e-03  6.70838915e-03 -1.85561050e-02  8.47442299e-02\n",
      " -6.04363531e-02 -3.23723033e-02 -3.05396458e-03  2.46855803e-03\n",
      " -4.21695448e-02 -4.16622013e-02 -1.67778204e-03 -4.43758555e-02\n",
      "  4.77472991e-02 -7.18038576e-03  3.41090672e-02 -7.47661153e-03\n",
      " -1.65260229e-02 -7.03984126e-03 -9.07147601e-02  8.89473874e-03\n",
      "  2.05595586e-02  2.23932117e-02  2.18056925e-02  4.87735402e-03\n",
      "  1.21663623e-02  4.77774395e-03 -2.12913100e-02 -1.96470898e-02\n",
      " -2.77483743e-02  3.35104205e-02  3.24440957e-03 -3.22793685e-02\n",
      " -3.99257727e-02  6.39129728e-02 -3.93473469e-02 -4.66407537e-02\n",
      " -3.58985513e-02  2.30279025e-02  2.04302482e-02  5.47597818e-02\n",
      "  5.10009155e-02  6.35709912e-02  5.59242500e-04  1.32562779e-03\n",
      " -4.15630825e-02 -3.00323172e-03  6.88016822e-04  6.51572971e-03\n",
      "  4.02543433e-02  2.90786959e-02  4.73656738e-03 -6.17719674e-03\n",
      " -1.38489604e-02 -3.34667944e-04 -1.27860727e-02 -4.17288020e-02\n",
      "  3.29895839e-02  2.32233643e-03 -2.34181415e-02  1.11320615e-02\n",
      "  1.99142173e-02 -5.00977114e-02  4.73416504e-03  1.64702125e-02\n",
      " -2.89532132e-02  3.14833634e-02 -1.30050094e-03  1.60346348e-02\n",
      "  1.00496528e-03 -3.26590575e-02 -3.10351304e-03  9.84125957e-03\n",
      "  2.52091046e-02  8.14226177e-03  5.31356372e-02 -2.89982511e-03\n",
      " -8.64042044e-02 -1.35247344e-02 -1.69147812e-02 -4.76672016e-02\n",
      " -4.55816761e-02  1.86273269e-02 -9.51805897e-03  2.54266933e-02\n",
      " -1.95770822e-02 -5.05221135e-04  2.29660794e-02  1.14687392e-03\n",
      " -3.05778477e-02 -1.20380903e-02  4.10249978e-02  4.78896834e-02\n",
      " -2.32392307e-02 -2.22905334e-02 -4.52491939e-02  6.87872022e-02\n",
      "  5.07475697e-02 -8.51890370e-02  1.22700427e-02 -4.19922872e-03\n",
      "  1.74581430e-07  4.89447974e-02  5.47276549e-02  4.64144424e-02\n",
      "  6.84408657e-03 -7.54181342e-03  1.03514863e-03  1.11518297e-02\n",
      "  6.45571649e-02 -2.31157877e-02  2.75402758e-02  5.68165909e-03\n",
      " -5.34588518e-03  2.03172974e-02  3.86311114e-02 -1.14938624e-01\n",
      "  6.65325555e-04 -4.80019264e-02 -2.68524587e-02 -3.76124643e-02\n",
      " -2.67525893e-02  1.16959296e-01  1.23010039e-01  5.05401380e-02\n",
      "  3.38276923e-02 -9.46098287e-03 -2.21613385e-02  5.55335693e-02\n",
      "  1.32977553e-02 -7.94676691e-03 -1.65200811e-02 -2.01246347e-02\n",
      " -1.54601832e-04 -4.78473445e-03 -4.43360215e-04 -2.08702311e-02\n",
      "  3.40043083e-02  2.13220771e-02  2.01749001e-02  8.03351309e-03\n",
      " -8.63491464e-03 -3.06425076e-02 -1.70585010e-02 -2.04062182e-02\n",
      " -5.48702665e-02  4.72279266e-02 -9.62407216e-02 -6.78085955e-03\n",
      " -1.41451769e-02 -2.41882112e-02  5.74495979e-02  1.93475112e-02\n",
      " -6.66815601e-03 -5.41756079e-02  2.21337937e-02  5.40176071e-02\n",
      " -4.46846429e-03 -6.50932267e-03 -8.35927799e-02 -1.90106444e-02\n",
      "  1.19445659e-02 -3.35751660e-02 -4.50548343e-03 -1.87947992e-02\n",
      " -3.78920734e-02  6.20935820e-02  3.17688240e-03  5.89027163e-03\n",
      "  1.82997207e-34  2.57511269e-02  2.32027434e-02  4.26700860e-02\n",
      "  4.00084369e-02  2.16641165e-02 -5.46962880e-02  2.12589595e-02\n",
      "  6.09922688e-03  1.85817406e-02 -8.04685727e-02 -2.75180191e-02]\n",
      "\n",
      "Sentence: I like anime\n",
      "Embedding: [-6.93405606e-03  8.31267610e-02 -5.16947173e-03  1.07066920e-02\n",
      "  4.17432562e-02  7.31636658e-02 -4.60939854e-02  1.11496942e-02\n",
      " -6.00545891e-02  2.48620138e-02 -4.87616844e-02 -1.76980086e-02\n",
      " -1.48248030e-02  6.59389719e-02 -1.69593003e-02 -8.61068144e-02\n",
      "  1.09466445e-02 -2.69320887e-02  2.12294012e-02 -5.56083862e-03\n",
      "  4.08552364e-02  1.44387397e-03 -3.64677645e-02 -9.54216905e-03\n",
      "  1.66724212e-02 -1.27601558e-02  7.31214322e-03 -9.28649455e-02\n",
      "  2.86003742e-02  8.16831440e-02  1.49449809e-02 -4.70271297e-02\n",
      " -1.49225630e-03 -2.27581859e-02  1.15931948e-06  2.03999486e-02\n",
      "  3.03704869e-02  2.41114907e-02  3.51884961e-02  6.98374286e-02\n",
      " -1.69947429e-03  3.19701061e-02 -5.13841659e-02 -1.03450743e-02\n",
      " -2.08511092e-02  3.75421681e-02  9.68790799e-02  8.12810939e-03\n",
      "  6.26243874e-02  3.27114351e-02 -1.85978170e-02 -7.02940673e-02\n",
      " -4.90627065e-02 -3.97301018e-02  6.95797149e-03  8.60371366e-02\n",
      "  3.95000614e-02 -6.91373944e-02  8.23960304e-02  2.42355820e-02\n",
      "  6.16369257e-03 -4.10175808e-02 -1.96611765e-03 -4.28670878e-03\n",
      "  1.83231961e-02  3.33217680e-02  2.62793154e-02 -4.00071964e-02\n",
      "  2.74089556e-02  5.11379614e-02 -1.47296311e-02 -4.66737576e-04\n",
      " -1.92722604e-02  3.01597156e-02  2.83605084e-02 -1.47696231e-02\n",
      " -2.51136422e-02  3.88739482e-02  1.77433342e-02 -2.35036761e-02\n",
      "  3.92886028e-02  5.54469414e-02  6.59103738e-03 -2.54791938e-02\n",
      " -2.08103471e-02  2.84411795e-02  2.74702273e-02  1.78454928e-02\n",
      " -2.66483240e-02 -2.63648736e-03 -3.57733108e-02 -3.52454744e-02\n",
      "  1.52110737e-02  4.01715599e-02 -1.61675760e-03  2.12382823e-02\n",
      " -3.60354371e-02 -9.66006704e-03  1.25305916e-04 -4.10377653e-03\n",
      " -2.57015731e-02  5.52182533e-02 -5.86376786e-02  1.69897601e-02\n",
      " -1.10658323e-02 -1.46687338e-02  3.02907340e-02  6.31658174e-03\n",
      "  2.04820335e-02  2.98036803e-02  1.29343560e-02 -1.90849956e-02\n",
      " -2.83087231e-02  5.14581092e-02  1.16648786e-02  2.52668019e-02\n",
      " -1.97662581e-02  5.11184335e-02 -2.68597081e-02  2.93117873e-02\n",
      " -3.64268981e-02 -7.30978996e-02  5.26292361e-02  6.78128153e-02\n",
      " -2.31451802e-02  1.98649056e-02 -9.56281722e-02  2.98544131e-02\n",
      "  1.25150997e-02 -1.86838303e-02 -2.36811675e-02 -4.54187728e-02\n",
      "  4.55351770e-02 -1.35528389e-02  1.61580909e-02 -1.47315422e-02\n",
      " -2.32354011e-02 -3.01457010e-02 -7.89092295e-03  1.59124006e-03\n",
      " -1.07771042e-03 -1.29705900e-02  7.70679535e-03 -4.83897049e-04\n",
      "  2.18867287e-02  1.72456037e-02  6.18202798e-03 -5.08516803e-02\n",
      " -6.95047202e-03 -2.76053930e-03  3.84912640e-02  1.71972942e-02\n",
      " -2.58532520e-02  6.62112469e-03 -1.52773352e-03  2.79369690e-02\n",
      "  1.20910481e-02 -7.46496841e-02  1.69588160e-02  9.22693964e-03\n",
      "  2.66586822e-02  1.14670387e-02  4.39523645e-02  2.76753474e-02\n",
      " -4.85538952e-02  2.85192713e-04  9.10820253e-03  2.33488679e-02\n",
      " -8.34916383e-02  9.10449866e-03  4.24645245e-02 -2.61937734e-02\n",
      " -4.95699197e-02 -4.29452434e-02  5.26988693e-02  5.76338619e-02\n",
      " -4.85260114e-02  3.49998251e-02 -1.06862132e-02 -5.58911450e-02\n",
      "  5.35553228e-03 -2.32768320e-02  1.02999561e-01  7.59214610e-02\n",
      " -3.93073494e-03  2.21952032e-02 -3.10756005e-02 -1.45106763e-02\n",
      " -3.71412225e-02 -5.49524464e-02  3.84695344e-02  3.11788302e-02\n",
      " -1.62648950e-02  1.38526717e-02  2.04614867e-02 -4.96244198e-03\n",
      "  2.21731700e-03 -1.77450944e-02  5.52800111e-02 -2.57961322e-02\n",
      " -4.86270944e-03 -1.28761036e-02  5.15534803e-02 -3.14504988e-02\n",
      " -2.82436665e-02 -3.49146873e-02  1.68822415e-03 -4.82598972e-03\n",
      "  9.28478166e-02  4.44422569e-03  9.74804722e-03 -1.34360772e-02\n",
      "  3.23194638e-02 -7.04637682e-03  4.26603444e-02 -2.76221856e-02\n",
      " -1.57392037e-03 -1.14597171e-03 -7.61990771e-02  6.51539117e-02\n",
      " -7.89234415e-02  2.40292680e-02  4.78184260e-02  1.42551484e-02\n",
      " -1.92336887e-02  2.06576660e-02 -4.08365275e-04  4.62680086e-02\n",
      "  6.15523756e-02 -2.78703216e-02 -5.23282727e-03 -1.09998621e-02\n",
      "  1.71318447e-04  2.63879597e-02  1.97201520e-02  4.01874259e-02\n",
      "  2.37827152e-02  2.92305578e-03 -2.54993029e-02 -9.56190899e-02\n",
      "  3.43026733e-03 -2.30318066e-02  5.40040433e-02  3.39581817e-02\n",
      "  5.97448787e-03 -3.27403061e-02  3.41579467e-02 -7.26704067e-03\n",
      " -5.22090383e-02 -4.04362567e-02  1.90774549e-03  3.34911258e-03\n",
      " -6.02619909e-03  3.98710184e-02 -6.82883337e-03 -1.06252218e-02\n",
      " -1.61948763e-02  1.38234049e-02 -2.61310712e-02 -8.68671462e-02\n",
      "  7.14635849e-02 -5.81559464e-02 -3.86818685e-02  2.40069907e-02\n",
      " -4.66520041e-02  2.62733246e-03  3.20503153e-02 -3.98746505e-02\n",
      " -2.70304903e-02  1.77784972e-02 -6.41240329e-02 -5.87690584e-02\n",
      "  2.44677681e-02 -4.29952517e-02  1.82653423e-02  1.36108650e-02\n",
      "  4.67914902e-03 -4.78657521e-02 -1.96300372e-02  2.91672684e-02\n",
      "  3.26059130e-03  4.21764925e-02  2.44204160e-02  2.32213810e-02\n",
      "  1.14746764e-02  1.42746922e-02  3.82753909e-02 -3.28354090e-02\n",
      "  1.01156756e-02  2.69225817e-02 -2.05092635e-02  4.67909593e-03\n",
      " -4.44879457e-02 -6.34491593e-02  3.77502781e-03 -5.70380203e-02\n",
      " -2.47954167e-02 -4.60028425e-02  1.89648271e-02 -4.40169498e-02\n",
      "  7.14019910e-02 -1.71736777e-02  2.56686211e-02  2.32557487e-02\n",
      "  3.22542153e-02  1.14958007e-02  4.03128788e-02 -8.57782178e-03\n",
      "  2.96785086e-02  9.08214226e-02 -2.44844481e-02 -4.33223434e-02\n",
      "  7.58126797e-03 -3.97827551e-02  6.15622327e-02  5.10334820e-02\n",
      " -2.52980646e-02 -6.95815459e-02  4.23951708e-02  2.87339743e-02\n",
      "  9.89245623e-03  5.24259843e-02  3.85091938e-02  1.71343461e-02\n",
      " -4.47695814e-02 -8.07996374e-03  1.02337764e-03 -5.04261174e-04\n",
      "  3.53327096e-02 -2.05329917e-02  4.54433262e-02  4.92924415e-02\n",
      "  3.59391533e-02  1.09321177e-02  4.01174426e-02 -2.51155533e-03\n",
      "  1.14746382e-02  4.70604375e-02  1.23432148e-02 -2.72275251e-03\n",
      "  2.38891058e-02  3.05357738e-03 -3.83726843e-02 -2.02614199e-02\n",
      " -2.80425828e-02 -5.22276573e-02 -5.28994314e-02 -2.13422114e-03\n",
      " -6.75407499e-02  1.38002224e-02  2.43693907e-02 -2.85531231e-03\n",
      "  1.51284449e-02 -2.80471146e-02  1.49806160e-02  5.20916916e-02\n",
      "  4.74501401e-02 -4.06806916e-02 -1.06029987e-01 -8.97741411e-04\n",
      " -3.84546421e-03  4.68950048e-02 -1.03441672e-02 -6.83920784e-03\n",
      " -4.64229435e-02  1.01350425e-02  4.28534932e-02  5.54265035e-03\n",
      " -2.93472558e-02  3.75226070e-03 -2.49558594e-03  1.97227262e-02\n",
      " -3.29717174e-02  3.14752571e-02  3.45192180e-04  3.31106819e-02\n",
      "  1.96179431e-02  5.45837581e-02 -3.36827599e-02 -2.68345866e-02\n",
      "  7.08969235e-02 -4.47845832e-02 -1.94294788e-02  2.55002733e-02\n",
      " -4.04840475e-03  1.40512371e-02  1.64268399e-03  8.56130384e-03\n",
      " -2.51378901e-02  3.23527753e-02  5.15944995e-02 -6.40885308e-02\n",
      " -1.01337723e-01 -7.40140229e-02  6.49780184e-02 -1.92813929e-02\n",
      " -1.50645161e-02 -1.08089307e-02  2.53160615e-02  2.24130624e-03\n",
      " -3.52224931e-02  7.82560706e-02  3.12725711e-03  2.48239003e-02\n",
      " -4.37366311e-03  5.25370240e-02 -3.49412374e-02  3.18449661e-02\n",
      "  4.02850239e-03 -4.12885398e-02 -3.19446549e-02  7.12143481e-02\n",
      " -1.04893623e-02 -4.16554557e-03 -2.17049476e-02  3.89060974e-02\n",
      " -1.06114950e-02 -1.72950365e-02  3.78301255e-02  7.80472066e-03\n",
      " -5.00598513e-02 -2.14113519e-02  5.49180508e-02 -1.05460687e-02\n",
      " -5.63721173e-02 -3.55650708e-02 -5.51253520e-02  8.35774653e-03\n",
      " -1.18021388e-02 -2.29572654e-02  4.46639210e-03  2.65969373e-02\n",
      " -2.43471023e-02 -3.26038222e-04 -4.00949828e-02 -7.80864656e-02\n",
      " -5.98526224e-02  3.37538272e-02 -4.48207334e-02 -8.62546340e-02\n",
      " -4.32987101e-02 -3.01684514e-02  9.36636981e-03 -1.96338370e-02\n",
      " -2.64797453e-02  3.10131349e-02  5.77485608e-03 -2.21768059e-02\n",
      " -5.03615029e-02  4.59404550e-02  3.23960371e-02 -1.70961395e-02\n",
      " -5.44710532e-02  6.24407781e-03  1.12455478e-02 -4.25581783e-02\n",
      "  1.48908440e-02 -1.30001213e-02 -1.07013695e-02  4.97882022e-03\n",
      "  6.79130405e-02  1.12364190e-02 -1.90418120e-02  3.48055214e-02\n",
      "  2.54534520e-02  9.41328984e-03  3.02082263e-02  1.31071713e-02\n",
      "  8.54751933e-03 -4.91854101e-02 -4.16081361e-02 -1.11817727e-02\n",
      " -4.45503779e-02 -5.56672132e-03 -1.95177030e-02  4.30753864e-02\n",
      "  3.63600627e-02 -6.13982938e-02 -2.58438680e-02 -6.24515936e-02\n",
      "  1.09424312e-02  8.45319685e-03 -1.37021337e-02  1.47181936e-02\n",
      " -2.51621418e-02 -2.76393592e-02  1.97824519e-02 -1.04572177e-02\n",
      " -1.61303673e-02 -4.77166325e-02  4.36540730e-02 -2.90308706e-02\n",
      " -3.08366530e-02  1.56875793e-02 -1.24420794e-02  1.47932423e-02\n",
      " -2.89706234e-02 -4.50175516e-02  1.60749462e-02  7.71928206e-02\n",
      " -4.38401252e-02  1.83124579e-02  1.30347973e-02  2.89560892e-02\n",
      "  7.45783076e-02 -2.70589162e-02 -3.42608988e-02  6.57106638e-02\n",
      " -3.83341201e-02  2.43167132e-02  6.03678115e-02  1.07139517e-02\n",
      " -1.39957825e-02  3.95566113e-02  8.06641672e-03 -4.24129469e-03\n",
      "  1.48425428e-02 -3.22161056e-02 -2.81667970e-02 -5.75959086e-02\n",
      " -1.89932398e-02 -1.66044068e-02  2.52637342e-02  1.78465247e-02\n",
      " -4.15366478e-02  7.96595681e-03  3.10279895e-02 -3.08552999e-02\n",
      " -1.76942199e-02  3.86347361e-02  6.37114467e-03 -1.13782557e-02\n",
      "  2.75273118e-02 -2.10000239e-02 -2.85912678e-02  4.23558727e-02\n",
      " -2.10498217e-02  4.59144264e-02 -2.77710836e-02  3.14823259e-03\n",
      "  1.53195169e-02  1.61782391e-02 -5.62819988e-02 -7.23383278e-02\n",
      "  1.58823337e-02  2.86751948e-02  2.43938118e-02  7.50408974e-03\n",
      " -1.03278756e-02  3.64163853e-02 -2.13352237e-02  1.40396468e-02\n",
      " -2.02244939e-03 -3.31627876e-02 -5.92265511e-03 -5.85927841e-33\n",
      " -2.39349287e-02 -1.39859651e-04 -4.21687998e-02  2.70074382e-02\n",
      " -2.03829743e-02 -5.37573509e-02 -2.00225729e-02 -1.49294334e-02\n",
      "  3.41383703e-02 -3.49373324e-03 -8.98511149e-03  2.76526008e-02\n",
      " -5.24157053e-03 -3.26530300e-02 -9.09809582e-03  3.72798671e-03\n",
      "  2.44143233e-02  4.79610637e-02 -3.15655991e-02 -5.15950471e-02\n",
      " -2.27522217e-02 -3.44999768e-02 -1.63624492e-02  8.23666621e-03\n",
      "  2.25357488e-02  4.97100316e-02  1.55392718e-02 -3.34401615e-02\n",
      "  3.93595174e-02  7.20494986e-02 -1.31100770e-02  3.31286862e-02\n",
      " -7.13631213e-02  6.95430711e-02  6.95295224e-04  4.23403271e-02\n",
      " -2.97089443e-02 -2.21897122e-02 -5.50328754e-02  2.59096492e-02\n",
      "  2.55688839e-02 -4.48003076e-02  2.47384179e-02 -1.10666333e-02\n",
      " -1.44463601e-02 -6.10273071e-02  4.54397574e-02 -5.35748154e-03\n",
      "  1.09768575e-02  7.71499192e-03 -2.80659907e-02 -3.51490714e-02\n",
      " -4.05442715e-02  1.70788169e-02  4.41791601e-02 -9.98982638e-02\n",
      "  7.49719739e-02  1.15610855e-02  3.60844284e-03  4.10339274e-02\n",
      " -2.63469405e-02 -4.46831360e-02 -1.54416189e-02 -1.89985353e-02\n",
      "  2.24562385e-03  2.46766303e-02  6.14521950e-02 -7.05622509e-02\n",
      "  1.33201843e-02  7.67463446e-03 -2.49705510e-03  6.87458785e-03\n",
      "  2.20673755e-02 -7.69221783e-03 -2.39756778e-02 -3.05221323e-02\n",
      " -4.06813957e-02  4.61724913e-03 -5.68656158e-03  6.04388826e-02\n",
      "  2.43760068e-02  3.44796516e-02 -2.37941891e-02  1.06223766e-02\n",
      "  6.42477423e-02 -1.10986049e-03 -1.88845210e-02  4.02100710e-03\n",
      " -4.78663631e-02  2.39334861e-03  2.97432076e-02  2.21788115e-03\n",
      " -2.76465388e-03  5.16712840e-04 -3.73350852e-03  3.13452780e-02\n",
      " -3.36607061e-02 -3.17128226e-02 -1.23277875e-02  2.57090703e-02\n",
      "  6.51886314e-02  3.69155928e-02  4.22451198e-02 -2.99124848e-02\n",
      "  1.32470196e-02  1.51633900e-02 -3.32686584e-03  6.92704543e-02\n",
      "  3.40802595e-03 -2.50769705e-02  1.29384361e-03  2.50152480e-02\n",
      "  6.54767007e-02  3.05809733e-02  2.28788275e-02  2.04008967e-02\n",
      "  3.36982566e-03  3.15077901e-02 -6.72868341e-02  9.63970274e-03\n",
      " -7.18017481e-03 -5.74417636e-02 -8.39033648e-02 -6.22317269e-02\n",
      " -4.07032249e-03 -1.86470766e-02  1.16244107e-02  3.86908278e-02\n",
      " -3.30630280e-02 -6.04059920e-02  2.17213901e-03 -1.59009323e-02\n",
      "  2.03837601e-07 -5.49167357e-02 -2.96960981e-03 -3.00946496e-02\n",
      "  9.74229574e-02  1.59631185e-02  5.20886593e-02 -2.93316841e-02\n",
      "  6.15492743e-03  5.43548167e-02  4.71146517e-02  1.74595695e-02\n",
      " -9.82857030e-03  5.07964157e-02  8.59113224e-03 -1.89714339e-02\n",
      " -5.97809404e-02 -3.40674398e-03  2.81935167e-02  9.39697493e-03\n",
      " -4.34560888e-02 -1.25973318e-02  2.69264430e-02  1.99172534e-02\n",
      "  1.96120758e-02  4.10709195e-02  2.49741655e-02  6.35051681e-03\n",
      " -1.70431547e-02  4.31237258e-02  2.93019228e-02 -2.22941432e-02\n",
      "  6.62234053e-02 -7.04955589e-03 -3.66949067e-02 -1.54765686e-02\n",
      " -9.82428715e-03  4.67674844e-02  1.10746464e-02 -1.40173743e-02\n",
      "  6.50801733e-02 -1.28226299e-02  1.12803161e-01 -2.19297949e-02\n",
      " -3.05437483e-02  3.99716292e-03  2.37165373e-02  1.34460488e-02\n",
      "  3.72763202e-02 -4.84612137e-02 -3.45888408e-03 -6.31113946e-02\n",
      "  1.01798140e-02 -1.73098221e-02  1.49830170e-02  1.30538326e-02\n",
      " -5.82997836e-02  1.50073543e-02 -1.03114010e-03  6.19314704e-03\n",
      " -3.15633975e-02 -3.76333371e-02  2.74311826e-02 -4.42814343e-02\n",
      "  5.09625413e-02  4.31140251e-02  3.20192315e-02 -3.92212011e-02\n",
      "  7.93261068e-35 -1.17495535e-02 -4.10649367e-02 -4.85460572e-02\n",
      "  4.90392298e-02  2.28217710e-02 -2.58414578e-02  2.02102773e-02\n",
      "  6.46908768e-03  4.25411761e-02 -1.85320782e-03 -5.82965240e-02]\n",
      "\n",
      "Sentence: This is a very good model\n",
      "Embedding: [-2.52110362e-02  1.61039717e-02  1.75085794e-02  2.71036904e-02\n",
      " -7.33836414e-03  9.42141004e-03  2.23117787e-02 -1.27661612e-03\n",
      " -1.87026672e-02  2.14933157e-02 -4.84646820e-02 -2.01936085e-02\n",
      "  5.58811706e-03  8.57518613e-02 -3.45806256e-02 -3.35359946e-02\n",
      "  4.46785651e-02  3.95072661e-02 -2.74081435e-02 -1.05503714e-02\n",
      " -3.37001905e-02 -2.80097220e-02 -7.54020736e-03  4.54129558e-03\n",
      "  1.92453843e-02 -6.26938045e-03  1.32750766e-02  1.19800009e-02\n",
      "  3.49957054e-03 -5.92642510e-03  1.95243920e-04  2.20782906e-02\n",
      " -3.42383534e-02  1.19046524e-01  1.79188669e-06 -5.07440716e-02\n",
      " -5.45551889e-02  1.67639507e-03 -4.96857204e-02  2.05113869e-02\n",
      "  7.22120628e-02  3.98226641e-02 -4.39192057e-02 -2.07047183e-02\n",
      "  1.03939222e-02  3.78605798e-02  3.11670788e-02  7.18913749e-02\n",
      "  8.55974481e-03  2.37006471e-02 -7.41346739e-03 -1.47303818e-02\n",
      "  1.11908633e-02  7.56628904e-03 -1.12009384e-02  1.46852955e-02\n",
      " -2.78018974e-02  5.39204851e-02  3.56858373e-02 -4.97807702e-03\n",
      " -1.98987443e-02  3.24211083e-04  1.25707025e-02 -1.42863458e-02\n",
      "  1.99123099e-02  1.99044142e-02  6.78167641e-02 -4.21554595e-02\n",
      "  4.18641651e-03  2.28142496e-02 -3.00923386e-03  2.61975098e-02\n",
      "  1.21838506e-03  1.24419201e-02 -2.34488007e-02  7.01245572e-03\n",
      " -2.72997878e-02  1.01421792e-02 -3.07048149e-02 -5.82060963e-03\n",
      "  2.06722692e-02 -1.45803008e-03  5.82037587e-03 -3.75089236e-02\n",
      "  7.19276294e-02 -1.60790961e-02 -7.47014955e-03  1.55934040e-02\n",
      " -3.56110334e-02  5.94019890e-03 -2.39259582e-02 -3.14047337e-02\n",
      " -4.99343351e-02  1.27751119e-02 -4.46485281e-02  1.13649685e-02\n",
      " -2.57071182e-02  3.69808227e-02 -3.10704596e-02 -6.70692846e-02\n",
      "  5.83014339e-02  1.91626064e-02  4.21030559e-02 -3.89957130e-02\n",
      "  1.24419173e-02  1.12769483e-02 -6.18182570e-02 -5.08934595e-02\n",
      " -9.84738022e-03  7.15937838e-02 -7.22739706e-03  8.88750888e-03\n",
      " -5.17818294e-02  2.55199280e-02  5.52993417e-02 -6.05223812e-02\n",
      " -7.72866886e-03  1.04215695e-02  6.14168681e-02  4.15531136e-02\n",
      "  6.17173649e-02 -2.50921566e-02  4.72742617e-02  4.35824879e-02\n",
      "  5.16306050e-03  2.35861260e-02 -5.49126901e-02  6.42549573e-03\n",
      " -2.07435377e-02 -2.91748904e-02  1.19914711e-02 -2.93248184e-02\n",
      "  1.57625861e-02 -3.70897353e-02 -4.27717716e-02  1.34195006e-02\n",
      " -2.42181718e-02 -5.22184409e-02 -2.92472430e-02  2.61884872e-02\n",
      "  2.28956845e-02 -4.46353927e-02 -1.63397752e-03 -1.22137200e-02\n",
      " -5.21765761e-02  3.78568470e-02  1.23790996e-02  2.23480985e-02\n",
      "  4.18227576e-02 -1.42736482e-02  5.26673123e-02 -4.15245555e-02\n",
      " -1.99406687e-02 -3.06211412e-02  1.79799274e-02  1.43570881e-02\n",
      " -6.17220066e-02  4.54324298e-02 -7.34984688e-03 -2.81649735e-02\n",
      "  2.29813457e-02 -1.18887972e-03 -3.04444414e-02  1.41578820e-02\n",
      " -3.14615145e-02 -2.71729231e-02 -5.79369701e-02 -3.20758708e-02\n",
      " -6.01131879e-02 -6.32843077e-02 -1.37835124e-03  9.92248068e-04\n",
      " -1.00878049e-02  9.52354223e-02  2.53909677e-02 -7.34182447e-02\n",
      "  3.69892716e-02  8.88949782e-02 -8.28101039e-02  7.56857125e-03\n",
      " -1.50166368e-02 -7.92779103e-02  8.00451264e-03  1.69849005e-02\n",
      " -6.64342865e-02 -4.11983803e-02 -4.75314856e-02  3.59652042e-02\n",
      " -1.24515099e-02 -9.85600799e-03  1.79407373e-02  9.14523471e-03\n",
      " -9.75164026e-03  1.07682552e-02  2.21719816e-02 -2.97183786e-02\n",
      "  4.90516238e-02 -1.55477049e-02  3.03423852e-02 -5.48898987e-03\n",
      " -7.27668330e-02 -8.41570497e-02  1.28106043e-01  2.56022345e-03\n",
      " -9.48904641e-03  6.49898574e-02 -4.53378372e-02 -4.77492772e-02\n",
      "  2.60731373e-02 -8.39967281e-03  6.77380040e-02  3.73949669e-02\n",
      "  1.51980361e-02  5.58267236e-02 -2.31039058e-02  9.85539053e-03\n",
      "  5.91997430e-02 -2.93716020e-03 -3.90943792e-03  3.69418897e-02\n",
      "  5.69069991e-03  1.39559368e-02  3.13182850e-03 -2.45132716e-03\n",
      " -7.05286488e-02  2.48571318e-02  1.89344343e-02  3.72064635e-02\n",
      " -1.70482080e-02 -4.33601961e-02  2.07704846e-02  3.00331581e-02\n",
      " -4.65994747e-03  1.59750767e-02  4.99885045e-02  2.39087380e-02\n",
      " -1.80763826e-02  1.19646359e-02 -5.88443875e-02 -4.29657102e-03\n",
      "  1.88897699e-02  2.07730122e-02  8.06461051e-02 -3.00249401e-02\n",
      " -2.31178990e-03 -3.50598507e-02 -6.81487005e-03  4.50901967e-03\n",
      "  4.39227521e-02 -1.06247477e-02  4.55519594e-02  3.52631249e-02\n",
      "  5.54464199e-02  2.70724320e-03  2.46415827e-02  6.25154795e-03\n",
      " -1.35714477e-02 -1.41208861e-02 -8.87132622e-03 -2.58921944e-02\n",
      "  2.82490700e-02 -2.12210100e-02  4.08388563e-02 -8.09339136e-02\n",
      "  5.11986017e-02  3.52285895e-03  1.92216579e-02 -3.18694003e-02\n",
      "  7.85411149e-03 -2.78184353e-03 -3.99688296e-02  4.31305692e-02\n",
      "  2.92357132e-02  3.25686261e-02 -1.53626576e-02 -1.26975514e-02\n",
      " -2.90804617e-02  4.22048345e-02 -5.15576527e-02 -4.07003127e-02\n",
      " -1.97951291e-02 -5.75386547e-02 -4.92456108e-02 -3.92845878e-03\n",
      "  2.20801886e-02  2.74900235e-02  5.47656603e-02 -3.53153585e-03\n",
      " -4.83019017e-02  3.11218500e-02  4.33903672e-02  1.34142842e-02\n",
      "  1.78827066e-03 -4.71758982e-03 -7.40192132e-03  1.57016404e-02\n",
      " -5.67728989e-02  6.16556853e-02 -2.93029733e-02 -4.62127924e-02\n",
      "  9.09938067e-02 -1.23506803e-02 -2.10865457e-02 -1.69689693e-02\n",
      "  1.06772855e-02 -2.03938643e-03  7.96724402e-04  3.25097889e-02\n",
      " -2.23020408e-02 -4.89644706e-03 -1.03311120e-02  2.66583083e-04\n",
      "  5.44413440e-02 -1.51895024e-02 -2.09441571e-03 -1.00599891e-02\n",
      "  3.22048948e-03  1.58659425e-02 -4.22076881e-02  2.06568036e-02\n",
      " -1.18791591e-02  5.11080809e-02 -2.35141721e-02  2.93184463e-02\n",
      "  2.42633335e-02  4.89730388e-02 -1.39034698e-02  1.45689044e-02\n",
      " -1.37009416e-02 -1.39079271e-02  1.30902920e-02 -1.72271635e-02\n",
      " -1.65334751e-03  4.14455496e-02 -1.93841208e-03 -9.64943552e-04\n",
      " -4.34897505e-02 -8.75701010e-03 -2.39984151e-02  8.48169904e-03\n",
      " -6.18827762e-03 -2.82660462e-02 -3.90775241e-02  1.36200683e-02\n",
      " -8.17224830e-02 -6.53121853e-03 -3.34047079e-02  2.39684880e-02\n",
      " -4.23432216e-02 -7.04648206e-03  1.74321476e-02  2.49489956e-03\n",
      " -2.72028875e-02  3.55168320e-02 -7.43648782e-03  2.70542353e-02\n",
      " -3.59727740e-02 -3.44840214e-02 -1.56363882e-02 -6.07502833e-02\n",
      "  8.13670158e-02  1.98099599e-03 -2.46360879e-02  4.21071090e-02\n",
      " -3.62862982e-02  9.17517580e-03  5.61372302e-02  3.39546539e-02\n",
      " -4.59239855e-02 -5.55981994e-02  2.27190331e-02 -4.16518329e-03\n",
      " -9.47058946e-02  5.48219569e-02 -3.28128673e-02 -3.06249205e-02\n",
      " -3.24315764e-02 -7.63901975e-03  3.77427414e-02 -1.25165163e-02\n",
      "  2.50766762e-02  4.98038158e-02 -1.10096578e-02  2.63979714e-02\n",
      "  2.31032893e-02  2.29115654e-02  2.74678897e-02  2.75725555e-02\n",
      " -2.62264367e-02 -2.58952752e-02  1.63260680e-02 -2.49197055e-02\n",
      " -1.50282020e-02 -6.45960420e-02  2.19334625e-02 -6.34206310e-02\n",
      " -3.90439034e-02  2.23747883e-02 -4.22034133e-03 -1.71795022e-02\n",
      " -3.75194810e-02  7.33459592e-02  2.36403989e-03  5.30460030e-02\n",
      " -4.57681715e-02 -4.17602584e-02  5.08487411e-02  3.48968618e-02\n",
      " -4.44352143e-02 -4.28165011e-02  2.30504554e-02  1.39166284e-02\n",
      " -1.28465956e-02  2.84858104e-02  1.77436993e-02 -6.36409968e-02\n",
      " -2.25505549e-02 -1.82235322e-03 -7.25653302e-03  5.57454750e-02\n",
      "  2.68228054e-02  6.20263675e-03  1.58394873e-02 -2.41558235e-02\n",
      "  5.52445054e-02  3.77848260e-02 -1.10658268e-02 -1.07419072e-02\n",
      "  2.82189883e-02  6.65514544e-02  1.61778629e-02 -1.60312597e-02\n",
      " -1.41662713e-02 -4.02440876e-02  5.36476448e-03 -2.53989734e-02\n",
      "  5.44325896e-02  1.64865013e-02 -4.28459160e-02 -1.55808721e-02\n",
      "  3.02678291e-02  3.19344625e-02 -4.86160070e-03 -2.48544221e-03\n",
      " -4.00373712e-02  3.40201072e-02  3.32209282e-02  1.62312612e-02\n",
      " -3.39178853e-02  8.54598079e-03 -1.16408085e-02 -1.19861640e-01\n",
      "  3.16740237e-02  4.77225892e-02  1.13180624e-02 -2.00614315e-02\n",
      " -1.34041440e-03 -6.00638427e-03 -1.94743257e-02  3.01222745e-02\n",
      "  2.56833527e-02  3.27707492e-02 -7.94622526e-02 -2.06559505e-02\n",
      "  4.29537408e-02 -1.93052758e-02 -1.88929420e-02 -6.73473179e-02\n",
      " -4.71825637e-02 -2.52489746e-02 -3.02183926e-02 -1.33870691e-02\n",
      "  1.85874868e-02  2.35535763e-02  3.32954004e-02 -3.12986113e-02\n",
      " -2.28049029e-02 -2.46902206e-03 -9.31962654e-02  9.65505186e-03\n",
      "  2.92212181e-02  4.11449969e-02 -8.08689650e-03 -1.93385258e-02\n",
      " -1.07304649e-02 -2.08396781e-02 -6.57034591e-02 -1.19638545e-02\n",
      " -2.24337839e-02  1.29738435e-01 -2.31365394e-03 -1.84089784e-02\n",
      "  2.40163412e-03 -1.47186853e-02  3.79623026e-02  6.98468685e-02\n",
      " -4.16456237e-02 -4.88538109e-03 -4.09297869e-02 -7.12847188e-02\n",
      " -4.54830080e-02  1.16203036e-02  1.46885589e-02  1.42546734e-02\n",
      "  4.27770391e-02 -6.39658198e-02  2.16793027e-02 -7.48052774e-03\n",
      "  1.04171252e-02  5.30727347e-03 -1.93275269e-02  5.16316704e-02\n",
      " -4.51108515e-02 -5.77670708e-02 -3.44601609e-02  5.34307174e-02\n",
      "  4.26385887e-02  9.24046710e-03  3.47500667e-02 -1.09382719e-02\n",
      "  1.00778043e-02 -1.02402680e-02  2.77362037e-02 -2.50858869e-02\n",
      " -3.78379524e-02  4.89672385e-02  2.39010956e-02 -1.48842698e-02\n",
      " -3.17523256e-02 -9.13524814e-03  1.42093059e-02 -1.72735984e-03\n",
      " -1.15664834e-02  4.04151157e-03 -5.85713759e-02  7.65155852e-02\n",
      "  5.55917099e-02 -4.83379439e-02 -3.58093195e-02 -3.13002653e-02\n",
      " -9.13704187e-03 -1.08112590e-02  2.07720865e-02 -1.83250592e-03\n",
      " -4.18077372e-02 -4.36452292e-02  1.18642803e-02  4.23465259e-02\n",
      "  1.61572620e-02 -1.67440996e-02  5.24579873e-03 -4.93491702e-02\n",
      " -4.27655056e-02  2.04692502e-02  4.64829244e-02 -5.87682303e-33\n",
      " -6.62614107e-02  7.46921450e-02 -5.00260517e-02 -3.17482278e-02\n",
      " -6.21188665e-03 -5.98574914e-02  1.20018730e-02  4.57539596e-02\n",
      " -1.78567860e-02 -6.35634214e-02 -1.37134288e-02 -2.10261792e-02\n",
      "  1.93620510e-02  1.41369076e-02  5.21265110e-03  5.36296843e-03\n",
      "  8.05729404e-02  7.65649881e-03 -2.45697889e-03 -6.27389401e-02\n",
      " -2.35623494e-02  3.37404460e-02  4.04512100e-02  5.12008034e-02\n",
      " -6.66643307e-02  2.73048021e-02 -3.31953280e-02 -1.84482019e-02\n",
      " -3.74630727e-02  6.49394747e-03  3.04451678e-05  1.39241274e-02\n",
      " -2.58862153e-02 -6.62611285e-03 -7.87579734e-03  4.47588712e-02\n",
      " -1.02985222e-02  2.88040303e-02 -4.06896360e-02 -4.50647585e-02\n",
      "  1.85600854e-02 -6.55695423e-02  1.89010017e-02 -5.17372973e-03\n",
      " -1.32077551e-02 -4.82855830e-03  4.99790628e-03 -5.06153442e-02\n",
      " -1.32196024e-02 -1.02836648e-02  3.82569525e-03  2.13266723e-02\n",
      " -5.63319772e-03  1.71873451e-03  5.96119743e-03 -4.49572764e-02\n",
      " -2.78867763e-02 -2.92333756e-02  1.57634839e-02 -8.52790754e-03\n",
      "  6.95799589e-02  1.37575921e-02 -5.51353116e-03 -1.72775537e-02\n",
      "  1.95996650e-03  1.98142789e-02  1.48262596e-02 -5.05757146e-02\n",
      "  2.03041062e-02 -1.75999440e-02  9.44921654e-03  1.02795899e-01\n",
      " -1.28784077e-02  2.61215921e-02 -1.13166971e-02 -7.57043809e-02\n",
      "  3.17472517e-02 -1.49686132e-02 -1.58933904e-02  7.75273740e-02\n",
      "  3.80565114e-02 -1.19152199e-02 -1.12699885e-02  1.84344826e-03\n",
      " -3.79339159e-02 -3.62766385e-02 -7.94866588e-03 -4.95735966e-02\n",
      "  4.25060987e-02  2.98414030e-03  5.63377030e-02  1.83334891e-02\n",
      " -3.63926752e-03  1.17488075e-02  1.82185303e-02  3.05330381e-02\n",
      "  2.15789024e-02  4.61901277e-02  2.25097616e-03 -2.53596157e-02\n",
      "  4.60788570e-02  3.58772559e-05 -4.41985764e-02  1.54350204e-02\n",
      " -4.17232141e-02 -7.54859718e-03 -1.02330623e-02 -3.32775190e-02\n",
      " -3.69371921e-02  5.98595217e-02 -4.65464666e-02 -5.15645221e-02\n",
      " -2.60644313e-02  1.54568935e-02  3.47665586e-02 -7.01531097e-02\n",
      "  1.52063919e-02  9.48129445e-02  6.16912555e-04 -1.10280206e-02\n",
      "  1.35505878e-04 -4.29689959e-02 -2.03770902e-02  5.35671376e-02\n",
      " -3.00490633e-02  2.37628147e-02 -6.04294846e-03  5.41162379e-02\n",
      "  2.69123577e-02 -2.08312389e-03  6.69153314e-03 -4.46985587e-02\n",
      "  2.42485982e-07 -9.19533428e-03  3.92404422e-02  2.25012322e-04\n",
      "  3.02517358e-02 -1.21489465e-02  3.77513170e-02 -4.15164717e-02\n",
      " -1.16145229e-02  1.14458231e-02  5.95965683e-02  3.02886721e-02\n",
      " -1.81057360e-02  2.99758017e-02  3.76520008e-02  6.28042668e-02\n",
      " -5.56685068e-02 -5.25304750e-02  1.84967872e-02 -1.91809554e-02\n",
      " -2.31579412e-02  6.97793663e-02  5.82844019e-02  4.25485522e-02\n",
      "  1.54142063e-02  1.38374660e-02 -3.99415344e-02  1.56364441e-02\n",
      " -4.54151817e-02 -5.24998903e-02 -9.26855877e-02  3.66630703e-02\n",
      "  3.36812474e-02  1.15499683e-02 -2.41715387e-02  3.35390233e-02\n",
      " -2.65949545e-03  2.47561056e-02  1.07245445e-01  1.78127084e-02\n",
      "  2.03559101e-02  4.97472510e-02  5.86364865e-02  2.49338653e-02\n",
      " -2.86596678e-02  6.95724040e-02 -2.25826781e-02  2.46385373e-02\n",
      " -1.62539594e-02 -8.72104540e-02 -8.86236317e-03 -6.95479708e-03\n",
      " -1.02237882e-02  3.51210847e-03  5.99672832e-03  8.32469109e-03\n",
      " -2.10910963e-04 -8.27403925e-03  7.70638511e-02 -1.51936784e-02\n",
      "  4.39369865e-03 -3.78537476e-02 -6.79728165e-02  2.40898374e-02\n",
      " -3.01799010e-02 -3.59201357e-02  1.07460106e-02 -9.59006045e-03\n",
      "  1.82600213e-34  1.22719463e-02  2.02531815e-02  2.06443984e-02\n",
      "  3.62306461e-02 -7.68646598e-03 -3.98576679e-03  5.87407798e-02\n",
      " -5.52409589e-02 -3.69801582e-03  5.70821343e-03 -1.11375023e-02]\n",
      "\n"
     ]
    }
   ],
   "source": [
    "# Example\n",
    "sentences = [\"Sentence Transformer is a easy way to create embeddings\", \"I like anime\", \"This is a very good model\"]\n",
    "\n",
    "embeddings = embedding_model.encode(sentences)\n",
    "embeddings_dict = dict(zip(sentences, embeddings))\n",
    "\n",
    "for sentence, embedding in embeddings_dict.items():\n",
    "    print(f\"Sentence: {sentence}\")\n",
    "    print(f\"Embedding: {embedding}\")\n",
    "    print(\"\")"
   ]
  },
  {
   "cell_type": "code",
   "execution_count": 23,
   "id": "f42201e5",
   "metadata": {},
   "outputs": [
    {
     "data": {
      "text/plain": [
       "(768,)"
      ]
     },
     "execution_count": 23,
     "metadata": {},
     "output_type": "execute_result"
    }
   ],
   "source": [
    "embeddings[0].shape"
   ]
  },
  {
   "cell_type": "markdown",
   "id": "aee5b1fe",
   "metadata": {},
   "source": [
    "With CPU"
   ]
  },
  {
   "cell_type": "code",
   "execution_count": 54,
   "id": "f0f3adea",
   "metadata": {},
   "outputs": [
    {
     "data": {
      "application/vnd.jupyter.widget-view+json": {
       "model_id": "afedcb51b5dc49888a7740b22a34677d",
       "version_major": 2,
       "version_minor": 0
      },
      "text/plain": [
       "  0%|          | 0/1685 [00:00<?, ?it/s]"
      ]
     },
     "metadata": {},
     "output_type": "display_data"
    },
    {
     "name": "stdout",
     "output_type": "stream",
     "text": [
      "CPU times: total: 18min 1s\n",
      "Wall time: 4min 42s\n"
     ]
    }
   ],
   "source": [
    "%%time\n",
    "\n",
    "embedding_model.to(\"cpu\")\n",
    "\n",
    "for item in tqdm(pages_and_chunks_over_min_token_len):\n",
    "    item[\"embedding\"] = embedding_model.encode(item[\"sentence_chunk\"])"
   ]
  },
  {
   "cell_type": "markdown",
   "id": "7b5e1895",
   "metadata": {},
   "source": [
    "With GPU"
   ]
  },
  {
   "cell_type": "code",
   "execution_count": 25,
   "id": "b12b4b8c",
   "metadata": {},
   "outputs": [
    {
     "data": {
      "application/vnd.jupyter.widget-view+json": {
       "model_id": "621f3de2cd8d406e8fa6f9bb32c16121",
       "version_major": 2,
       "version_minor": 0
      },
      "text/plain": [
       "  0%|          | 0/1685 [00:00<?, ?it/s]"
      ]
     },
     "metadata": {},
     "output_type": "display_data"
    },
    {
     "name": "stdout",
     "output_type": "stream",
     "text": [
      "CPU times: total: 2min 9s\n",
      "Wall time: 35.2 s\n"
     ]
    }
   ],
   "source": [
    "%%time\n",
    "\n",
    "embedding_model.to(\"cuda\")\n",
    "\n",
    "for item in tqdm(pages_and_chunks_over_min_token_len):\n",
    "    item[\"embedding\"] = embedding_model.encode(item[\"sentence_chunk\"])"
   ]
  },
  {
   "cell_type": "markdown",
   "id": "f071a486",
   "metadata": {},
   "source": [
    "With GPU in batch"
   ]
  },
  {
   "cell_type": "code",
   "execution_count": 24,
   "id": "bbff06f3",
   "metadata": {},
   "outputs": [],
   "source": [
    "text_chunks = [item[\"sentence_chunk\"] for item in pages_and_chunks_over_min_token_len]"
   ]
  },
  {
   "cell_type": "code",
   "execution_count": 25,
   "id": "79362bd4",
   "metadata": {},
   "outputs": [
    {
     "name": "stdout",
     "output_type": "stream",
     "text": [
      "CPU times: total: 20min 1s\n",
      "Wall time: 5min 16s\n"
     ]
    },
    {
     "data": {
      "text/plain": [
       "tensor([[ 0.0674,  0.0902, -0.0051,  ..., -0.0221, -0.0232,  0.0126],\n",
       "        [ 0.0552,  0.0592, -0.0166,  ..., -0.0120, -0.0103,  0.0227],\n",
       "        [ 0.0280,  0.0340, -0.0206,  ..., -0.0054,  0.0213,  0.0313],\n",
       "        ...,\n",
       "        [ 0.0771,  0.0098, -0.0122,  ..., -0.0409, -0.0752, -0.0241],\n",
       "        [ 0.1030, -0.0165,  0.0083,  ..., -0.0574, -0.0283, -0.0295],\n",
       "        [ 0.0864, -0.0125, -0.0113,  ..., -0.0522, -0.0337, -0.0299]])"
      ]
     },
     "execution_count": 25,
     "metadata": {},
     "output_type": "execute_result"
    }
   ],
   "source": [
    "%%time\n",
    "# embed text chunks in batches\n",
    "text_chunk_embeddings = embedding_model.encode(text_chunks, batch_size=8, convert_to_tensor=True)\n",
    "\n",
    "text_chunk_embeddings"
   ]
  },
  {
   "cell_type": "code",
   "execution_count": 31,
   "id": "b344142a",
   "metadata": {},
   "outputs": [],
   "source": [
    "# CPU          : 4min 42s\n",
    "# GPU          : 35.2 s\n",
    "# GPU in batch : 25.4"
   ]
  },
  {
   "cell_type": "code",
   "execution_count": 28,
   "id": "f220b652",
   "metadata": {},
   "outputs": [],
   "source": [
    "save_path = \"text_chunks_and_embeddings_df.csv\""
   ]
  },
  {
   "cell_type": "code",
   "execution_count": null,
   "id": "ab03efe7",
   "metadata": {},
   "outputs": [],
   "source": [
    "# Save embeddings to file\n",
    "\n",
    "text_chunks_and_embeddings_df = pd.DataFrame(pages_and_chunks_over_min_token_len)\n",
    "\n",
    "text_chunks_and_embeddings_df.to_csv(save_path)"
   ]
  },
  {
   "cell_type": "code",
   "execution_count": 29,
   "id": "2cf9b4db",
   "metadata": {},
   "outputs": [
    {
     "data": {
      "text/html": [
       "<div>\n",
       "<style scoped>\n",
       "    .dataframe tbody tr th:only-of-type {\n",
       "        vertical-align: middle;\n",
       "    }\n",
       "\n",
       "    .dataframe tbody tr th {\n",
       "        vertical-align: top;\n",
       "    }\n",
       "\n",
       "    .dataframe thead th {\n",
       "        text-align: right;\n",
       "    }\n",
       "</style>\n",
       "<table border=\"1\" class=\"dataframe\">\n",
       "  <thead>\n",
       "    <tr style=\"text-align: right;\">\n",
       "      <th></th>\n",
       "      <th>Unnamed: 0</th>\n",
       "      <th>page_number</th>\n",
       "      <th>sentence_chunk</th>\n",
       "      <th>chunk_char_count</th>\n",
       "      <th>chunk_word_count</th>\n",
       "      <th>chunk_token_count</th>\n",
       "      <th>embedding</th>\n",
       "    </tr>\n",
       "  </thead>\n",
       "  <tbody>\n",
       "    <tr>\n",
       "      <th>0</th>\n",
       "      <td>0</td>\n",
       "      <td>-39</td>\n",
       "      <td>Human Nutrition: 2020  Edition  UNIVERSITY OF ...</td>\n",
       "      <td>320</td>\n",
       "      <td>54</td>\n",
       "      <td>80.00</td>\n",
       "      <td>[ 6.74242899e-02  9.02281702e-02 -5.09548699e-...</td>\n",
       "    </tr>\n",
       "    <tr>\n",
       "      <th>1</th>\n",
       "      <td>1</td>\n",
       "      <td>-38</td>\n",
       "      <td>Human Nutrition: 2020 Edition by University of...</td>\n",
       "      <td>212</td>\n",
       "      <td>32</td>\n",
       "      <td>53.00</td>\n",
       "      <td>[ 5.52156232e-02  5.92139959e-02 -1.66167356e-...</td>\n",
       "    </tr>\n",
       "    <tr>\n",
       "      <th>2</th>\n",
       "      <td>2</td>\n",
       "      <td>-37</td>\n",
       "      <td>Contents  Preface  University of Hawai‘i at Mā...</td>\n",
       "      <td>797</td>\n",
       "      <td>147</td>\n",
       "      <td>199.25</td>\n",
       "      <td>[ 2.79801786e-02  3.39813903e-02 -2.06426717e-...</td>\n",
       "    </tr>\n",
       "    <tr>\n",
       "      <th>3</th>\n",
       "      <td>3</td>\n",
       "      <td>-36</td>\n",
       "      <td>Lifestyles and Nutrition  University of Hawai‘...</td>\n",
       "      <td>976</td>\n",
       "      <td>179</td>\n",
       "      <td>244.00</td>\n",
       "      <td>[ 6.82566687e-02  3.81275155e-02 -8.46854225e-...</td>\n",
       "    </tr>\n",
       "    <tr>\n",
       "      <th>4</th>\n",
       "      <td>4</td>\n",
       "      <td>-35</td>\n",
       "      <td>The Cardiovascular System  University of Hawai...</td>\n",
       "      <td>1037</td>\n",
       "      <td>191</td>\n",
       "      <td>259.25</td>\n",
       "      <td>[ 3.30264382e-02 -8.49764794e-03  9.57158674e-...</td>\n",
       "    </tr>\n",
       "  </tbody>\n",
       "</table>\n",
       "</div>"
      ],
      "text/plain": [
       "   Unnamed: 0  page_number                                     sentence_chunk  \\\n",
       "0           0          -39  Human Nutrition: 2020  Edition  UNIVERSITY OF ...   \n",
       "1           1          -38  Human Nutrition: 2020 Edition by University of...   \n",
       "2           2          -37  Contents  Preface  University of Hawai‘i at Mā...   \n",
       "3           3          -36  Lifestyles and Nutrition  University of Hawai‘...   \n",
       "4           4          -35  The Cardiovascular System  University of Hawai...   \n",
       "\n",
       "   chunk_char_count  chunk_word_count  chunk_token_count  \\\n",
       "0               320                54              80.00   \n",
       "1               212                32              53.00   \n",
       "2               797               147             199.25   \n",
       "3               976               179             244.00   \n",
       "4              1037               191             259.25   \n",
       "\n",
       "                                           embedding  \n",
       "0  [ 6.74242899e-02  9.02281702e-02 -5.09548699e-...  \n",
       "1  [ 5.52156232e-02  5.92139959e-02 -1.66167356e-...  \n",
       "2  [ 2.79801786e-02  3.39813903e-02 -2.06426717e-...  \n",
       "3  [ 6.82566687e-02  3.81275155e-02 -8.46854225e-...  \n",
       "4  [ 3.30264382e-02 -8.49764794e-03  9.57158674e-...  "
      ]
     },
     "execution_count": 29,
     "metadata": {},
     "output_type": "execute_result"
    }
   ],
   "source": [
    "# Import and check that file\n",
    "\n",
    "text_chunks_and_embeddings_df_load = pd.read_csv(save_path)\n",
    "text_chunks_and_embeddings_df_load.head()"
   ]
  },
  {
   "cell_type": "code",
   "execution_count": null,
   "id": "8264a8e2",
   "metadata": {},
   "outputs": [],
   "source": [
    "# If embedding DB is large(>1M samples) use vector DB"
   ]
  },
  {
   "cell_type": "markdown",
   "id": "86584cc9",
   "metadata": {},
   "source": [
    "RETRIEVAL"
   ]
  },
  {
   "cell_type": "code",
   "execution_count": 30,
   "id": "15888f41",
   "metadata": {},
   "outputs": [
    {
     "data": {
      "text/html": [
       "<div>\n",
       "<style scoped>\n",
       "    .dataframe tbody tr th:only-of-type {\n",
       "        vertical-align: middle;\n",
       "    }\n",
       "\n",
       "    .dataframe tbody tr th {\n",
       "        vertical-align: top;\n",
       "    }\n",
       "\n",
       "    .dataframe thead th {\n",
       "        text-align: right;\n",
       "    }\n",
       "</style>\n",
       "<table border=\"1\" class=\"dataframe\">\n",
       "  <thead>\n",
       "    <tr style=\"text-align: right;\">\n",
       "      <th></th>\n",
       "      <th>Unnamed: 0</th>\n",
       "      <th>page_number</th>\n",
       "      <th>sentence_chunk</th>\n",
       "      <th>chunk_char_count</th>\n",
       "      <th>chunk_word_count</th>\n",
       "      <th>chunk_token_count</th>\n",
       "      <th>embedding</th>\n",
       "    </tr>\n",
       "  </thead>\n",
       "  <tbody>\n",
       "    <tr>\n",
       "      <th>0</th>\n",
       "      <td>0</td>\n",
       "      <td>-39</td>\n",
       "      <td>Human Nutrition: 2020  Edition  UNIVERSITY OF ...</td>\n",
       "      <td>320</td>\n",
       "      <td>54</td>\n",
       "      <td>80.00</td>\n",
       "      <td>[0.0674242899, 0.0902281702, -0.00509548699, -...</td>\n",
       "    </tr>\n",
       "    <tr>\n",
       "      <th>1</th>\n",
       "      <td>1</td>\n",
       "      <td>-38</td>\n",
       "      <td>Human Nutrition: 2020 Edition by University of...</td>\n",
       "      <td>212</td>\n",
       "      <td>32</td>\n",
       "      <td>53.00</td>\n",
       "      <td>[0.0552156232, 0.0592139959, -0.0166167356, -0...</td>\n",
       "    </tr>\n",
       "    <tr>\n",
       "      <th>2</th>\n",
       "      <td>2</td>\n",
       "      <td>-37</td>\n",
       "      <td>Contents  Preface  University of Hawai‘i at Mā...</td>\n",
       "      <td>797</td>\n",
       "      <td>147</td>\n",
       "      <td>199.25</td>\n",
       "      <td>[0.0279801786, 0.0339813903, -0.0206426717, 0....</td>\n",
       "    </tr>\n",
       "    <tr>\n",
       "      <th>3</th>\n",
       "      <td>3</td>\n",
       "      <td>-36</td>\n",
       "      <td>Lifestyles and Nutrition  University of Hawai‘...</td>\n",
       "      <td>976</td>\n",
       "      <td>179</td>\n",
       "      <td>244.00</td>\n",
       "      <td>[0.0682566687, 0.0381275155, -0.00846854225, -...</td>\n",
       "    </tr>\n",
       "    <tr>\n",
       "      <th>4</th>\n",
       "      <td>4</td>\n",
       "      <td>-35</td>\n",
       "      <td>The Cardiovascular System  University of Hawai...</td>\n",
       "      <td>1037</td>\n",
       "      <td>191</td>\n",
       "      <td>259.25</td>\n",
       "      <td>[0.0330264382, -0.00849764794, 0.00957158674, ...</td>\n",
       "    </tr>\n",
       "  </tbody>\n",
       "</table>\n",
       "</div>"
      ],
      "text/plain": [
       "   Unnamed: 0  page_number                                     sentence_chunk  \\\n",
       "0           0          -39  Human Nutrition: 2020  Edition  UNIVERSITY OF ...   \n",
       "1           1          -38  Human Nutrition: 2020 Edition by University of...   \n",
       "2           2          -37  Contents  Preface  University of Hawai‘i at Mā...   \n",
       "3           3          -36  Lifestyles and Nutrition  University of Hawai‘...   \n",
       "4           4          -35  The Cardiovascular System  University of Hawai...   \n",
       "\n",
       "   chunk_char_count  chunk_word_count  chunk_token_count  \\\n",
       "0               320                54              80.00   \n",
       "1               212                32              53.00   \n",
       "2               797               147             199.25   \n",
       "3               976               179             244.00   \n",
       "4              1037               191             259.25   \n",
       "\n",
       "                                           embedding  \n",
       "0  [0.0674242899, 0.0902281702, -0.00509548699, -...  \n",
       "1  [0.0552156232, 0.0592139959, -0.0166167356, -0...  \n",
       "2  [0.0279801786, 0.0339813903, -0.0206426717, 0....  \n",
       "3  [0.0682566687, 0.0381275155, -0.00846854225, -...  \n",
       "4  [0.0330264382, -0.00849764794, 0.00957158674, ...  "
      ]
     },
     "execution_count": 30,
     "metadata": {},
     "output_type": "execute_result"
    }
   ],
   "source": [
    "# Similarity Search (semantic)\n",
    "\n",
    "import random\n",
    "import torch\n",
    "import numpy as np\n",
    "import pandas as pd\n",
    "\n",
    "device = \"cuda\" if torch.cuda.is_available() else \"cpu\"\n",
    "\n",
    "df = pd.read_csv(\"text_chunks_and_embeddings_df.csv\")\n",
    "df[\"embedding\"] = df[\"embedding\"].apply(lambda x: np.fromstring(x.strip(\"[]\"), sep=\" \"))\n",
    "embeddings = torch.tensor(np.stack(df[\"embedding\"].tolist(), axis=0), dtype=torch.float32).to(device)\n",
    "pages_and_chunks = df.to_dict(orient=\"records\")\n",
    "\n",
    "df.head()"
   ]
  },
  {
   "cell_type": "code",
   "execution_count": 31,
   "id": "8e613de1",
   "metadata": {},
   "outputs": [
    {
     "name": "stdout",
     "output_type": "stream",
     "text": [
      "torch.Size([1685, 768])\n"
     ]
    }
   ],
   "source": [
    "# embeddings = np.stack(df[\"embedding\"].tolist(), axis=0)\n",
    "print(embeddings.shape)"
   ]
  },
  {
   "cell_type": "code",
   "execution_count": 32,
   "id": "56903534",
   "metadata": {},
   "outputs": [
    {
     "name": "stderr",
     "output_type": "stream",
     "text": [
      "c:\\Users\\Arjit\\OneDrive\\Desktop\\RAG\\simple-local-rag\\venv\\Lib\\site-packages\\huggingface_hub\\file_download.py:943: FutureWarning: `resume_download` is deprecated and will be removed in version 1.0.0. Downloads always resume when possible. If you want to force a new download, use `force_download=True`.\n",
      "  warnings.warn(\n"
     ]
    }
   ],
   "source": [
    "from sentence_transformers import SentenceTransformer, util\n",
    "\n",
    "model = SentenceTransformer(model_name_or_path=\"all-mpnet-base-v2\", device=device)"
   ]
  },
  {
   "cell_type": "code",
   "execution_count": 33,
   "id": "cee4c34c",
   "metadata": {},
   "outputs": [
    {
     "name": "stdout",
     "output_type": "stream",
     "text": [
      "Query : good foods for protein\n",
      "[INFO] Time taken to get scores on 1685 embeddings: 0.00189 seconds.\n"
     ]
    },
    {
     "data": {
      "text/plain": [
       "torch.return_types.topk(\n",
       "values=tensor([0.7729, 0.7647, 0.6743, 0.6743, 0.6634], device='cuda:0'),\n",
       "indices=tensor([614, 619, 618, 623, 620], device='cuda:0'))"
      ]
     },
     "execution_count": 33,
     "metadata": {},
     "output_type": "execute_result"
    }
   ],
   "source": [
    "query = \"good foods for protein\"\n",
    "print(f\"Query : {query}\")\n",
    "\n",
    "query_embedding = model.encode(query, convert_to_tensor=True).to(\"cuda\")\n",
    "\n",
    "# Similarity with dot product (cosine - if models aren't normalised)\n",
    "from time import perf_counter as timer\n",
    "\n",
    "start_time = timer()\n",
    "dot_scores = util.dot_score(a=query_embedding, b=embeddings)[0]\n",
    "end_time = timer()\n",
    "\n",
    "print(f\"[INFO] Time taken to get scores on {len(embeddings)} embeddings: {end_time-start_time:.5f} seconds.\")\n",
    "\n",
    "top_results_dot_product = torch.topk(dot_scores, k=5)\n",
    "top_results_dot_product"
   ]
  },
  {
   "cell_type": "markdown",
   "id": "0c1ce785",
   "metadata": {},
   "source": [
    "Vector Search"
   ]
  },
  {
   "cell_type": "code",
   "execution_count": 34,
   "id": "757abd8f",
   "metadata": {},
   "outputs": [],
   "source": [
    "import textwrap\n",
    "\n",
    "def print_wrap(text, wrap_length=80):\n",
    "    wrapped_text = textwrap.fill(text, wrap_length)\n",
    "    print(wrapped_text)"
   ]
  },
  {
   "cell_type": "code",
   "execution_count": 35,
   "id": "412d57db",
   "metadata": {},
   "outputs": [
    {
     "name": "stdout",
     "output_type": "stream",
     "text": [
      "Query: good foods for protein\n",
      "\n",
      "Results: \n",
      "Score: 0.7729\n",
      "Text: Dietary Sources of Protein  The protein food group consists of foods made\n",
      "from meat, seafood,  poultry, eggs, soy, dry beans, peas, and seeds. According\n",
      "to the  Harvard School of Public Health, “animal protein and vegetable  protein\n",
      "probably have the same effects on health. It’s the protein  package that’s\n",
      "likely to make a difference.”1  1. Protein: The Bottom Line. Harvard School of\n",
      "Public  Proteins, Diet, and Personal Choices  |  411\n",
      "Page Number: 411\n",
      "\n",
      "\n",
      "Score: 0.7647\n",
      "Text: Additionally, a person should consume 8 ounces of cooked seafood  every\n",
      "week (typically as two 4-ounce servings) to assure they are  getting the healthy\n",
      "omega-3 fatty acids that have been linked to a  lower risk for heart disease.\n",
      "Another tip is choosing to eat dry beans,  peas, or soy products as a main dish.\n",
      "Some of the menu choices  include chili with kidney and pinto beans, hummus on\n",
      "pita bread,  and black bean enchiladas. You could also enjoy nuts in a variety\n",
      "of  ways. You can put them on a salad, in a stir-fry, or use them as a  topping\n",
      "for steamed vegetables in place of meat or cheese. If you do  not eat meat, the\n",
      "USDA has much more information on how to get  all the protein you need from a\n",
      "plant-based diet. When choosing the  best protein-rich foods to eat, pay\n",
      "attention to the whole nutrient  package and remember to select from a variety\n",
      "of protein sources  to get all the other essential micronutrients. Protein\n",
      "Quality  While protein is contained in a wide variety of foods, it differs in\n",
      "quality. High-quality protein contains all the essential amino acids  in the\n",
      "proportions needed by the human body. The amino acid  profile of different foods\n",
      "is therefore one component of protein  quality.\n",
      "Page Number: 414\n",
      "\n",
      "\n",
      "Score: 0.6743\n",
      "Text: 18.9  5.4  200  454  Tuna 3 oz. (canned)  21.7  0.2  26  99  Soybeans 1 c.\n",
      "(boiled)  29.0  2.2  0  298  Lentils 1 c. (boiled)  17.9  0.1  0  226  Kidney\n",
      "beans 1 c.  (canned)  13.5  0.2  0  215  Sunflower seeds 1 c.  9.6  2.0  0  269\n",
      "The USDA provides some tips for choosing your dietary protein  sources. Their\n",
      "motto is, “Go Lean with Protein”. The overall  suggestion is to eat a variety of\n",
      "protein-rich foods to benefit health. The USDA recommends lean meats, such as\n",
      "round steaks, top  sirloin, extra lean ground beef, pork loin, and skinless\n",
      "chicken. Proteins, Diet, and Personal Choices  |  413\n",
      "Page Number: 413\n",
      "\n",
      "\n",
      "Score: 0.6743\n",
      "Text: Food  PDCAAS*  Milk protein  1.00  Egg white  1.00  Whey  1.00  Soy\n",
      "protein  1.00  Beef  0.92  Soybeans  0.91  Chickpeas  0.78  Fruits  0.76\n",
      "Vegetables  0.73  Whole wheat  0.42  *1 is the highest rank, 0 is the lowest\n",
      "Protein Needs: Special Considerations  Some groups may need to examine how to\n",
      "meet their protein needs  more closely than others. We will take a closer look\n",
      "at the special  protein considerations for vegetarians, the elderly, and\n",
      "athletes. Vegetarians and Vegans  People who follow variations of the vegetarian\n",
      "diet and consume  eggs and/or dairy products can meet their protein requirements\n",
      "by consuming adequate amounts of these foods. Vegetarians and  vegans can also\n",
      "attain their recommended protein intakes if they  give a little more attention\n",
      "to high-quality plant-based protein  sources. However, when following a\n",
      "vegetarian diet, the amino acid  lysine can be challenging to acquire. Grains,\n",
      "nuts, and seeds are  lysine-poor foods, but tofu, soy, quinoa, and pistachios\n",
      "are all good  Proteins, Diet, and Personal Choices  |  417\n",
      "Page Number: 417\n",
      "\n",
      "\n",
      "Score: 0.6634\n",
      "Text: Foods that contain some of the essential amino acids are  called\n",
      "incomplete protein sources, while those that contain all nine  essential amino\n",
      "acids are called complete protein sources, or high- quality protein sources.\n",
      "Foods that are complete protein sources  include animal foods such as milk,\n",
      "cheese, eggs, fish, poultry, and  meat, and a few plant foods, such as soy and\n",
      "quinoa. The only  animal-based protein that is not complete is gelatin, which is\n",
      "made  of the protein, collagen. Figure 6.18 Complete and Incomplete Protein\n",
      "Sources  414  |  Proteins, Diet, and Personal Choices\n",
      "Page Number: 414\n",
      "\n",
      "\n"
     ]
    }
   ],
   "source": [
    "query = \"good foods for protein\"\n",
    "\n",
    "print(f\"Query: {query}\\n\")\n",
    "print(\"Results: \")\n",
    "\n",
    "for score,idx in zip(top_results_dot_product[0], top_results_dot_product[1]):\n",
    "    print(f\"Score: {score:.4f}\")\n",
    "    print_wrap(f\"Text: {pages_and_chunks[idx][\"sentence_chunk\"]}\")\n",
    "    print(f\"Page Number: {pages_and_chunks[idx][\"page_number\"]}\")\n",
    "    print(\"\\n\")"
   ]
  },
  {
   "cell_type": "code",
   "execution_count": 36,
   "id": "d8ae5df6",
   "metadata": {},
   "outputs": [
    {
     "data": {
      "image/png": "[encoded data removed]",
      "text/plain": [
       "<Figure size 1300x1000 with 1 Axes>"
      ]
     },
     "metadata": {},
     "output_type": "display_data"
    }
   ],
   "source": [
    "import fitz\n",
    "\n",
    "pdf_path = \"human-nutrition-text.pdf\"\n",
    "doc = fitz.open(pdf_path)\n",
    "page = doc.load_page(pages_and_chunks[top_results_dot_product[1][0]][\"page_number\"]+41)\n",
    "\n",
    "img = page.get_pixmap(dpi=300)\n",
    "\n",
    "# img.save(\"output_filename.png\")\n",
    "doc.close()\n",
    "\n",
    "img_array = np.frombuffer(img.samples_mv, dtype=np.uint8).reshape((img.h, img.w, img.n))\n",
    "\n",
    "import matplotlib.pyplot as plt\n",
    "\n",
    "plt.figure(figsize=(13,10))\n",
    "plt.imshow(img_array)\n",
    "plt.title(f\"Query: {query} | Most Relevant Page: \")\n",
    "plt.axis(\"off\")\n",
    "plt.show()"
   ]
  },
  {
   "cell_type": "markdown",
   "id": "d600324d",
   "metadata": {},
   "source": [
    "Similarity Measure"
   ]
  },
  {
   "cell_type": "code",
   "execution_count": 37,
   "id": "13e803b3",
   "metadata": {},
   "outputs": [],
   "source": [
    "import torch\n",
    "\n",
    "def dot_product(v1, v2):\n",
    "    return torch.dot(v1,v2)\n",
    "\n",
    "def cosine_product(v1,v2):\n",
    "    d = torch.dot(v1,v2)\n",
    "    n1 = torch.sqrt(torch.sum(v1**2))\n",
    "    n2 = torch.sqrt(torch.sum(v2**2))\n",
    "    return d/(n1*n2)"
   ]
  },
  {
   "cell_type": "markdown",
   "id": "54a26770",
   "metadata": {},
   "source": [
    "Function Semantic Search Pipeline"
   ]
  },
  {
   "cell_type": "code",
   "execution_count": 38,
   "id": "2f6af394",
   "metadata": {},
   "outputs": [],
   "source": [
    "def retrieve_relevant_resources(query: str, embeddings: torch.tensor, \n",
    "                                model: SentenceTransformer=model, \n",
    "                                n_resources_to_return: int=5,\n",
    "                                print_time: bool=True):\n",
    "    query_embedding = model.encode(query, convert_to_tensor=True)\n",
    "    start_time = timer()\n",
    "    dot_scores = util.dot_score(query_embedding, embeddings)[0]\n",
    "    end_time = timer()\n",
    "\n",
    "    if print_time:\n",
    "        print(f\"[INFO] Time taken to get scores on {len(embeddings)} embeddings: {end_time-start_time:.5f} seconds.\")\n",
    "\n",
    "    scores, indices = torch.topk(input=dot_scores, k=n_resources_to_return)\n",
    "\n",
    "    return scores, indices\n",
    "\n",
    "def print_top_results_and_scores(query: str, embeddings: torch.tensor, \n",
    "                                 pages_and_chunks: list[dict]=pages_and_chunks,\n",
    "                                 n_resources_to_return: int=5):\n",
    "    \n",
    "    scores, indices = retrieve_relevant_resources(query=query, \n",
    "                                                  embeddings=embeddings, \n",
    "                                                  n_resources_to_return=n_resources_to_return)\n",
    "    \n",
    "    for score,idx in zip(scores, indices):\n",
    "        print(f\"Score: {score:.4f}\")\n",
    "        print_wrap(f\"Text: {pages_and_chunks[idx][\"sentence_chunk\"]}\")\n",
    "        print(f\"Page Number: {pages_and_chunks[idx][\"page_number\"]}\")\n",
    "        print(\"\\n\")"
   ]
  },
  {
   "cell_type": "code",
   "execution_count": 39,
   "id": "f58a7caa",
   "metadata": {},
   "outputs": [
    {
     "name": "stdout",
     "output_type": "stream",
     "text": [
      "[INFO] Time taken to get scores on 1685 embeddings: 0.00011 seconds.\n",
      "Score: 0.6964\n",
      "Text: • Change it up a bit and experience the taste and satisfaction of  other\n",
      "whole grains such as barley, quinoa, and bulgur. • Eat snacks high in fiber,\n",
      "such as almonds, pistachios, raisins,  and air-popped popcorn. Add an artichoke\n",
      "and green peas to your dinner plate more  276  |  Carbohydrates and Personal\n",
      "Diet Choices\n",
      "Page Number: 276\n",
      "\n",
      "\n",
      "Score: 0.6810\n",
      "Text: Dietary fiber is categorized as either water-soluble or insoluble. Some\n",
      "examples of soluble fibers are inulin, pectin, and guar gum  and they are found\n",
      "in peas, beans, oats, barley, and rye. Cellulose  and lignin are insoluble\n",
      "fibers and a few dietary sources of them  are whole-grain foods, flax,\n",
      "cauliflower, and avocados. Cellulose is  the most abundant fiber in plants,\n",
      "making up the cell walls and  providing structure. Soluble fibers are more\n",
      "easily accessible to  bacterial enzymes in the large intestine so they can be\n",
      "broken down  to a greater extent than insoluble fibers, but even some breakdown\n",
      "of cellulose and other insoluble fibers occurs. The last class of fiber is\n",
      "functional fiber. Functional fibers have  been added to foods and have been\n",
      "shown to provide health  benefits to humans. Functional fibers may be extracted\n",
      "from plants  and purified or synthetically made. An example of a functional\n",
      "fiber  is psyllium-seed husk. Scientific studies show that consuming  psyllium-\n",
      "seed husk reduces blood-cholesterol levels and this health  claim has been\n",
      "approved by the FDA.\n",
      "Page Number: 237\n",
      "\n",
      "\n",
      "Score: 0.5566\n",
      "Text: Humans and animals store glucose energy from starches in the  form of the\n",
      "very large molecule, glycogen. It has many branches that  allow it to break down\n",
      "quickly when energy is needed by cells in the  body. It is predominantly found\n",
      "in liver and muscle tissue in animals. Dietary Fibers  Dietary fibers are\n",
      "polysaccharides that are highly branched and  cross-linked. Some dietary fibers\n",
      "are pectin, gums, cellulose,  hemicellulose, and lignin. Lignin, however, is not\n",
      "composed of  carbohydrate units. Humans do not produce the enzymes that can\n",
      "break down dietary fiber; however, bacteria in the large intestine  (colon) do.\n",
      "Dietary fibers are very beneficial to our health. The  Dietary Guidelines\n",
      "Advisory Committee states that there is enough  scientific evidence to support\n",
      "that diets high in fiber reduce the  risk for obesity and diabetes, which are\n",
      "primary risk factors for  cardiovascular disease.2  2. US Department of\n",
      "Agriculture.\n",
      "Page Number: 236\n",
      "\n",
      "\n",
      "Score: 0.5344\n",
      "Text: potatoes, broccoli, apples, mango, papaya , guavas, blueberries, and\n",
      "strawberries in main and side dishes. Vary your choices to get the  benefit of\n",
      "as many different vegetables and fruits as you can. You  may choose to drink\n",
      "fruit juice as a replacement for eating fruit. (As  long as the juice is 100\n",
      "percent fruit juice and only half your fruit  intake is replaced with juice,\n",
      "this is an acceptable exchange.)For  snacks, eat fruits, vegetables, or unsalted\n",
      "nuts. Fill a quarter of your plate with whole grains such as 100 percent  whole-\n",
      "grain cereals, breads, crackers, rice, and pasta. Half of your  daily grain\n",
      "intake should be whole grains. Read the ingredients list  on food labels\n",
      "carefully to determine if a food is comprised of whole  grains. Select a variety\n",
      "of protein foods to improve nutrient intake and  promote health benefits. Each\n",
      "week, be sure to include a nice array  of protein sources in your diet, such as\n",
      "nuts, seeds, beans, legumes,  poultry, soy, and seafood.\n",
      "Page Number: 747\n",
      "\n",
      "\n",
      "Score: 0.5187\n",
      "Text: Foods  Total  Carbohydrates  Sugars Fiber Added  Sugars  Banana  27 (1\n",
      "medium)  14.40  3.1  0  Lentils  40 (1 c.)  3.50  16.0  0  Snap beans  8.7 (1\n",
      "c.)  1.60  4.0  0  Green pepper  5.5 (1 medium)  2.90  2.0  0  Corn tortilla\n",
      "10.7 (1)  0.20  1.5  0  Bread, wheat bran  17.2 (1 slice)  3.50  1.4  3.4\n",
      "Bread, rye  15.5 (1 slice)  1.20  1.9  1.0  Bagel (plain)  53 (1 medium)  5.30\n",
      "2.3  4.8  Brownie  36 (1 square)  20.50  1.2  20.0  Oatmeal cookie  22.3 (1 oz.)\n",
      "12.00  2.0  7.7  Cornflakes  23 (1 c.)  1.50  0.3  1.5  Pretzels  47 (10 twists)\n",
      "1.30  1.7  0  Popcorn  (homemade)  58 (100 g)  0.50  10.0  0  Skim milk  12 (1\n",
      "c.)  12.00  0  0  Cream (half and  half)  0.65 (1 Tbs.) 0.02  0  0  Cream\n",
      "substitute  1.0 (1 tsp.) 1.00  0  1.0  Cheddar cheese  1.3 (1 slice)  0.50  0  0\n",
      "Yogurt (with fruit)  32.3 (6 oz.) 32.30  0  19.4  Caesar dressing  2.8 (1 Tbs.)\n",
      "2.80  0  2.4  Sources:  • National Nutrient Database for Standard Reference. US\n",
      "Department of Agriculture.http://www.nal.usda.gov/fnic/ foodcomp/search/.\n",
      "Updated December 7, 2011. Accessed  September 17, 2017. • Database for the Added\n",
      "Sugars Content of Selected Foods.\n",
      "Page Number: 273\n",
      "\n",
      "\n"
     ]
    }
   ],
   "source": [
    "query = \"foods high in fiber\"\n",
    "print_top_results_and_scores(query, embeddings)"
   ]
  },
  {
   "cell_type": "markdown",
   "id": "4d1729b2",
   "metadata": {},
   "source": [
    "LLM for Local Generation"
   ]
  },
  {
   "cell_type": "code",
   "execution_count": 40,
   "id": "80925fa9",
   "metadata": {},
   "outputs": [
    {
     "name": "stdout",
     "output_type": "stream",
     "text": [
      "4\n"
     ]
    }
   ],
   "source": [
    "import torch\n",
    "gpu_mem_bytes = torch.cuda.get_device_properties(0).total_memory\n",
    "gpu_mem_gb = round(gpu_mem_bytes / (2**30))\n",
    "print(gpu_mem_gb)"
   ]
  },
  {
   "cell_type": "code",
   "execution_count": 104,
   "id": "c802bb2b",
   "metadata": {},
   "outputs": [],
   "source": [
    "# import torch\n",
    "# from transformers import AutoModelForCausalLM, AutoTokenizer, BitsAndBytesConfig\n",
    "\n",
    "# model_id = \"meta-llama/Llama-3.2-1B-Instruct\"\n",
    "\n",
    "# # 4-bit quantization config\n",
    "# bnb_config = BitsAndBytesConfig(\n",
    "#     load_in_4bit=True,\n",
    "#     bnb_4bit_compute_dtype=torch.float16,  # or torch.bfloat16 if supported\n",
    "#     bnb_4bit_quant_type=\"nf4\",            # Recommended quant type\n",
    "#     bnb_4bit_use_double_quant=True        # Helps with compression\n",
    "# )\n",
    "\n",
    "# # Load tokenizer\n",
    "# tokenizer = AutoTokenizer.from_pretrained(model_id)\n",
    "\n",
    "# # Load model in 4-bit with auto device mapping\n",
    "# model = AutoModelForCausalLM.from_pretrained(\n",
    "#     model_id,\n",
    "#     quantization_config=bnb_config,\n",
    "#     device_map=\"auto\",  # automatically maps model to GPU if available\n",
    "#     use_auth_token=True\n",
    "# )\n"
   ]
  },
  {
   "cell_type": "code",
   "execution_count": 41,
   "id": "432158f4",
   "metadata": {},
   "outputs": [
    {
     "name": "stderr",
     "output_type": "stream",
     "text": [
      "c:\\Users\\Arjit\\OneDrive\\Desktop\\RAG\\simple-local-rag\\venv\\Lib\\site-packages\\huggingface_hub\\file_download.py:943: FutureWarning: `resume_download` is deprecated and will be removed in version 1.0.0. Downloads always resume when possible. If you want to force a new download, use `force_download=True`.\n",
      "  warnings.warn(\n",
      "Special tokens have been added in the vocabulary, make sure the associated word embeddings are fine-tuned or trained.\n"
     ]
    }
   ],
   "source": [
    "# Load transformer\n",
    "\n",
    "import torch\n",
    "from transformers import AutoTokenizer, AutoModelForCausalLM, BitsAndBytesConfig\n",
    "# from transformers.utils import is_flash_attn_2_available\n",
    "\n",
    "quantization_config = BitsAndBytesConfig(load_in_4bit=True,\n",
    "                                         bnb_4bit_compute_dtype=torch.float16)\n",
    "\n",
    "# if (is_flash_attn_2_available() and torch.cuda.get_device_capability(0)[0] >= 8):\n",
    "#     attn_implementation = \"flash_attention_2\"\n",
    "# else:\n",
    "#     attn_implementation = \"sdpa\"\n",
    "\n",
    "model_id = \"Qwen/Qwen2.5-1.5B\"\n",
    "# model_id = \"meta-llama/Llama-3.2-1B-Instruct\"\n",
    "# model_id = \"EleutherAI/pythia-410m-deduped\"\n",
    "# model_id = \"google/flan-t5-small\"\n",
    "\n",
    "tokenizer = AutoTokenizer.from_pretrained(model_id)\n",
    "model = AutoModelForCausalLM.from_pretrained(model_id, \n",
    "                                            #  quantization_config=quantization_config, \n",
    "                                            #  low_cpu_mem_usage=False,\n",
    "                                             device_map=\"cuda\"\n",
    "                                            #  attn_implementation=attn_implementation\n",
    "                                             )"
   ]
  },
  {
   "cell_type": "code",
   "execution_count": 42,
   "id": "d854bb3f",
   "metadata": {},
   "outputs": [
    {
     "data": {
      "text/plain": [
       "1543714304"
      ]
     },
     "execution_count": 42,
     "metadata": {},
     "output_type": "execute_result"
    }
   ],
   "source": [
    "def get_model_num_params(model: torch.nn.Module):\n",
    "    return sum([param.numel() for param in model.parameters()])\n",
    "\n",
    "get_model_num_params(model)"
   ]
  },
  {
   "cell_type": "code",
   "execution_count": 43,
   "id": "847f11e4",
   "metadata": {},
   "outputs": [
    {
     "data": {
      "text/plain": [
       "Qwen2ForCausalLM(\n",
       "  (model): Qwen2Model(\n",
       "    (embed_tokens): Embedding(151936, 1536)\n",
       "    (layers): ModuleList(\n",
       "      (0-27): 28 x Qwen2DecoderLayer(\n",
       "        (self_attn): Qwen2SdpaAttention(\n",
       "          (q_proj): Linear(in_features=1536, out_features=1536, bias=True)\n",
       "          (k_proj): Linear(in_features=1536, out_features=256, bias=True)\n",
       "          (v_proj): Linear(in_features=1536, out_features=256, bias=True)\n",
       "          (o_proj): Linear(in_features=1536, out_features=1536, bias=False)\n",
       "          (rotary_emb): Qwen2RotaryEmbedding()\n",
       "        )\n",
       "        (mlp): Qwen2MLP(\n",
       "          (gate_proj): Linear(in_features=1536, out_features=8960, bias=False)\n",
       "          (up_proj): Linear(in_features=1536, out_features=8960, bias=False)\n",
       "          (down_proj): Linear(in_features=8960, out_features=1536, bias=False)\n",
       "          (act_fn): SiLU()\n",
       "        )\n",
       "        (input_layernorm): Qwen2RMSNorm()\n",
       "        (post_attention_layernorm): Qwen2RMSNorm()\n",
       "      )\n",
       "    )\n",
       "    (norm): Qwen2RMSNorm()\n",
       "  )\n",
       "  (lm_head): Linear(in_features=1536, out_features=151936, bias=False)\n",
       ")"
      ]
     },
     "execution_count": 43,
     "metadata": {},
     "output_type": "execute_result"
    }
   ],
   "source": [
    "model"
   ]
  },
  {
   "cell_type": "code",
   "execution_count": 45,
   "id": "5cd12fa1",
   "metadata": {},
   "outputs": [
    {
     "data": {
      "text/plain": [
       "{'model_mem_bytes': 9932960768, 'model_mem_mb': 9472.81, 'model_mem_gb': 9.25}"
      ]
     },
     "execution_count": 45,
     "metadata": {},
     "output_type": "execute_result"
    }
   ],
   "source": [
    "def get_model_mem_size(model: torch.nn.Module):\n",
    "\n",
    "    mem_params = sum([param.nelement() * param.element_size() for param in model.parameters()])\n",
    "    mem_buffers = sum([buf.nelement() * buf.element_size() for buf in model.buffers()])\n",
    "\n",
    "    model_mem_bytes = mem_params + mem_buffers\n",
    "    model_mem_mb = model_mem_bytes / (1024**2)\n",
    "    model_mem_gb = model_mem_bytes / (1024**3) \n",
    "\n",
    "    return {\"model_mem_bytes\": model_mem_bytes,\n",
    "            \"model_mem_mb\": round(model_mem_mb, 2), \n",
    "            \"model_mem_gb\": round(model_mem_gb, 2)}\n",
    "\n",
    "get_model_mem_size(model)"
   ]
  },
  {
   "cell_type": "markdown",
   "id": "6484086e",
   "metadata": {},
   "source": [
    "Generate Text with LLM"
   ]
  },
  {
   "cell_type": "code",
   "execution_count": 46,
   "id": "4e275af2",
   "metadata": {},
   "outputs": [
    {
     "name": "stdout",
     "output_type": "stream",
     "text": [
      "Input Text: What are the macronutrients and what are their functions in the body?\n",
      "\n",
      " Prompt (formatted):\n",
      "<|im_start|>system\n",
      "You are a helpful assistant.<|im_end|>\n",
      "<|im_start|>user\n",
      "What are the macronutrients and what are their functions in the body?<|im_end|>\n",
      "<|im_start|>assistant\n",
      "\n"
     ]
    }
   ],
   "source": [
    "input_text = \"What are the macronutrients and what are their functions in the body?\"\n",
    "print(f\"Input Text: {input_text}\")\n",
    "\n",
    "messages = [\n",
    "    {\"role\": \"user\", \"content\": input_text}\n",
    "]\n",
    "\n",
    "prompt = tokenizer.apply_chat_template(conversation=messages, tokenize=False, add_generation_prompt=True)\n",
    "\n",
    "print(f\"\\n Prompt (formatted):\\n{prompt}\")"
   ]
  },
  {
   "cell_type": "code",
   "execution_count": 48,
   "id": "051a71a0",
   "metadata": {},
   "outputs": [
    {
     "name": "stderr",
     "output_type": "stream",
     "text": [
      "Setting `pad_token_id` to `eos_token_id`:151643 for open-end generation.\n"
     ]
    },
    {
     "name": "stdout",
     "output_type": "stream",
     "text": [
      "Model output tokens: \n",
      "tensor([151644,   8948,    198,   2610,    525,    264,  10950,  17847,     13,\n",
      "        151645,    198, 151644,    872,    198,   3838,    525,    279,   8978,\n",
      "          2248,    332,  31830,    323,   1128,    525,    862,   5746,    304,\n",
      "           279,   2487,     30, 151645,    198, 151644,  77091,    198,  62301,\n",
      "           332,  31830,    525,    279,  36393,    429,   3410,   4802,    369,\n",
      "           279,   2487,     13,   2379,    525,  17779,   1119,   2326,  11059,\n",
      "            25,  61245,     11,  27796,     11,    323,  49027,     13,   8886,\n",
      "           315,   1493,   8978,   2248,    332,  31830,    702,    264,   3151,\n",
      "           729,    304,    279,   2487,   1447,     16,     13,   3261,  33558,\n",
      "           973,     25,   3261,  33558,    973,    525,    279,   2487,    594,\n",
      "          6028,   2530,    315,   4802,     13,   2379,    525,  10865,   1495,\n",
      "          1119,  33223,     11,    892,    374,   1221,   1483,    553,    279,\n",
      "          2487,    311,   8193,  66556,    320,  21140,    436,    482,   2406,\n",
      "           759,  92373,    701,    279,   2487,    594,   4802,  11413,     13,\n",
      "          3261,  33558,    973,   1083,   3410,    279,   2487,    448,  23788,\n",
      "            11,    892,   8609,    311,   2506,    279,  58971,   1849,   9314,\n",
      "           323,    646,   1492,    311,  36277,   6543,  13163,   5866,    382,\n",
      "            17,     13,  15187,   1330,     25,  15187,   1330,    525,   1865,\n",
      "           705,    315,  41400,  32869,    323,    525,   7565,    369,   4752,\n",
      "           323,  67237,  38781,    304,    279,   2487,     13,   2379,   1083,\n",
      "          1492,    311,   7557,  36393,   6814,    279,   2487,    323,   1486,\n",
      "           264,   3476,    304,    279,  22077,   1849,     13,  15187,   1330,\n",
      "           525,   1083,   2989,    369,  15747,   6513,    323,  13404,    382,\n",
      "            18,     13,    434,   1862,     25,    434,   1862,    525,    264,\n",
      "          2530,    315,   4802,    323,    525,   1083,   2989,    369,    279,\n",
      "         43125,    315,   8664,   1331,    337,  40472,  45092,     13,   2379,\n",
      "          1083,   1492,    311,   1640,   6334,    279,   2487,    323,   6016,\n",
      "           279,  35753,     13,    434,   1862,    525,   1083,   2989,    369,\n",
      "           279,   5670,    315,  43215,    323,    279,   7557,    315,  37986,\n",
      "           382,    641,  12126,     11,  61245,     11,  27796,     11,    323,\n",
      "         49027,    525,   7565,    369,    279,   2487,    594,   4802,   3880,\n",
      "            11,  19847,  12733,     11,    323,   8084,   2820,     13, 151643],\n",
      "       device='cuda:0')\n",
      "CPU times: total: 4min 9s\n",
      "Wall time: 4min 56s\n"
     ]
    }
   ],
   "source": [
    "%%time\n",
    "\n",
    "input_ids = tokenizer(prompt, return_tensors=\"pt\").to(\"cuda\")\n",
    "\n",
    "outputs = model.generate(**input_ids, max_new_tokens=256)\n",
    "\n",
    "print(f\"Model output tokens: \\n{outputs[0]}\")"
   ]
  },
  {
   "cell_type": "code",
   "execution_count": 49,
   "id": "068ae690",
   "metadata": {},
   "outputs": [
    {
     "name": "stdout",
     "output_type": "stream",
     "text": [
      "Model Output (decoded): \n",
      " <|im_start|>system\n",
      "You are a helpful assistant.<|im_end|>\n",
      "<|im_start|>user\n",
      "What are the macronutrients and what are their functions in the body?<|im_end|>\n",
      "<|im_start|>assistant\n",
      " Macronutrients are the nutrients that provide energy for the body. They are divided into three categories: carbohydrates, proteins, and fats. Each of these macronutrients has a specific function in the body:\n",
      "\n",
      "1. Carbohydrates: Carbohydrates are the body's primary source of energy. They are broken down into glucose, which is then used by the body to produce ATP (adenosine triphosphate), the body's energy currency. Carbohydrates also provide the body with fiber, which helps to keep the digestive system healthy and can help to regulate blood sugar levels.\n",
      "\n",
      "2. Proteins: Proteins are made up of amino acids and are essential for building and repairing tissues in the body. They also help to transport nutrients throughout the body and play a role in the immune system. Proteins are also important for muscle growth and maintenance.\n",
      "\n",
      "3. Fats: Fats are a source of energy and are also important for the absorption of fat-soluble vitamins. They also help to insulate the body and protect the organs. Fats are also important for the production of hormones and the transport of cholesterol.\n",
      "\n",
      "In summary, carbohydrates, proteins, and fats are essential for the body's energy needs, tissue repair, and overall health.<|endoftext|>\n"
     ]
    }
   ],
   "source": [
    "outputs_decoded = tokenizer.decode(outputs[0])\n",
    "print(f\"Model Output (decoded): \\n {outputs_decoded}\")"
   ]
  },
  {
   "cell_type": "code",
   "execution_count": 50,
   "id": "a4e8b490",
   "metadata": {},
   "outputs": [
    {
     "data": {
      "text/plain": [
       "['What are the macronutrients, and what roles do they play in the human body?',\n",
       " 'How do vitamins and minerals differ in their roles and importance for health?',\n",
       " 'Describe the process of digestion and absorption of nutrients in the human body.',\n",
       " 'What role does fibre play in digestion? Name five fibre containing foods.',\n",
       " 'Explain the concept of energy balance and its importance in weight management.',\n",
       " 'How often should infants be breastfed?',\n",
       " 'What are symptoms of pellagra?',\n",
       " 'How does saliva help with digestion?',\n",
       " 'What is the RDI for protein per day?',\n",
       " 'water soluble vitamins']"
      ]
     },
     "execution_count": 50,
     "metadata": {},
     "output_type": "execute_result"
    }
   ],
   "source": [
    "gpt4_questions = [\n",
    "    \"What are the macronutrients, and what roles do they play in the human body?\",\n",
    "    \"How do vitamins and minerals differ in their roles and importance for health?\",\n",
    "    \"Describe the process of digestion and absorption of nutrients in the human body.\",\n",
    "    \"What role does fibre play in digestion? Name five fibre containing foods.\",\n",
    "    \"Explain the concept of energy balance and its importance in weight management.\"\n",
    "]\n",
    "\n",
    "manual_questions = [\n",
    "    \"How often should infants be breastfed?\",\n",
    "    \"What are symptoms of pellagra?\",\n",
    "    \"How does saliva help with digestion?\",\n",
    "    \"What is the RDI for protein per day?\",\n",
    "    \"water soluble vitamins\"\n",
    "]\n",
    "\n",
    "query_list = gpt4_questions + manual_questions\n",
    "query_list"
   ]
  },
  {
   "cell_type": "code",
   "execution_count": 51,
   "id": "f4bba2b6",
   "metadata": {},
   "outputs": [
    {
     "name": "stdout",
     "output_type": "stream",
     "text": [
      "Query: What are symptoms of pellagra?\n",
      "[INFO] Time taken to get scores on 1685 embeddings: 0.00092 seconds.\n"
     ]
    },
    {
     "data": {
      "text/plain": [
       "(tensor([0.4712, 0.3562, 0.3153, 0.3025, 0.2941], device='cuda:0'),\n",
       " tensor([ 825,  856, 1540, 1559, 1535], device='cuda:0'))"
      ]
     },
     "execution_count": 51,
     "metadata": {},
     "output_type": "execute_result"
    }
   ],
   "source": [
    "import random\n",
    "\n",
    "query = random.choice(query_list)\n",
    "print(f\"Query: {query}\") \n",
    "\n",
    "# Get just the scores and indices of top related results\n",
    "scores, indices = retrieve_relevant_resources(query=query,\n",
    "                                              embeddings=embeddings)\n",
    "scores, indices"
   ]
  },
  {
   "cell_type": "code",
   "execution_count": 57,
   "id": "43d00819",
   "metadata": {},
   "outputs": [],
   "source": [
    "def prompt_formatter(query: str, context_items: list[dict]) -> str:\n",
    "\n",
    "    context = \"- \" + \"\\n- \".join([item[\"sentence_chunk\"] for item in context_items])\n",
    "\n",
    "    base_prompt = \"\"\"Based on the following context items, please answer the query.\n",
    "                    Give yourself room to think by extracting relevant passages from the context before answering the query.\n",
    "                    Don't return the thinking, only return the answer.\n",
    "                    Make sure your answers are as explanatory as possible.\n",
    "                    Use the following examples as reference for the ideal answer style.\n",
    "                    \\nExample 1:\n",
    "                    Query: What are the fat-soluble vitamins?\n",
    "                    Answer: The fat-soluble vitamins include Vitamin A, Vitamin D, Vitamin E, and Vitamin K. These vitamins are absorbed along with fats in the diet and can be stored in the body's fatty tissue and liver for later use. Vitamin A is important for vision, immune function, and skin health. Vitamin D plays a critical role in calcium absorption and bone health. Vitamin E acts as an antioxidant, protecting cells from damage. Vitamin K is essential for blood clotting and bone metabolism.\n",
    "                    \\nExample 2:\n",
    "                    Query: What are the causes of type 2 diabetes?\n",
    "                    Answer: Type 2 diabetes is often associated with overnutrition, particularly the overconsumption of calories leading to obesity. Factors include a diet high in refined sugars and saturated fats, which can lead to insulin resistance, a condition where the body's cells do not respond effectively to insulin. Over time, the pancreas cannot produce enough insulin to manage blood sugar levels, resulting in type 2 diabetes. Additionally, excessive caloric intake without sufficient physical activity exacerbates the risk by promoting weight gain and fat accumulation, particularly around the abdomen, further contributing to insulin resistance.\n",
    "                    \\nExample 3:\n",
    "                    Query: What is the importance of hydration for physical performance?\n",
    "                    Answer: Hydration is crucial for physical performance because water plays key roles in maintaining blood volume, regulating body temperature, and ensuring the transport of nutrients and oxygen to cells. Adequate hydration is essential for optimal muscle function, endurance, and recovery. Dehydration can lead to decreased performance, fatigue, and increased risk of heat-related illnesses, such as heat stroke. Drinking sufficient water before, during, and after exercise helps ensure peak physical performance and recovery.\n",
    "                    \\nNow use the following context items to answer the user query:\n",
    "                    {context}\n",
    "                    \\nRelevant passages: <extract relevant passages from the context here>\n",
    "                    User query: {query}\n",
    "                    Answer:\"\"\" \n",
    "\n",
    "    base_prompt = base_prompt.format(context=context, query=query)\n",
    "    dialogue_template = [\n",
    "        {\"role\": \"user\",\n",
    "         \"content\": base_prompt}\n",
    "    ]\n",
    "\n",
    "    prompt = tokenizer.apply_chat_template(conversation=dialogue_template,\n",
    "                                           tokenize=False,\n",
    "                                           add_generation_prompt=True)\n",
    "\n",
    "    return prompt"
   ]
  },
  {
   "cell_type": "code",
   "execution_count": 58,
   "id": "36f2452c",
   "metadata": {},
   "outputs": [
    {
     "name": "stdout",
     "output_type": "stream",
     "text": [
      "Query: water soluble vitamins\n"
     ]
    },
    {
     "ename": "RuntimeError",
     "evalue": "CUDA error: out of memory\nCUDA kernel errors might be asynchronously reported at some other API call, so the stacktrace below might be incorrect.\nFor debugging consider passing CUDA_LAUNCH_BLOCKING=1\nCompile with `TORCH_USE_CUDA_DSA` to enable device-side assertions.\n",
     "output_type": "error",
     "traceback": [
      "\u001b[31m---------------------------------------------------------------------------\u001b[39m",
      "\u001b[31mRuntimeError\u001b[39m                              Traceback (most recent call last)",
      "\u001b[36mCell\u001b[39m\u001b[36m \u001b[39m\u001b[32mIn[58]\u001b[39m\u001b[32m, line 4\u001b[39m\n\u001b[32m      1\u001b[39m query = random.choice(query_list)\n\u001b[32m      2\u001b[39m \u001b[38;5;28mprint\u001b[39m(\u001b[33mf\u001b[39m\u001b[33m\"\u001b[39m\u001b[33mQuery: \u001b[39m\u001b[38;5;132;01m{\u001b[39;00mquery\u001b[38;5;132;01m}\u001b[39;00m\u001b[33m\"\u001b[39m)\n\u001b[32m----> \u001b[39m\u001b[32m4\u001b[39m scores, indices = \u001b[43mretrieve_relevant_resources\u001b[49m\u001b[43m(\u001b[49m\u001b[43mquery\u001b[49m\u001b[43m=\u001b[49m\u001b[43mquery\u001b[49m\u001b[43m,\u001b[49m\u001b[43m \u001b[49m\u001b[43membeddings\u001b[49m\u001b[43m=\u001b[49m\u001b[43membeddings\u001b[49m\u001b[43m)\u001b[49m\n\u001b[32m      6\u001b[39m context_items = [pages_and_chunks[i] \u001b[38;5;28;01mfor\u001b[39;00m i \u001b[38;5;129;01min\u001b[39;00m indices]\n\u001b[32m      8\u001b[39m prompt = prompt_formatter(query=query, context_items=context_items)\n",
      "\u001b[36mCell\u001b[39m\u001b[36m \u001b[39m\u001b[32mIn[38]\u001b[39m\u001b[32m, line 5\u001b[39m, in \u001b[36mretrieve_relevant_resources\u001b[39m\u001b[34m(query, embeddings, model, n_resources_to_return, print_time)\u001b[39m\n\u001b[32m      1\u001b[39m \u001b[38;5;28;01mdef\u001b[39;00m\u001b[38;5;250m \u001b[39m\u001b[34mretrieve_relevant_resources\u001b[39m(query: \u001b[38;5;28mstr\u001b[39m, embeddings: torch.tensor, \n\u001b[32m      2\u001b[39m                                 model: SentenceTransformer=model, \n\u001b[32m      3\u001b[39m                                 n_resources_to_return: \u001b[38;5;28mint\u001b[39m=\u001b[32m5\u001b[39m,\n\u001b[32m      4\u001b[39m                                 print_time: \u001b[38;5;28mbool\u001b[39m=\u001b[38;5;28;01mTrue\u001b[39;00m):\n\u001b[32m----> \u001b[39m\u001b[32m5\u001b[39m     query_embedding = \u001b[43mmodel\u001b[49m\u001b[43m.\u001b[49m\u001b[43mencode\u001b[49m\u001b[43m(\u001b[49m\u001b[43mquery\u001b[49m\u001b[43m,\u001b[49m\u001b[43m \u001b[49m\u001b[43mconvert_to_tensor\u001b[49m\u001b[43m=\u001b[49m\u001b[38;5;28;43;01mTrue\u001b[39;49;00m\u001b[43m)\u001b[49m\n\u001b[32m      6\u001b[39m     start_time = timer()\n\u001b[32m      7\u001b[39m     dot_scores = util.dot_score(query_embedding, embeddings)[\u001b[32m0\u001b[39m]\n",
      "\u001b[36mFile \u001b[39m\u001b[32mc:\\Users\\Arjit\\OneDrive\\Desktop\\RAG\\simple-local-rag\\venv\\Lib\\site-packages\\sentence_transformers\\SentenceTransformer.py:346\u001b[39m, in \u001b[36mSentenceTransformer.encode\u001b[39m\u001b[34m(self, sentences, prompt_name, prompt, batch_size, show_progress_bar, output_value, convert_to_numpy, convert_to_tensor, device, normalize_embeddings)\u001b[39m\n\u001b[32m    344\u001b[39m sentences_batch = sentences_sorted[start_index : start_index + batch_size]\n\u001b[32m    345\u001b[39m features = \u001b[38;5;28mself\u001b[39m.tokenize(sentences_batch)\n\u001b[32m--> \u001b[39m\u001b[32m346\u001b[39m features = \u001b[43mbatch_to_device\u001b[49m\u001b[43m(\u001b[49m\u001b[43mfeatures\u001b[49m\u001b[43m,\u001b[49m\u001b[43m \u001b[49m\u001b[43mdevice\u001b[49m\u001b[43m)\u001b[49m\n\u001b[32m    347\u001b[39m features.update(extra_features)\n\u001b[32m    349\u001b[39m \u001b[38;5;28;01mwith\u001b[39;00m torch.no_grad():\n",
      "\u001b[36mFile \u001b[39m\u001b[32mc:\\Users\\Arjit\\OneDrive\\Desktop\\RAG\\simple-local-rag\\venv\\Lib\\site-packages\\sentence_transformers\\util.py:357\u001b[39m, in \u001b[36mbatch_to_device\u001b[39m\u001b[34m(batch, target_device)\u001b[39m\n\u001b[32m    355\u001b[39m \u001b[38;5;28;01mfor\u001b[39;00m key \u001b[38;5;129;01min\u001b[39;00m batch:\n\u001b[32m    356\u001b[39m     \u001b[38;5;28;01mif\u001b[39;00m \u001b[38;5;28misinstance\u001b[39m(batch[key], Tensor):\n\u001b[32m--> \u001b[39m\u001b[32m357\u001b[39m         batch[key] = \u001b[43mbatch\u001b[49m\u001b[43m[\u001b[49m\u001b[43mkey\u001b[49m\u001b[43m]\u001b[49m\u001b[43m.\u001b[49m\u001b[43mto\u001b[49m\u001b[43m(\u001b[49m\u001b[43mtarget_device\u001b[49m\u001b[43m)\u001b[49m\n\u001b[32m    358\u001b[39m \u001b[38;5;28;01mreturn\u001b[39;00m batch\n",
      "\u001b[31mRuntimeError\u001b[39m: CUDA error: out of memory\nCUDA kernel errors might be asynchronously reported at some other API call, so the stacktrace below might be incorrect.\nFor debugging consider passing CUDA_LAUNCH_BLOCKING=1\nCompile with `TORCH_USE_CUDA_DSA` to enable device-side assertions.\n"
     ]
    }
   ],
   "source": [
    "query = random.choice(query_list)\n",
    "print(f\"Query: {query}\")\n",
    "\n",
    "scores, indices = retrieve_relevant_resources(query=query, embeddings=embeddings)\n",
    "\n",
    "context_items = [pages_and_chunks[i] for i in indices]\n",
    "\n",
    "prompt = prompt_formatter(query=query, context_items=context_items)\n",
    "\n",
    "print(prompt)"
   ]
  },
  {
   "cell_type": "code",
   "execution_count": 54,
   "id": "3efdb688",
   "metadata": {},
   "outputs": [
    {
     "name": "stderr",
     "output_type": "stream",
     "text": [
      "<unknown>:6: SyntaxWarning: invalid escape sequence '\\m'\n",
      "Setting `pad_token_id` to `eos_token_id`:151643 for open-end generation.\n"
     ]
    },
    {
     "ename": "RuntimeError",
     "evalue": "CUDA error: out of memory\nCUDA kernel errors might be asynchronously reported at some other API call, so the stacktrace below might be incorrect.\nFor debugging consider passing CUDA_LAUNCH_BLOCKING=1\nCompile with `TORCH_USE_CUDA_DSA` to enable device-side assertions.\n",
     "output_type": "error",
     "traceback": [
      "\u001b[31m---------------------------------------------------------------------------\u001b[39m",
      "\u001b[31mRuntimeError\u001b[39m                              Traceback (most recent call last)",
      "\u001b[36mFile \u001b[39m\u001b[32m<timed exec>:3\u001b[39m\n",
      "\u001b[36mFile \u001b[39m\u001b[32mc:\\Users\\Arjit\\OneDrive\\Desktop\\RAG\\simple-local-rag\\venv\\Lib\\site-packages\\torch\\utils\\_contextlib.py:116\u001b[39m, in \u001b[36mcontext_decorator.<locals>.decorate_context\u001b[39m\u001b[34m(*args, **kwargs)\u001b[39m\n\u001b[32m    113\u001b[39m \u001b[38;5;129m@functools\u001b[39m.wraps(func)\n\u001b[32m    114\u001b[39m \u001b[38;5;28;01mdef\u001b[39;00m\u001b[38;5;250m \u001b[39m\u001b[34mdecorate_context\u001b[39m(*args, **kwargs):\n\u001b[32m    115\u001b[39m     \u001b[38;5;28;01mwith\u001b[39;00m ctx_factory():\n\u001b[32m--> \u001b[39m\u001b[32m116\u001b[39m         \u001b[38;5;28;01mreturn\u001b[39;00m \u001b[43mfunc\u001b[49m\u001b[43m(\u001b[49m\u001b[43m*\u001b[49m\u001b[43margs\u001b[49m\u001b[43m,\u001b[49m\u001b[43m \u001b[49m\u001b[43m*\u001b[49m\u001b[43m*\u001b[49m\u001b[43mkwargs\u001b[49m\u001b[43m)\u001b[49m\n",
      "\u001b[36mFile \u001b[39m\u001b[32mc:\\Users\\Arjit\\OneDrive\\Desktop\\RAG\\simple-local-rag\\venv\\Lib\\site-packages\\transformers\\generation\\utils.py:1592\u001b[39m, in \u001b[36mGenerationMixin.generate\u001b[39m\u001b[34m(self, inputs, generation_config, logits_processor, stopping_criteria, prefix_allowed_tokens_fn, synced_gpus, assistant_model, streamer, negative_prompt_ids, negative_prompt_attention_mask, **kwargs)\u001b[39m\n\u001b[32m   1584\u001b[39m     input_ids, model_kwargs = \u001b[38;5;28mself\u001b[39m._expand_inputs_for_generation(\n\u001b[32m   1585\u001b[39m         input_ids=input_ids,\n\u001b[32m   1586\u001b[39m         expand_size=generation_config.num_return_sequences,\n\u001b[32m   1587\u001b[39m         is_encoder_decoder=\u001b[38;5;28mself\u001b[39m.config.is_encoder_decoder,\n\u001b[32m   1588\u001b[39m         **model_kwargs,\n\u001b[32m   1589\u001b[39m     )\n\u001b[32m   1591\u001b[39m     \u001b[38;5;66;03m# 13. run sample\u001b[39;00m\n\u001b[32m-> \u001b[39m\u001b[32m1592\u001b[39m     \u001b[38;5;28;01mreturn\u001b[39;00m \u001b[38;5;28;43mself\u001b[39;49m\u001b[43m.\u001b[49m\u001b[43msample\u001b[49m\u001b[43m(\u001b[49m\n\u001b[32m   1593\u001b[39m \u001b[43m        \u001b[49m\u001b[43minput_ids\u001b[49m\u001b[43m,\u001b[49m\n\u001b[32m   1594\u001b[39m \u001b[43m        \u001b[49m\u001b[43mlogits_processor\u001b[49m\u001b[43m=\u001b[49m\u001b[43mprepared_logits_processor\u001b[49m\u001b[43m,\u001b[49m\n\u001b[32m   1595\u001b[39m \u001b[43m        \u001b[49m\u001b[43mlogits_warper\u001b[49m\u001b[43m=\u001b[49m\u001b[43mlogits_warper\u001b[49m\u001b[43m,\u001b[49m\n\u001b[32m   1596\u001b[39m \u001b[43m        \u001b[49m\u001b[43mstopping_criteria\u001b[49m\u001b[43m=\u001b[49m\u001b[43mprepared_stopping_criteria\u001b[49m\u001b[43m,\u001b[49m\n\u001b[32m   1597\u001b[39m \u001b[43m        \u001b[49m\u001b[43mpad_token_id\u001b[49m\u001b[43m=\u001b[49m\u001b[43mgeneration_config\u001b[49m\u001b[43m.\u001b[49m\u001b[43mpad_token_id\u001b[49m\u001b[43m,\u001b[49m\n\u001b[32m   1598\u001b[39m \u001b[43m        \u001b[49m\u001b[43meos_token_id\u001b[49m\u001b[43m=\u001b[49m\u001b[43mgeneration_config\u001b[49m\u001b[43m.\u001b[49m\u001b[43meos_token_id\u001b[49m\u001b[43m,\u001b[49m\n\u001b[32m   1599\u001b[39m \u001b[43m        \u001b[49m\u001b[43moutput_scores\u001b[49m\u001b[43m=\u001b[49m\u001b[43mgeneration_config\u001b[49m\u001b[43m.\u001b[49m\u001b[43moutput_scores\u001b[49m\u001b[43m,\u001b[49m\n\u001b[32m   1600\u001b[39m \u001b[43m        \u001b[49m\u001b[43moutput_logits\u001b[49m\u001b[43m=\u001b[49m\u001b[43mgeneration_config\u001b[49m\u001b[43m.\u001b[49m\u001b[43moutput_logits\u001b[49m\u001b[43m,\u001b[49m\n\u001b[32m   1601\u001b[39m \u001b[43m        \u001b[49m\u001b[43mreturn_dict_in_generate\u001b[49m\u001b[43m=\u001b[49m\u001b[43mgeneration_config\u001b[49m\u001b[43m.\u001b[49m\u001b[43mreturn_dict_in_generate\u001b[49m\u001b[43m,\u001b[49m\n\u001b[32m   1602\u001b[39m \u001b[43m        \u001b[49m\u001b[43msynced_gpus\u001b[49m\u001b[43m=\u001b[49m\u001b[43msynced_gpus\u001b[49m\u001b[43m,\u001b[49m\n\u001b[32m   1603\u001b[39m \u001b[43m        \u001b[49m\u001b[43mstreamer\u001b[49m\u001b[43m=\u001b[49m\u001b[43mstreamer\u001b[49m\u001b[43m,\u001b[49m\n\u001b[32m   1604\u001b[39m \u001b[43m        \u001b[49m\u001b[43m*\u001b[49m\u001b[43m*\u001b[49m\u001b[43mmodel_kwargs\u001b[49m\u001b[43m,\u001b[49m\n\u001b[32m   1605\u001b[39m \u001b[43m    \u001b[49m\u001b[43m)\u001b[49m\n\u001b[32m   1607\u001b[39m \u001b[38;5;28;01melif\u001b[39;00m generation_mode == GenerationMode.BEAM_SEARCH:\n\u001b[32m   1608\u001b[39m     \u001b[38;5;66;03m# 11. prepare beam search scorer\u001b[39;00m\n\u001b[32m   1609\u001b[39m     beam_scorer = BeamSearchScorer(\n\u001b[32m   1610\u001b[39m         batch_size=batch_size,\n\u001b[32m   1611\u001b[39m         num_beams=generation_config.num_beams,\n\u001b[32m   (...)\u001b[39m\u001b[32m   1616\u001b[39m         max_length=generation_config.max_length,\n\u001b[32m   1617\u001b[39m     )\n",
      "\u001b[36mFile \u001b[39m\u001b[32mc:\\Users\\Arjit\\OneDrive\\Desktop\\RAG\\simple-local-rag\\venv\\Lib\\site-packages\\transformers\\generation\\utils.py:2696\u001b[39m, in \u001b[36mGenerationMixin.sample\u001b[39m\u001b[34m(self, input_ids, logits_processor, stopping_criteria, logits_warper, max_length, pad_token_id, eos_token_id, output_attentions, output_hidden_states, output_scores, output_logits, return_dict_in_generate, synced_gpus, streamer, **model_kwargs)\u001b[39m\n\u001b[32m   2693\u001b[39m model_inputs = \u001b[38;5;28mself\u001b[39m.prepare_inputs_for_generation(input_ids, **model_kwargs)\n\u001b[32m   2695\u001b[39m \u001b[38;5;66;03m# forward pass to get next token\u001b[39;00m\n\u001b[32m-> \u001b[39m\u001b[32m2696\u001b[39m outputs = \u001b[38;5;28;43mself\u001b[39;49m\u001b[43m(\u001b[49m\n\u001b[32m   2697\u001b[39m \u001b[43m    \u001b[49m\u001b[43m*\u001b[49m\u001b[43m*\u001b[49m\u001b[43mmodel_inputs\u001b[49m\u001b[43m,\u001b[49m\n\u001b[32m   2698\u001b[39m \u001b[43m    \u001b[49m\u001b[43mreturn_dict\u001b[49m\u001b[43m=\u001b[49m\u001b[38;5;28;43;01mTrue\u001b[39;49;00m\u001b[43m,\u001b[49m\n\u001b[32m   2699\u001b[39m \u001b[43m    \u001b[49m\u001b[43moutput_attentions\u001b[49m\u001b[43m=\u001b[49m\u001b[43moutput_attentions\u001b[49m\u001b[43m,\u001b[49m\n\u001b[32m   2700\u001b[39m \u001b[43m    \u001b[49m\u001b[43moutput_hidden_states\u001b[49m\u001b[43m=\u001b[49m\u001b[43moutput_hidden_states\u001b[49m\u001b[43m,\u001b[49m\n\u001b[32m   2701\u001b[39m \u001b[43m\u001b[49m\u001b[43m)\u001b[49m\n\u001b[32m   2703\u001b[39m \u001b[38;5;28;01mif\u001b[39;00m synced_gpus \u001b[38;5;129;01mand\u001b[39;00m this_peer_finished:\n\u001b[32m   2704\u001b[39m     \u001b[38;5;28;01mcontinue\u001b[39;00m  \u001b[38;5;66;03m# don't waste resources running the code we don't need\u001b[39;00m\n",
      "\u001b[36mFile \u001b[39m\u001b[32mc:\\Users\\Arjit\\OneDrive\\Desktop\\RAG\\simple-local-rag\\venv\\Lib\\site-packages\\torch\\nn\\modules\\module.py:1736\u001b[39m, in \u001b[36mModule._wrapped_call_impl\u001b[39m\u001b[34m(self, *args, **kwargs)\u001b[39m\n\u001b[32m   1734\u001b[39m     \u001b[38;5;28;01mreturn\u001b[39;00m \u001b[38;5;28mself\u001b[39m._compiled_call_impl(*args, **kwargs)  \u001b[38;5;66;03m# type: ignore[misc]\u001b[39;00m\n\u001b[32m   1735\u001b[39m \u001b[38;5;28;01melse\u001b[39;00m:\n\u001b[32m-> \u001b[39m\u001b[32m1736\u001b[39m     \u001b[38;5;28;01mreturn\u001b[39;00m \u001b[38;5;28;43mself\u001b[39;49m\u001b[43m.\u001b[49m\u001b[43m_call_impl\u001b[49m\u001b[43m(\u001b[49m\u001b[43m*\u001b[49m\u001b[43margs\u001b[49m\u001b[43m,\u001b[49m\u001b[43m \u001b[49m\u001b[43m*\u001b[49m\u001b[43m*\u001b[49m\u001b[43mkwargs\u001b[49m\u001b[43m)\u001b[49m\n",
      "\u001b[36mFile \u001b[39m\u001b[32mc:\\Users\\Arjit\\OneDrive\\Desktop\\RAG\\simple-local-rag\\venv\\Lib\\site-packages\\torch\\nn\\modules\\module.py:1747\u001b[39m, in \u001b[36mModule._call_impl\u001b[39m\u001b[34m(self, *args, **kwargs)\u001b[39m\n\u001b[32m   1742\u001b[39m \u001b[38;5;66;03m# If we don't have any hooks, we want to skip the rest of the logic in\u001b[39;00m\n\u001b[32m   1743\u001b[39m \u001b[38;5;66;03m# this function, and just call forward.\u001b[39;00m\n\u001b[32m   1744\u001b[39m \u001b[38;5;28;01mif\u001b[39;00m \u001b[38;5;129;01mnot\u001b[39;00m (\u001b[38;5;28mself\u001b[39m._backward_hooks \u001b[38;5;129;01mor\u001b[39;00m \u001b[38;5;28mself\u001b[39m._backward_pre_hooks \u001b[38;5;129;01mor\u001b[39;00m \u001b[38;5;28mself\u001b[39m._forward_hooks \u001b[38;5;129;01mor\u001b[39;00m \u001b[38;5;28mself\u001b[39m._forward_pre_hooks\n\u001b[32m   1745\u001b[39m         \u001b[38;5;129;01mor\u001b[39;00m _global_backward_pre_hooks \u001b[38;5;129;01mor\u001b[39;00m _global_backward_hooks\n\u001b[32m   1746\u001b[39m         \u001b[38;5;129;01mor\u001b[39;00m _global_forward_hooks \u001b[38;5;129;01mor\u001b[39;00m _global_forward_pre_hooks):\n\u001b[32m-> \u001b[39m\u001b[32m1747\u001b[39m     \u001b[38;5;28;01mreturn\u001b[39;00m \u001b[43mforward_call\u001b[49m\u001b[43m(\u001b[49m\u001b[43m*\u001b[49m\u001b[43margs\u001b[49m\u001b[43m,\u001b[49m\u001b[43m \u001b[49m\u001b[43m*\u001b[49m\u001b[43m*\u001b[49m\u001b[43mkwargs\u001b[49m\u001b[43m)\u001b[49m\n\u001b[32m   1749\u001b[39m result = \u001b[38;5;28;01mNone\u001b[39;00m\n\u001b[32m   1750\u001b[39m called_always_called_hooks = \u001b[38;5;28mset\u001b[39m()\n",
      "\u001b[36mFile \u001b[39m\u001b[32mc:\\Users\\Arjit\\OneDrive\\Desktop\\RAG\\simple-local-rag\\venv\\Lib\\site-packages\\transformers\\models\\qwen2\\modeling_qwen2.py:1173\u001b[39m, in \u001b[36mQwen2ForCausalLM.forward\u001b[39m\u001b[34m(self, input_ids, attention_mask, position_ids, past_key_values, inputs_embeds, labels, use_cache, output_attentions, output_hidden_states, return_dict)\u001b[39m\n\u001b[32m   1170\u001b[39m return_dict = return_dict \u001b[38;5;28;01mif\u001b[39;00m return_dict \u001b[38;5;129;01mis\u001b[39;00m \u001b[38;5;129;01mnot\u001b[39;00m \u001b[38;5;28;01mNone\u001b[39;00m \u001b[38;5;28;01melse\u001b[39;00m \u001b[38;5;28mself\u001b[39m.config.use_return_dict\n\u001b[32m   1172\u001b[39m \u001b[38;5;66;03m# decoder outputs consists of (dec_features, layer_state, dec_hidden, dec_attn)\u001b[39;00m\n\u001b[32m-> \u001b[39m\u001b[32m1173\u001b[39m outputs = \u001b[38;5;28;43mself\u001b[39;49m\u001b[43m.\u001b[49m\u001b[43mmodel\u001b[49m\u001b[43m(\u001b[49m\n\u001b[32m   1174\u001b[39m \u001b[43m    \u001b[49m\u001b[43minput_ids\u001b[49m\u001b[43m=\u001b[49m\u001b[43minput_ids\u001b[49m\u001b[43m,\u001b[49m\n\u001b[32m   1175\u001b[39m \u001b[43m    \u001b[49m\u001b[43mattention_mask\u001b[49m\u001b[43m=\u001b[49m\u001b[43mattention_mask\u001b[49m\u001b[43m,\u001b[49m\n\u001b[32m   1176\u001b[39m \u001b[43m    \u001b[49m\u001b[43mposition_ids\u001b[49m\u001b[43m=\u001b[49m\u001b[43mposition_ids\u001b[49m\u001b[43m,\u001b[49m\n\u001b[32m   1177\u001b[39m \u001b[43m    \u001b[49m\u001b[43mpast_key_values\u001b[49m\u001b[43m=\u001b[49m\u001b[43mpast_key_values\u001b[49m\u001b[43m,\u001b[49m\n\u001b[32m   1178\u001b[39m \u001b[43m    \u001b[49m\u001b[43minputs_embeds\u001b[49m\u001b[43m=\u001b[49m\u001b[43minputs_embeds\u001b[49m\u001b[43m,\u001b[49m\n\u001b[32m   1179\u001b[39m \u001b[43m    \u001b[49m\u001b[43muse_cache\u001b[49m\u001b[43m=\u001b[49m\u001b[43muse_cache\u001b[49m\u001b[43m,\u001b[49m\n\u001b[32m   1180\u001b[39m \u001b[43m    \u001b[49m\u001b[43moutput_attentions\u001b[49m\u001b[43m=\u001b[49m\u001b[43moutput_attentions\u001b[49m\u001b[43m,\u001b[49m\n\u001b[32m   1181\u001b[39m \u001b[43m    \u001b[49m\u001b[43moutput_hidden_states\u001b[49m\u001b[43m=\u001b[49m\u001b[43moutput_hidden_states\u001b[49m\u001b[43m,\u001b[49m\n\u001b[32m   1182\u001b[39m \u001b[43m    \u001b[49m\u001b[43mreturn_dict\u001b[49m\u001b[43m=\u001b[49m\u001b[43mreturn_dict\u001b[49m\u001b[43m,\u001b[49m\n\u001b[32m   1183\u001b[39m \u001b[43m\u001b[49m\u001b[43m)\u001b[49m\n\u001b[32m   1185\u001b[39m hidden_states = outputs[\u001b[32m0\u001b[39m]\n\u001b[32m   1186\u001b[39m logits = \u001b[38;5;28mself\u001b[39m.lm_head(hidden_states)\n",
      "\u001b[36mFile \u001b[39m\u001b[32mc:\\Users\\Arjit\\OneDrive\\Desktop\\RAG\\simple-local-rag\\venv\\Lib\\site-packages\\torch\\nn\\modules\\module.py:1736\u001b[39m, in \u001b[36mModule._wrapped_call_impl\u001b[39m\u001b[34m(self, *args, **kwargs)\u001b[39m\n\u001b[32m   1734\u001b[39m     \u001b[38;5;28;01mreturn\u001b[39;00m \u001b[38;5;28mself\u001b[39m._compiled_call_impl(*args, **kwargs)  \u001b[38;5;66;03m# type: ignore[misc]\u001b[39;00m\n\u001b[32m   1735\u001b[39m \u001b[38;5;28;01melse\u001b[39;00m:\n\u001b[32m-> \u001b[39m\u001b[32m1736\u001b[39m     \u001b[38;5;28;01mreturn\u001b[39;00m \u001b[38;5;28;43mself\u001b[39;49m\u001b[43m.\u001b[49m\u001b[43m_call_impl\u001b[49m\u001b[43m(\u001b[49m\u001b[43m*\u001b[49m\u001b[43margs\u001b[49m\u001b[43m,\u001b[49m\u001b[43m \u001b[49m\u001b[43m*\u001b[49m\u001b[43m*\u001b[49m\u001b[43mkwargs\u001b[49m\u001b[43m)\u001b[49m\n",
      "\u001b[36mFile \u001b[39m\u001b[32mc:\\Users\\Arjit\\OneDrive\\Desktop\\RAG\\simple-local-rag\\venv\\Lib\\site-packages\\torch\\nn\\modules\\module.py:1747\u001b[39m, in \u001b[36mModule._call_impl\u001b[39m\u001b[34m(self, *args, **kwargs)\u001b[39m\n\u001b[32m   1742\u001b[39m \u001b[38;5;66;03m# If we don't have any hooks, we want to skip the rest of the logic in\u001b[39;00m\n\u001b[32m   1743\u001b[39m \u001b[38;5;66;03m# this function, and just call forward.\u001b[39;00m\n\u001b[32m   1744\u001b[39m \u001b[38;5;28;01mif\u001b[39;00m \u001b[38;5;129;01mnot\u001b[39;00m (\u001b[38;5;28mself\u001b[39m._backward_hooks \u001b[38;5;129;01mor\u001b[39;00m \u001b[38;5;28mself\u001b[39m._backward_pre_hooks \u001b[38;5;129;01mor\u001b[39;00m \u001b[38;5;28mself\u001b[39m._forward_hooks \u001b[38;5;129;01mor\u001b[39;00m \u001b[38;5;28mself\u001b[39m._forward_pre_hooks\n\u001b[32m   1745\u001b[39m         \u001b[38;5;129;01mor\u001b[39;00m _global_backward_pre_hooks \u001b[38;5;129;01mor\u001b[39;00m _global_backward_hooks\n\u001b[32m   1746\u001b[39m         \u001b[38;5;129;01mor\u001b[39;00m _global_forward_hooks \u001b[38;5;129;01mor\u001b[39;00m _global_forward_pre_hooks):\n\u001b[32m-> \u001b[39m\u001b[32m1747\u001b[39m     \u001b[38;5;28;01mreturn\u001b[39;00m \u001b[43mforward_call\u001b[49m\u001b[43m(\u001b[49m\u001b[43m*\u001b[49m\u001b[43margs\u001b[49m\u001b[43m,\u001b[49m\u001b[43m \u001b[49m\u001b[43m*\u001b[49m\u001b[43m*\u001b[49m\u001b[43mkwargs\u001b[49m\u001b[43m)\u001b[49m\n\u001b[32m   1749\u001b[39m result = \u001b[38;5;28;01mNone\u001b[39;00m\n\u001b[32m   1750\u001b[39m called_always_called_hooks = \u001b[38;5;28mset\u001b[39m()\n",
      "\u001b[36mFile \u001b[39m\u001b[32mc:\\Users\\Arjit\\OneDrive\\Desktop\\RAG\\simple-local-rag\\venv\\Lib\\site-packages\\transformers\\models\\qwen2\\modeling_qwen2.py:1058\u001b[39m, in \u001b[36mQwen2Model.forward\u001b[39m\u001b[34m(self, input_ids, attention_mask, position_ids, past_key_values, inputs_embeds, use_cache, output_attentions, output_hidden_states, return_dict)\u001b[39m\n\u001b[32m   1048\u001b[39m     layer_outputs = \u001b[38;5;28mself\u001b[39m._gradient_checkpointing_func(\n\u001b[32m   1049\u001b[39m         decoder_layer.\u001b[34m__call__\u001b[39m,\n\u001b[32m   1050\u001b[39m         hidden_states,\n\u001b[32m   (...)\u001b[39m\u001b[32m   1055\u001b[39m         use_cache,\n\u001b[32m   1056\u001b[39m     )\n\u001b[32m   1057\u001b[39m \u001b[38;5;28;01melse\u001b[39;00m:\n\u001b[32m-> \u001b[39m\u001b[32m1058\u001b[39m     layer_outputs = \u001b[43mdecoder_layer\u001b[49m\u001b[43m(\u001b[49m\n\u001b[32m   1059\u001b[39m \u001b[43m        \u001b[49m\u001b[43mhidden_states\u001b[49m\u001b[43m,\u001b[49m\n\u001b[32m   1060\u001b[39m \u001b[43m        \u001b[49m\u001b[43mattention_mask\u001b[49m\u001b[43m=\u001b[49m\u001b[43mattention_mask\u001b[49m\u001b[43m,\u001b[49m\n\u001b[32m   1061\u001b[39m \u001b[43m        \u001b[49m\u001b[43mposition_ids\u001b[49m\u001b[43m=\u001b[49m\u001b[43mposition_ids\u001b[49m\u001b[43m,\u001b[49m\n\u001b[32m   1062\u001b[39m \u001b[43m        \u001b[49m\u001b[43mpast_key_value\u001b[49m\u001b[43m=\u001b[49m\u001b[43mpast_key_values\u001b[49m\u001b[43m,\u001b[49m\n\u001b[32m   1063\u001b[39m \u001b[43m        \u001b[49m\u001b[43moutput_attentions\u001b[49m\u001b[43m=\u001b[49m\u001b[43moutput_attentions\u001b[49m\u001b[43m,\u001b[49m\n\u001b[32m   1064\u001b[39m \u001b[43m        \u001b[49m\u001b[43muse_cache\u001b[49m\u001b[43m=\u001b[49m\u001b[43muse_cache\u001b[49m\u001b[43m,\u001b[49m\n\u001b[32m   1065\u001b[39m \u001b[43m    \u001b[49m\u001b[43m)\u001b[49m\n\u001b[32m   1067\u001b[39m hidden_states = layer_outputs[\u001b[32m0\u001b[39m]\n\u001b[32m   1069\u001b[39m \u001b[38;5;28;01mif\u001b[39;00m use_cache:\n",
      "\u001b[36mFile \u001b[39m\u001b[32mc:\\Users\\Arjit\\OneDrive\\Desktop\\RAG\\simple-local-rag\\venv\\Lib\\site-packages\\torch\\nn\\modules\\module.py:1736\u001b[39m, in \u001b[36mModule._wrapped_call_impl\u001b[39m\u001b[34m(self, *args, **kwargs)\u001b[39m\n\u001b[32m   1734\u001b[39m     \u001b[38;5;28;01mreturn\u001b[39;00m \u001b[38;5;28mself\u001b[39m._compiled_call_impl(*args, **kwargs)  \u001b[38;5;66;03m# type: ignore[misc]\u001b[39;00m\n\u001b[32m   1735\u001b[39m \u001b[38;5;28;01melse\u001b[39;00m:\n\u001b[32m-> \u001b[39m\u001b[32m1736\u001b[39m     \u001b[38;5;28;01mreturn\u001b[39;00m \u001b[38;5;28;43mself\u001b[39;49m\u001b[43m.\u001b[49m\u001b[43m_call_impl\u001b[49m\u001b[43m(\u001b[49m\u001b[43m*\u001b[49m\u001b[43margs\u001b[49m\u001b[43m,\u001b[49m\u001b[43m \u001b[49m\u001b[43m*\u001b[49m\u001b[43m*\u001b[49m\u001b[43mkwargs\u001b[49m\u001b[43m)\u001b[49m\n",
      "\u001b[36mFile \u001b[39m\u001b[32mc:\\Users\\Arjit\\OneDrive\\Desktop\\RAG\\simple-local-rag\\venv\\Lib\\site-packages\\torch\\nn\\modules\\module.py:1747\u001b[39m, in \u001b[36mModule._call_impl\u001b[39m\u001b[34m(self, *args, **kwargs)\u001b[39m\n\u001b[32m   1742\u001b[39m \u001b[38;5;66;03m# If we don't have any hooks, we want to skip the rest of the logic in\u001b[39;00m\n\u001b[32m   1743\u001b[39m \u001b[38;5;66;03m# this function, and just call forward.\u001b[39;00m\n\u001b[32m   1744\u001b[39m \u001b[38;5;28;01mif\u001b[39;00m \u001b[38;5;129;01mnot\u001b[39;00m (\u001b[38;5;28mself\u001b[39m._backward_hooks \u001b[38;5;129;01mor\u001b[39;00m \u001b[38;5;28mself\u001b[39m._backward_pre_hooks \u001b[38;5;129;01mor\u001b[39;00m \u001b[38;5;28mself\u001b[39m._forward_hooks \u001b[38;5;129;01mor\u001b[39;00m \u001b[38;5;28mself\u001b[39m._forward_pre_hooks\n\u001b[32m   1745\u001b[39m         \u001b[38;5;129;01mor\u001b[39;00m _global_backward_pre_hooks \u001b[38;5;129;01mor\u001b[39;00m _global_backward_hooks\n\u001b[32m   1746\u001b[39m         \u001b[38;5;129;01mor\u001b[39;00m _global_forward_hooks \u001b[38;5;129;01mor\u001b[39;00m _global_forward_pre_hooks):\n\u001b[32m-> \u001b[39m\u001b[32m1747\u001b[39m     \u001b[38;5;28;01mreturn\u001b[39;00m \u001b[43mforward_call\u001b[49m\u001b[43m(\u001b[49m\u001b[43m*\u001b[49m\u001b[43margs\u001b[49m\u001b[43m,\u001b[49m\u001b[43m \u001b[49m\u001b[43m*\u001b[49m\u001b[43m*\u001b[49m\u001b[43mkwargs\u001b[49m\u001b[43m)\u001b[49m\n\u001b[32m   1749\u001b[39m result = \u001b[38;5;28;01mNone\u001b[39;00m\n\u001b[32m   1750\u001b[39m called_always_called_hooks = \u001b[38;5;28mset\u001b[39m()\n",
      "\u001b[36mFile \u001b[39m\u001b[32mc:\\Users\\Arjit\\OneDrive\\Desktop\\RAG\\simple-local-rag\\venv\\Lib\\site-packages\\transformers\\models\\qwen2\\modeling_qwen2.py:770\u001b[39m, in \u001b[36mQwen2DecoderLayer.forward\u001b[39m\u001b[34m(self, hidden_states, attention_mask, position_ids, past_key_value, output_attentions, use_cache, **kwargs)\u001b[39m\n\u001b[32m    754\u001b[39m \u001b[38;5;250m\u001b[39m\u001b[33;03m\"\"\"\u001b[39;00m\n\u001b[32m    755\u001b[39m \u001b[33;03mArgs:\u001b[39;00m\n\u001b[32m    756\u001b[39m \u001b[33;03m    hidden_states (`torch.FloatTensor`): input to the layer of shape `(batch, seq_len, embed_dim)`\u001b[39;00m\n\u001b[32m   (...)\u001b[39m\u001b[32m    765\u001b[39m \u001b[33;03m    past_key_value (`Tuple(torch.FloatTensor)`, *optional*): cached past key and value projection states\u001b[39;00m\n\u001b[32m    766\u001b[39m \u001b[33;03m\"\"\"\u001b[39;00m\n\u001b[32m    768\u001b[39m residual = hidden_states\n\u001b[32m--> \u001b[39m\u001b[32m770\u001b[39m hidden_states = \u001b[38;5;28;43mself\u001b[39;49m\u001b[43m.\u001b[49m\u001b[43minput_layernorm\u001b[49m\u001b[43m(\u001b[49m\u001b[43mhidden_states\u001b[49m\u001b[43m)\u001b[49m\n\u001b[32m    772\u001b[39m \u001b[38;5;66;03m# Self Attention\u001b[39;00m\n\u001b[32m    773\u001b[39m hidden_states, self_attn_weights, present_key_value = \u001b[38;5;28mself\u001b[39m.self_attn(\n\u001b[32m    774\u001b[39m     hidden_states=hidden_states,\n\u001b[32m    775\u001b[39m     attention_mask=attention_mask,\n\u001b[32m   (...)\u001b[39m\u001b[32m    779\u001b[39m     use_cache=use_cache,\n\u001b[32m    780\u001b[39m )\n",
      "\u001b[36mFile \u001b[39m\u001b[32mc:\\Users\\Arjit\\OneDrive\\Desktop\\RAG\\simple-local-rag\\venv\\Lib\\site-packages\\torch\\nn\\modules\\module.py:1736\u001b[39m, in \u001b[36mModule._wrapped_call_impl\u001b[39m\u001b[34m(self, *args, **kwargs)\u001b[39m\n\u001b[32m   1734\u001b[39m     \u001b[38;5;28;01mreturn\u001b[39;00m \u001b[38;5;28mself\u001b[39m._compiled_call_impl(*args, **kwargs)  \u001b[38;5;66;03m# type: ignore[misc]\u001b[39;00m\n\u001b[32m   1735\u001b[39m \u001b[38;5;28;01melse\u001b[39;00m:\n\u001b[32m-> \u001b[39m\u001b[32m1736\u001b[39m     \u001b[38;5;28;01mreturn\u001b[39;00m \u001b[38;5;28;43mself\u001b[39;49m\u001b[43m.\u001b[49m\u001b[43m_call_impl\u001b[49m\u001b[43m(\u001b[49m\u001b[43m*\u001b[49m\u001b[43margs\u001b[49m\u001b[43m,\u001b[49m\u001b[43m \u001b[49m\u001b[43m*\u001b[49m\u001b[43m*\u001b[49m\u001b[43mkwargs\u001b[49m\u001b[43m)\u001b[49m\n",
      "\u001b[36mFile \u001b[39m\u001b[32mc:\\Users\\Arjit\\OneDrive\\Desktop\\RAG\\simple-local-rag\\venv\\Lib\\site-packages\\torch\\nn\\modules\\module.py:1747\u001b[39m, in \u001b[36mModule._call_impl\u001b[39m\u001b[34m(self, *args, **kwargs)\u001b[39m\n\u001b[32m   1742\u001b[39m \u001b[38;5;66;03m# If we don't have any hooks, we want to skip the rest of the logic in\u001b[39;00m\n\u001b[32m   1743\u001b[39m \u001b[38;5;66;03m# this function, and just call forward.\u001b[39;00m\n\u001b[32m   1744\u001b[39m \u001b[38;5;28;01mif\u001b[39;00m \u001b[38;5;129;01mnot\u001b[39;00m (\u001b[38;5;28mself\u001b[39m._backward_hooks \u001b[38;5;129;01mor\u001b[39;00m \u001b[38;5;28mself\u001b[39m._backward_pre_hooks \u001b[38;5;129;01mor\u001b[39;00m \u001b[38;5;28mself\u001b[39m._forward_hooks \u001b[38;5;129;01mor\u001b[39;00m \u001b[38;5;28mself\u001b[39m._forward_pre_hooks\n\u001b[32m   1745\u001b[39m         \u001b[38;5;129;01mor\u001b[39;00m _global_backward_pre_hooks \u001b[38;5;129;01mor\u001b[39;00m _global_backward_hooks\n\u001b[32m   1746\u001b[39m         \u001b[38;5;129;01mor\u001b[39;00m _global_forward_hooks \u001b[38;5;129;01mor\u001b[39;00m _global_forward_pre_hooks):\n\u001b[32m-> \u001b[39m\u001b[32m1747\u001b[39m     \u001b[38;5;28;01mreturn\u001b[39;00m \u001b[43mforward_call\u001b[49m\u001b[43m(\u001b[49m\u001b[43m*\u001b[49m\u001b[43margs\u001b[49m\u001b[43m,\u001b[49m\u001b[43m \u001b[49m\u001b[43m*\u001b[49m\u001b[43m*\u001b[49m\u001b[43mkwargs\u001b[49m\u001b[43m)\u001b[49m\n\u001b[32m   1749\u001b[39m result = \u001b[38;5;28;01mNone\u001b[39;00m\n\u001b[32m   1750\u001b[39m called_always_called_hooks = \u001b[38;5;28mset\u001b[39m()\n",
      "\u001b[36mFile \u001b[39m\u001b[32mc:\\Users\\Arjit\\OneDrive\\Desktop\\RAG\\simple-local-rag\\venv\\Lib\\site-packages\\transformers\\models\\qwen2\\modeling_qwen2.py:95\u001b[39m, in \u001b[36mQwen2RMSNorm.forward\u001b[39m\u001b[34m(self, hidden_states)\u001b[39m\n\u001b[32m     93\u001b[39m variance = hidden_states.pow(\u001b[32m2\u001b[39m).mean(-\u001b[32m1\u001b[39m, keepdim=\u001b[38;5;28;01mTrue\u001b[39;00m)\n\u001b[32m     94\u001b[39m hidden_states = hidden_states * torch.rsqrt(variance + \u001b[38;5;28mself\u001b[39m.variance_epsilon)\n\u001b[32m---> \u001b[39m\u001b[32m95\u001b[39m \u001b[38;5;28;01mreturn\u001b[39;00m \u001b[38;5;28;43mself\u001b[39;49m\u001b[43m.\u001b[49m\u001b[43mweight\u001b[49m\u001b[43m \u001b[49m\u001b[43m*\u001b[49m\u001b[43m \u001b[49m\u001b[43mhidden_states\u001b[49m\u001b[43m.\u001b[49m\u001b[43mto\u001b[49m\u001b[43m(\u001b[49m\u001b[43minput_dtype\u001b[49m\u001b[43m)\u001b[49m\n",
      "\u001b[31mRuntimeError\u001b[39m: CUDA error: out of memory\nCUDA kernel errors might be asynchronously reported at some other API call, so the stacktrace below might be incorrect.\nFor debugging consider passing CUDA_LAUNCH_BLOCKING=1\nCompile with `TORCH_USE_CUDA_DSA` to enable device-side assertions.\n"
     ]
    }
   ],
   "source": [
    "%%time \n",
    "\n",
    "input_ids = tokenizer(prompt, return_tensors=\"pt\").to(\"cuda\")\n",
    "\n",
    "outputs = model.generate(**input_ids, temperature=0.7, do_sample=True,max_new_tokens=256)\n",
    "output_text = tokenizer.decode(outputs[0])\n",
    "print(f\"Query: {query}\")\n",
    "print(f\"RAG answer: \\n{output_text.replace(prompt, '')}\")"
   ]
  },
  {
   "cell_type": "markdown",
   "id": "a2fa9465",
   "metadata": {},
   "source": [
    "Functionalize RAG pipeline"
   ]
  },
  {
   "cell_type": "code",
   "execution_count": 59,
   "id": "1fd54433",
   "metadata": {},
   "outputs": [],
   "source": [
    "def ask(query: str, \n",
    "        temperature: float=0.7, \n",
    "        max_new_tokens: int=256,\n",
    "        format_answer_text= True,\n",
    "        return_answer_only= True):\n",
    "\n",
    "        scores, indices = retrieve_relevant_resources(query=query, embeddings=embeddings)\n",
    "        context_items = [pages_and_chunks[i] for i in indices]\n",
    "        for i, item in enumerate(context_items): \n",
    "                item[\"score\"] = scores[i].cpu()\n",
    "        prompt = prompt_formatter(query=query,\n",
    "                              context_items=context_items)\n",
    "        input_ids = tokenizer(prompt, return_tensors=\"pt\").to(\"cuda\")\n",
    "        outputs = model.generate(**input_ids,\n",
    "                                 temperature=temperature,\n",
    "                                 do_sample=True,\n",
    "                                 max_new_tokens=max_new_tokens)\n",
    "        output_text = tokenizer.decode(outputs[0])\n",
    "\n",
    "        if format_answer_text:\n",
    "                # Replace prompt and special tokens\n",
    "                output_text = output_text.replace(prompt, \"\").replace(\"<bos>\", \"\").replace(\"<eos>\", \"\")\n",
    "        if return_answer_only:\n",
    "                return output_text\n",
    "\n",
    "        return output_text, context_items"
   ]
  },
  {
   "cell_type": "code",
   "execution_count": 60,
   "id": "c2bd829c",
   "metadata": {},
   "outputs": [
    {
     "name": "stdout",
     "output_type": "stream",
     "text": [
      "Query: Describe the process of digestion and absorption of nutrients in the human body.\n"
     ]
    },
    {
     "ename": "RuntimeError",
     "evalue": "CUDA error: out of memory\nCUDA kernel errors might be asynchronously reported at some other API call, so the stacktrace below might be incorrect.\nFor debugging consider passing CUDA_LAUNCH_BLOCKING=1\nCompile with `TORCH_USE_CUDA_DSA` to enable device-side assertions.\n",
     "output_type": "error",
     "traceback": [
      "\u001b[31m---------------------------------------------------------------------------\u001b[39m",
      "\u001b[31mRuntimeError\u001b[39m                              Traceback (most recent call last)",
      "\u001b[36mCell\u001b[39m\u001b[36m \u001b[39m\u001b[32mIn[60]\u001b[39m\u001b[32m, line 3\u001b[39m\n\u001b[32m      1\u001b[39m query = random.choice(query_list)\n\u001b[32m      2\u001b[39m \u001b[38;5;28mprint\u001b[39m(\u001b[33mf\u001b[39m\u001b[33m\"\u001b[39m\u001b[33mQuery: \u001b[39m\u001b[38;5;132;01m{\u001b[39;00mquery\u001b[38;5;132;01m}\u001b[39;00m\u001b[33m\"\u001b[39m)\n\u001b[32m----> \u001b[39m\u001b[32m3\u001b[39m \u001b[43mask\u001b[49m\u001b[43m(\u001b[49m\u001b[43mquery\u001b[49m\u001b[43m=\u001b[49m\u001b[43mquery\u001b[49m\u001b[43m,\u001b[49m\n\u001b[32m      4\u001b[39m \u001b[43m    \u001b[49m\u001b[43mtemperature\u001b[49m\u001b[43m=\u001b[49m\u001b[32;43m0.2\u001b[39;49m\u001b[43m,\u001b[49m\n\u001b[32m      5\u001b[39m \u001b[43m    \u001b[49m\u001b[43mreturn_answer_only\u001b[49m\u001b[43m=\u001b[49m\u001b[38;5;28;43;01mFalse\u001b[39;49;00m\u001b[43m)\u001b[49m\n",
      "\u001b[36mCell\u001b[39m\u001b[36m \u001b[39m\u001b[32mIn[59]\u001b[39m\u001b[32m, line 7\u001b[39m, in \u001b[36mask\u001b[39m\u001b[34m(query, temperature, max_new_tokens, format_answer_text, return_answer_only)\u001b[39m\n\u001b[32m      1\u001b[39m \u001b[38;5;28;01mdef\u001b[39;00m\u001b[38;5;250m \u001b[39m\u001b[34mask\u001b[39m(query: \u001b[38;5;28mstr\u001b[39m, \n\u001b[32m      2\u001b[39m         temperature: \u001b[38;5;28mfloat\u001b[39m=\u001b[32m0.7\u001b[39m, \n\u001b[32m      3\u001b[39m         max_new_tokens: \u001b[38;5;28mint\u001b[39m=\u001b[32m256\u001b[39m,\n\u001b[32m      4\u001b[39m         format_answer_text= \u001b[38;5;28;01mTrue\u001b[39;00m,\n\u001b[32m      5\u001b[39m         return_answer_only= \u001b[38;5;28;01mTrue\u001b[39;00m):\n\u001b[32m----> \u001b[39m\u001b[32m7\u001b[39m         scores, indices = \u001b[43mretrieve_relevant_resources\u001b[49m\u001b[43m(\u001b[49m\u001b[43mquery\u001b[49m\u001b[43m=\u001b[49m\u001b[43mquery\u001b[49m\u001b[43m,\u001b[49m\u001b[43m \u001b[49m\u001b[43membeddings\u001b[49m\u001b[43m=\u001b[49m\u001b[43membeddings\u001b[49m\u001b[43m)\u001b[49m\n\u001b[32m      8\u001b[39m         context_items = [pages_and_chunks[i] \u001b[38;5;28;01mfor\u001b[39;00m i \u001b[38;5;129;01min\u001b[39;00m indices]\n\u001b[32m      9\u001b[39m         \u001b[38;5;28;01mfor\u001b[39;00m i, item \u001b[38;5;129;01min\u001b[39;00m \u001b[38;5;28menumerate\u001b[39m(context_items): \n",
      "\u001b[36mCell\u001b[39m\u001b[36m \u001b[39m\u001b[32mIn[38]\u001b[39m\u001b[32m, line 5\u001b[39m, in \u001b[36mretrieve_relevant_resources\u001b[39m\u001b[34m(query, embeddings, model, n_resources_to_return, print_time)\u001b[39m\n\u001b[32m      1\u001b[39m \u001b[38;5;28;01mdef\u001b[39;00m\u001b[38;5;250m \u001b[39m\u001b[34mretrieve_relevant_resources\u001b[39m(query: \u001b[38;5;28mstr\u001b[39m, embeddings: torch.tensor, \n\u001b[32m      2\u001b[39m                                 model: SentenceTransformer=model, \n\u001b[32m      3\u001b[39m                                 n_resources_to_return: \u001b[38;5;28mint\u001b[39m=\u001b[32m5\u001b[39m,\n\u001b[32m      4\u001b[39m                                 print_time: \u001b[38;5;28mbool\u001b[39m=\u001b[38;5;28;01mTrue\u001b[39;00m):\n\u001b[32m----> \u001b[39m\u001b[32m5\u001b[39m     query_embedding = \u001b[43mmodel\u001b[49m\u001b[43m.\u001b[49m\u001b[43mencode\u001b[49m\u001b[43m(\u001b[49m\u001b[43mquery\u001b[49m\u001b[43m,\u001b[49m\u001b[43m \u001b[49m\u001b[43mconvert_to_tensor\u001b[49m\u001b[43m=\u001b[49m\u001b[38;5;28;43;01mTrue\u001b[39;49;00m\u001b[43m)\u001b[49m\n\u001b[32m      6\u001b[39m     start_time = timer()\n\u001b[32m      7\u001b[39m     dot_scores = util.dot_score(query_embedding, embeddings)[\u001b[32m0\u001b[39m]\n",
      "\u001b[36mFile \u001b[39m\u001b[32mc:\\Users\\Arjit\\OneDrive\\Desktop\\RAG\\simple-local-rag\\venv\\Lib\\site-packages\\sentence_transformers\\SentenceTransformer.py:346\u001b[39m, in \u001b[36mSentenceTransformer.encode\u001b[39m\u001b[34m(self, sentences, prompt_name, prompt, batch_size, show_progress_bar, output_value, convert_to_numpy, convert_to_tensor, device, normalize_embeddings)\u001b[39m\n\u001b[32m    344\u001b[39m sentences_batch = sentences_sorted[start_index : start_index + batch_size]\n\u001b[32m    345\u001b[39m features = \u001b[38;5;28mself\u001b[39m.tokenize(sentences_batch)\n\u001b[32m--> \u001b[39m\u001b[32m346\u001b[39m features = \u001b[43mbatch_to_device\u001b[49m\u001b[43m(\u001b[49m\u001b[43mfeatures\u001b[49m\u001b[43m,\u001b[49m\u001b[43m \u001b[49m\u001b[43mdevice\u001b[49m\u001b[43m)\u001b[49m\n\u001b[32m    347\u001b[39m features.update(extra_features)\n\u001b[32m    349\u001b[39m \u001b[38;5;28;01mwith\u001b[39;00m torch.no_grad():\n",
      "\u001b[36mFile \u001b[39m\u001b[32mc:\\Users\\Arjit\\OneDrive\\Desktop\\RAG\\simple-local-rag\\venv\\Lib\\site-packages\\sentence_transformers\\util.py:357\u001b[39m, in \u001b[36mbatch_to_device\u001b[39m\u001b[34m(batch, target_device)\u001b[39m\n\u001b[32m    355\u001b[39m \u001b[38;5;28;01mfor\u001b[39;00m key \u001b[38;5;129;01min\u001b[39;00m batch:\n\u001b[32m    356\u001b[39m     \u001b[38;5;28;01mif\u001b[39;00m \u001b[38;5;28misinstance\u001b[39m(batch[key], Tensor):\n\u001b[32m--> \u001b[39m\u001b[32m357\u001b[39m         batch[key] = \u001b[43mbatch\u001b[49m\u001b[43m[\u001b[49m\u001b[43mkey\u001b[49m\u001b[43m]\u001b[49m\u001b[43m.\u001b[49m\u001b[43mto\u001b[49m\u001b[43m(\u001b[49m\u001b[43mtarget_device\u001b[49m\u001b[43m)\u001b[49m\n\u001b[32m    358\u001b[39m \u001b[38;5;28;01mreturn\u001b[39;00m batch\n",
      "\u001b[31mRuntimeError\u001b[39m: CUDA error: out of memory\nCUDA kernel errors might be asynchronously reported at some other API call, so the stacktrace below might be incorrect.\nFor debugging consider passing CUDA_LAUNCH_BLOCKING=1\nCompile with `TORCH_USE_CUDA_DSA` to enable device-side assertions.\n"
     ]
    }
   ],
   "source": [
    "query = random.choice(query_list)\n",
    "print(f\"Query: {query}\")\n",
    "ask(query=query,\n",
    "    temperature=0.2,\n",
    "    return_answer_only=False)"
   ]
  },
  {
   "cell_type": "code",
   "execution_count": null,
   "id": "4e6d2bbd",
   "metadata": {},
   "outputs": [],
   "source": []
  }
 ],
 "metadata": {
  "kernelspec": {
   "display_name": "venv",
   "language": "python",
   "name": "python3"
  },
  "language_info": {
   "codemirror_mode": {
    "name": "ipython",
    "version": 3
   },
   "file_extension": ".py",
   "mimetype": "text/x-python",
   "name": "python",
   "nbconvert_exporter": "python",
   "pygments_lexer": "ipython3",
   "version": "3.12.9"
  }
 },
 "nbformat": 4,
 "nbformat_minor": 5
}
